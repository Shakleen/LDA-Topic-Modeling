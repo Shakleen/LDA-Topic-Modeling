{
 "cells": [
  {
   "cell_type": "markdown",
   "metadata": {},
   "source": [
    "# Topic Modeling using LDA\n",
    "\n",
    "Originally, I was introduced to __Latent Dirichlet Distribution__ for topic modelling in **CS447 Natural Language Processing** course. I am taking the course as part of the **Master's of Data Science** program at the **University of Rochester**. Topic modeling useing LDA was the first assignment of the course. This is an extension of that assignment where I go deeper into experimenting with the gensim LDA model. I also dive into evaluation metrics like **perplexity** and **coherence score** to evaluate the LDA model.\n",
    "\n",
    "This project is also my introduction to using **BlueHive**, the amazing cloud computing resource, provided by **CIRC** at the UoR. The project wouldn't have been possible without it."
   ]
  },
  {
   "cell_type": "code",
   "execution_count": 1,
   "metadata": {},
   "outputs": [],
   "source": [
    "import warnings\n",
    "warnings.filterwarnings(\"ignore\")\n",
    "\n",
    "import re\n",
    "import pandas as pd\n",
    "from pprint import pprint\n",
    "\n",
    "# Gensim\n",
    "import gensim\n",
    "import gensim.corpora as corpora\n",
    "from gensim.utils import simple_preprocess\n",
    "from gensim.models import CoherenceModel\n",
    "\n",
    "# spacy for lemmatization\n",
    "import spacy\n",
    "\n",
    "# Plotting tools\n",
    "import pyLDAvis\n",
    "import pyLDAvis.gensim  # don't skip this\n",
    "import matplotlib.pyplot as plt\n",
    "%matplotlib inline\n",
    "\n",
    "# Enable logging for gensim - optional\n",
    "import logging\n",
    "logging.basicConfig(format='%(asctime)s : %(levelname)s : %(message)s', level=logging.ERROR)\n",
    "\n",
    "# NLTK\n",
    "import nltk\n",
    "from nltk.corpus import stopwords\n",
    "from nltk.tokenize import word_tokenize\n",
    "\n",
    "# Typing\n",
    "from typing import List"
   ]
  },
  {
   "cell_type": "markdown",
   "metadata": {},
   "source": [
    "## CIRC Initialization\n",
    "\n",
    "This project was done on the University of Rochester's cloud computing services provided by CIRC. Somethings need to be setup for it specifically."
   ]
  },
  {
   "cell_type": "code",
   "execution_count": 2,
   "metadata": {},
   "outputs": [],
   "source": [
    "# Required for CIRC.jupyter\n",
    "import ssl\n",
    "\n",
    "try:\n",
    "    _create_unverified_https_context = ssl._create_unverified_context\n",
    "except AttributeError:\n",
    "    pass\n",
    "else:\n",
    "    ssl._create_default_https_context = _create_unverified_https_context"
   ]
  },
  {
   "cell_type": "markdown",
   "metadata": {},
   "source": [
    "## 1. Importing Dataset\n",
    "\n",
    "I'll be using the **News Group** dataset to perform topic modeling."
   ]
  },
  {
   "cell_type": "code",
   "execution_count": 3,
   "metadata": {},
   "outputs": [
    {
     "data": {
      "text/html": [
       "<div>\n",
       "<style scoped>\n",
       "    .dataframe tbody tr th:only-of-type {\n",
       "        vertical-align: middle;\n",
       "    }\n",
       "\n",
       "    .dataframe tbody tr th {\n",
       "        vertical-align: top;\n",
       "    }\n",
       "\n",
       "    .dataframe thead th {\n",
       "        text-align: right;\n",
       "    }\n",
       "</style>\n",
       "<table border=\"1\" class=\"dataframe\">\n",
       "  <thead>\n",
       "    <tr style=\"text-align: right;\">\n",
       "      <th></th>\n",
       "      <th>content</th>\n",
       "      <th>target</th>\n",
       "      <th>target_names</th>\n",
       "    </tr>\n",
       "  </thead>\n",
       "  <tbody>\n",
       "    <tr>\n",
       "      <th>0</th>\n",
       "      <td>From: lerxst@wam.umd.edu (where's my thing)\\nS...</td>\n",
       "      <td>7</td>\n",
       "      <td>rec.autos</td>\n",
       "    </tr>\n",
       "    <tr>\n",
       "      <th>1</th>\n",
       "      <td>From: guykuo@carson.u.washington.edu (Guy Kuo)...</td>\n",
       "      <td>4</td>\n",
       "      <td>comp.sys.mac.hardware</td>\n",
       "    </tr>\n",
       "    <tr>\n",
       "      <th>2</th>\n",
       "      <td>From: twillis@ec.ecn.purdue.edu (Thomas E Will...</td>\n",
       "      <td>4</td>\n",
       "      <td>comp.sys.mac.hardware</td>\n",
       "    </tr>\n",
       "    <tr>\n",
       "      <th>3</th>\n",
       "      <td>From: jgreen@amber (Joe Green)\\nSubject: Re: W...</td>\n",
       "      <td>1</td>\n",
       "      <td>comp.graphics</td>\n",
       "    </tr>\n",
       "    <tr>\n",
       "      <th>4</th>\n",
       "      <td>From: jcm@head-cfa.harvard.edu (Jonathan McDow...</td>\n",
       "      <td>14</td>\n",
       "      <td>sci.space</td>\n",
       "    </tr>\n",
       "  </tbody>\n",
       "</table>\n",
       "</div>"
      ],
      "text/plain": [
       "                                             content  target  \\\n",
       "0  From: lerxst@wam.umd.edu (where's my thing)\\nS...       7   \n",
       "1  From: guykuo@carson.u.washington.edu (Guy Kuo)...       4   \n",
       "2  From: twillis@ec.ecn.purdue.edu (Thomas E Will...       4   \n",
       "3  From: jgreen@amber (Joe Green)\\nSubject: Re: W...       1   \n",
       "4  From: jcm@head-cfa.harvard.edu (Jonathan McDow...      14   \n",
       "\n",
       "            target_names  \n",
       "0              rec.autos  \n",
       "1  comp.sys.mac.hardware  \n",
       "2  comp.sys.mac.hardware  \n",
       "3          comp.graphics  \n",
       "4              sci.space  "
      ]
     },
     "execution_count": 3,
     "metadata": {},
     "output_type": "execute_result"
    }
   ],
   "source": [
    "df = pd.read_json('https://raw.githubusercontent.com/selva86/datasets/master/newsgroups.json')\n",
    "df.head()"
   ]
  },
  {
   "cell_type": "markdown",
   "metadata": {},
   "source": [
    "There are 20 topics in the dataset and the dataset already labels each of the topics."
   ]
  },
  {
   "cell_type": "code",
   "execution_count": 4,
   "metadata": {},
   "outputs": [
    {
     "data": {
      "text/plain": [
       "array(['rec.autos', 'comp.sys.mac.hardware', 'comp.graphics', 'sci.space',\n",
       "       'talk.politics.guns', 'sci.med', 'comp.sys.ibm.pc.hardware',\n",
       "       'comp.os.ms-windows.misc', 'rec.motorcycles', 'talk.religion.misc',\n",
       "       'misc.forsale', 'alt.atheism', 'sci.electronics', 'comp.windows.x',\n",
       "       'rec.sport.hockey', 'rec.sport.baseball', 'soc.religion.christian',\n",
       "       'talk.politics.mideast', 'talk.politics.misc', 'sci.crypt'],\n",
       "      dtype=object)"
      ]
     },
     "execution_count": 4,
     "metadata": {},
     "output_type": "execute_result"
    }
   ],
   "source": [
    "df.target_names.unique()"
   ]
  },
  {
   "cell_type": "markdown",
   "metadata": {},
   "source": [
    "## 2. Dataset Preprocessing\n",
    "\n",
    "Before feeding the data into an LDA model, the text needs to be processed for better accuracy. In particular, I'll be first cleaning the text by removing artifacts and then perform word tokenization and lemmatization."
   ]
  },
  {
   "cell_type": "markdown",
   "metadata": {},
   "source": [
    "### 2.1. Data Cleaning"
   ]
  },
  {
   "cell_type": "markdown",
   "metadata": {},
   "source": [
    "#### 2.1.1. Removing Email Addresses"
   ]
  },
  {
   "cell_type": "code",
   "execution_count": 5,
   "metadata": {},
   "outputs": [],
   "source": [
    "def remove_email_addresses(text: str) -> str:\n",
    "    return re.sub(r\"\\S*@\\S*\\s?\", \"\", text)"
   ]
  },
  {
   "cell_type": "markdown",
   "metadata": {},
   "source": [
    "#### 2.1.2. Substitute Multiple Spaces with a Single Space"
   ]
  },
  {
   "cell_type": "code",
   "execution_count": 6,
   "metadata": {},
   "outputs": [],
   "source": [
    "def remove_multiple_space_chars(text: str) -> str:\n",
    "    return re.sub(r\"\\s+\", \" \", text)"
   ]
  },
  {
   "cell_type": "markdown",
   "metadata": {},
   "source": [
    "#### 2.1.3. Removing Punctuations"
   ]
  },
  {
   "cell_type": "code",
   "execution_count": 7,
   "metadata": {},
   "outputs": [],
   "source": [
    "def remove_punctuations(text: str) -> str:\n",
    "    return re.sub(r\"[^0-9a-zA-Z\\s]\", \"\", text)"
   ]
  },
  {
   "cell_type": "markdown",
   "metadata": {},
   "source": [
    "#### 2.1.4. Removing Stopwords"
   ]
  },
  {
   "cell_type": "code",
   "execution_count": 8,
   "metadata": {},
   "outputs": [
    {
     "name": "stderr",
     "output_type": "stream",
     "text": [
      "[nltk_data] Downloading package stopwords to\n",
      "[nltk_data]     /home/sishfar/nltk_data...\n",
      "[nltk_data]   Package stopwords is already up-to-date!\n"
     ]
    }
   ],
   "source": [
    "nltk.download('stopwords')\n",
    "stop_words = stopwords.words('english')\n",
    "stop_words.extend(['from', 'subject', 're', 'edu', 'use'])"
   ]
  },
  {
   "cell_type": "code",
   "execution_count": 9,
   "metadata": {},
   "outputs": [],
   "source": [
    "stop_word_pattern = r'\\b' + r'\\b|\\b'.join(stop_words) + '\\b'\n",
    "\n",
    "def remove_stop_words(text: str) -> str:\n",
    "    return re.sub(stop_word_pattern, '', text)"
   ]
  },
  {
   "cell_type": "markdown",
   "metadata": {},
   "source": [
    "#### 2.1.5. Chaining Functions"
   ]
  },
  {
   "cell_type": "code",
   "execution_count": 10,
   "metadata": {},
   "outputs": [],
   "source": [
    "def clean_text(text: str) -> str:\n",
    "    clean_funcs = [remove_email_addresses,\n",
    "                  remove_punctuations,\n",
    "                  remove_stop_words,\n",
    "                  remove_multiple_space_chars]\n",
    "    \n",
    "    for func in clean_funcs:\n",
    "        text = func(text)\n",
    "        \n",
    "    return text"
   ]
  },
  {
   "cell_type": "code",
   "execution_count": 11,
   "metadata": {},
   "outputs": [
    {
     "data": {
      "text/plain": [
       "'This test'"
      ]
     },
     "execution_count": 11,
     "metadata": {},
     "output_type": "execute_result"
    }
   ],
   "source": [
    "clean_text(\"This is$ #a 'test'\")"
   ]
  },
  {
   "cell_type": "markdown",
   "metadata": {},
   "source": [
    "The `clean_text` function can be called with pandas `apply` method to clean the entire **content** column."
   ]
  },
  {
   "cell_type": "code",
   "execution_count": 12,
   "metadata": {},
   "outputs": [
    {
     "name": "stdout",
     "output_type": "stream",
     "text": [
      "Before cleaning\n",
      "From: lerxst@wam.umd.edu (where's my thing)\n",
      "Subject: WHAT car is this!?\n",
      "Nntp-Posting-Host: rac3.wam.umd.edu\n",
      "Organization: University of Maryland, College Park\n",
      "Lines: 15\n",
      "\n",
      " I was wondering if anyone out there could enlighten me on this car I saw\n",
      "the other day. It was a 2-door sports car, looked to be from the late 60s/\n",
      "early 70s. It was called a Bricklin. The doors were really small. In addition,\n",
      "the front bumper was separate from the rest of the body. This is \n",
      "all I know. If anyone can tellme a model name, engine specs, years\n",
      "of production, where this car is made, history, or whatever info you\n",
      "have on this funky looking car, please e-mail.\n",
      "\n",
      "Thanks,\n",
      "- IL\n",
      "   ---- brought to you by your neighborhood Lerxst ----\n",
      "\n",
      "\n",
      "\n",
      "\n",
      "\n"
     ]
    }
   ],
   "source": [
    "print(f\"Before cleaning\\n{df.content.iloc[0]}\")"
   ]
  },
  {
   "cell_type": "code",
   "execution_count": 13,
   "metadata": {},
   "outputs": [],
   "source": [
    "df.content = df.content.apply(lambda x: clean_text(x))"
   ]
  },
  {
   "cell_type": "code",
   "execution_count": 14,
   "metadata": {
    "scrolled": false
   },
   "outputs": [
    {
     "name": "stdout",
     "output_type": "stream",
     "text": [
      "After cleaning\n",
      "From wheres thing Subject WHAT car NntpPostingHost rac3wamumdedu Organization University Maryland College Park Lines 15 I wondering anyone could enlighten car I saw day It 2door sports car looked late 60s early 70s It called Bricklin The doors really small In addition front bumper separate rest body This I know If anyone tellme model name engine specs years production car made history whatever info funky looking car please email Thanks IL brought neighborhood Lerxst \n"
     ]
    }
   ],
   "source": [
    "print(f\"After cleaning\\n{df.content.iloc[0]}\")"
   ]
  },
  {
   "cell_type": "markdown",
   "metadata": {},
   "source": [
    "### 2.2. Token Processing"
   ]
  },
  {
   "cell_type": "markdown",
   "metadata": {},
   "source": [
    "#### 2.2.1. Tokenization\n",
    "\n",
    "Breaking a sentence into list of words it is composed of. I'll also convert the sentence to only have lower case characters."
   ]
  },
  {
   "cell_type": "code",
   "execution_count": 15,
   "metadata": {},
   "outputs": [
    {
     "data": {
      "text/plain": [
       "[['this', 'is', 'a', 'simple', 'test'], ['this', 'is', 'a', '2nd', 'test']]"
      ]
     },
     "execution_count": 15,
     "metadata": {},
     "output_type": "execute_result"
    }
   ],
   "source": [
    "def tokenize(texts_in: List[str]) -> List[List[str]]:\n",
    "    return [word_tokenize(text.lower())\n",
    "           for text in texts_in]\n",
    "\n",
    "\n",
    "tokenize([\"This is a simple test\", \"This is a 2nd test\"])"
   ]
  },
  {
   "cell_type": "code",
   "execution_count": 16,
   "metadata": {
    "scrolled": true
   },
   "outputs": [],
   "source": [
    "data = df.content.values.tolist()\n",
    "data_tokens = tokenize(data)"
   ]
  },
  {
   "cell_type": "code",
   "execution_count": 17,
   "metadata": {},
   "outputs": [
    {
     "name": "stdout",
     "output_type": "stream",
     "text": [
      "['from', 'wheres', 'thing', 'subject', 'what', 'car', 'nntppostinghost', 'rac3wamumdedu', 'organization', 'university', 'maryland', 'college', 'park', 'lines', '15', 'i', 'wondering', 'anyone', 'could', 'enlighten', 'car', 'i', 'saw', 'day', 'it', '2door', 'sports', 'car', 'looked', 'late', '60s', 'early', '70s', 'it', 'called', 'bricklin', 'the', 'doors', 'really', 'small', 'in', 'addition', 'front', 'bumper', 'separate', 'rest', 'body', 'this', 'i', 'know', 'if', 'anyone', 'tellme', 'model', 'name', 'engine', 'specs', 'years', 'production', 'car', 'made', 'history', 'whatever', 'info', 'funky', 'looking', 'car', 'please', 'email', 'thanks', 'il', 'brought', 'neighborhood', 'lerxst']\n"
     ]
    }
   ],
   "source": [
    "print(data_tokens[0])"
   ]
  },
  {
   "cell_type": "markdown",
   "metadata": {},
   "source": [
    "#### 2.2.2. Creating n-grams\n",
    "\n",
    "An n-gram is a sequence of n-words that are commonly occuring. I'm mostly interested in bigrams and trigrams."
   ]
  },
  {
   "cell_type": "markdown",
   "metadata": {},
   "source": [
    "##### Creating n-gram models"
   ]
  },
  {
   "cell_type": "code",
   "execution_count": 18,
   "metadata": {},
   "outputs": [],
   "source": [
    "bigram = gensim.models.Phrases(data_tokens, \n",
    "                               min_count=5, \n",
    "                               threshold=100)\n",
    "trigram = gensim.models.Phrases(bigram[data_tokens], \n",
    "                                threshold=100)"
   ]
  },
  {
   "cell_type": "markdown",
   "metadata": {},
   "source": [
    "##### Creating Phraser\n",
    "\n",
    "Faster way to get a sentence clubbed as a trigram/bigram"
   ]
  },
  {
   "cell_type": "code",
   "execution_count": 19,
   "metadata": {},
   "outputs": [],
   "source": [
    "bigram_mod = gensim.models.phrases.Phraser(bigram)\n",
    "trigram_mod = gensim.models.phrases.Phraser(trigram)"
   ]
  },
  {
   "cell_type": "code",
   "execution_count": 20,
   "metadata": {},
   "outputs": [
    {
     "name": "stdout",
     "output_type": "stream",
     "text": [
      "['from', 'wheres', 'thing', 'subject', 'what', 'car', 'nntppostinghost_rac3wamumdedu', 'organization', 'university_maryland_college', 'park', 'lines', '15', 'i', 'wondering_anyone', 'could', 'enlighten', 'car', 'i', 'saw', 'day', 'it', '2door', 'sports', 'car', 'looked', 'late_60s', 'early_70s', 'it', 'called', 'bricklin', 'the', 'doors', 'really', 'small', 'in_addition', 'front_bumper', 'separate', 'rest', 'body', 'this', 'i', 'know', 'if', 'anyone', 'tellme', 'model', 'name', 'engine', 'specs', 'years', 'production', 'car', 'made', 'history', 'whatever', 'info', 'funky', 'looking', 'car', 'please', 'email', 'thanks', 'il', 'brought', 'neighborhood', 'lerxst']\n"
     ]
    }
   ],
   "source": [
    "print(trigram_mod[bigram_mod[data_tokens[0]]])"
   ]
  },
  {
   "cell_type": "markdown",
   "metadata": {},
   "source": [
    "##### Convertion Functions"
   ]
  },
  {
   "cell_type": "code",
   "execution_count": 21,
   "metadata": {},
   "outputs": [],
   "source": [
    "def make_bigrams(texts: List[List[str]]) -> List[List[str]]:\n",
    "    return [bigram_mod[text] for text in texts]"
   ]
  },
  {
   "cell_type": "code",
   "execution_count": 22,
   "metadata": {},
   "outputs": [],
   "source": [
    "def make_trigrams(texts: List[List[str]]) -> List[List[str]]:\n",
    "    return [trigram_mod[bigram_mod[text]]\n",
    "           for text in texts]"
   ]
  },
  {
   "cell_type": "markdown",
   "metadata": {},
   "source": [
    "#### 2.2.3. Lemmatization\n",
    "\n",
    "Breaking words into their dictionary forms or lemmas."
   ]
  },
  {
   "cell_type": "code",
   "execution_count": 23,
   "metadata": {},
   "outputs": [],
   "source": [
    "def lemmatization(texts_in: List[List[str]], \n",
    "                  allowed_postags=['NOUN', 'ADJ', 'VERB', 'ADV']\n",
    "                 ) -> List[List[str]]:\n",
    "    nlp = spacy.load('en_core_web_sm', disable=['parser', 'ner'])\n",
    "    \n",
    "    return [[token.lemma_ \n",
    "             for token in nlp(\" \".join(text)) \n",
    "             if token.pos_ in allowed_postags]\n",
    "            for text in texts_in]"
   ]
  },
  {
   "cell_type": "code",
   "execution_count": 24,
   "metadata": {},
   "outputs": [
    {
     "name": "stdout",
     "output_type": "stream",
     "text": [
      "[['s', 'thing', 'subject', 'car', 'nntppostinghost', 'organization', 'park', 'line', 'wonder', 'enlighten', 'car', 'see', 'day', 'sport', 'car', 'look', 'late', '60', 'early', '70', 'call', 'door', 'really', 'small', 'addition', 'front', 'bumper', 'separate', 'rest', 'body', 'know', 'tellme', 'model', 'name', 'engine', 'spec', 'year', 'production', 'car', 'make', 'history', 'info', 'funky', 'look', 'car', 'email', 'thank', 'bring', 'neighborhood', 'lerxst']]\n"
     ]
    }
   ],
   "source": [
    "print(lemmatization([data_tokens[0]]))"
   ]
  },
  {
   "cell_type": "markdown",
   "metadata": {},
   "source": [
    "#### 2.2.4. Combining Token Processing\n",
    "\n",
    "In this step, I'll combine the previous making n-grams and lemmatization steps together."
   ]
  },
  {
   "cell_type": "code",
   "execution_count": 25,
   "metadata": {},
   "outputs": [
    {
     "name": "stdout",
     "output_type": "stream",
     "text": [
      "[['s', 'thing', 'subject', 'car', 'organization', 'university_maryland_college', 'park', 'line', 'enlighten', 'car', 'see', 'day', 'sport', 'car', 'look', 'late_60s', 'call', 'door', 'really', 'small', 'in_addition', 'separate', 'rest', 'body', 'know', 'tellme', 'model', 'name', 'engine', 'spec', 'year', 'production', 'car', 'make', 'history', 'info', 'funky', 'look', 'car', 'email', 'thank', 'bring', 'neighborhood', 'lerxst']]\n"
     ]
    }
   ],
   "source": [
    "def process_tokens(texts_in: List[List[str]]) -> List[List[str]]:\n",
    "    word_trigrams = make_trigrams(texts_in)\n",
    "    return lemmatization(word_trigrams)\n",
    "\n",
    "print(process_tokens([data_tokens[0]]))"
   ]
  },
  {
   "cell_type": "code",
   "execution_count": 26,
   "metadata": {},
   "outputs": [],
   "source": [
    "data_tokens = process_tokens(data_tokens)"
   ]
  },
  {
   "cell_type": "code",
   "execution_count": 27,
   "metadata": {},
   "outputs": [
    {
     "name": "stdout",
     "output_type": "stream",
     "text": [
      "['s', 'thing', 'subject', 'car', 'organization', 'university_maryland_college', 'park', 'line', 'enlighten', 'car', 'see', 'day', 'sport', 'car', 'look', 'late_60s', 'call', 'door', 'really', 'small', 'in_addition', 'separate', 'rest', 'body', 'know', 'tellme', 'model', 'name', 'engine', 'spec', 'year', 'production', 'car', 'make', 'history', 'info', 'funky', 'look', 'car', 'email', 'thank', 'bring', 'neighborhood', 'lerxst']\n"
     ]
    }
   ],
   "source": [
    "print(data_tokens[0])"
   ]
  },
  {
   "cell_type": "markdown",
   "metadata": {},
   "source": [
    "## 3. Topic Modeling"
   ]
  },
  {
   "cell_type": "markdown",
   "metadata": {},
   "source": [
    "### 3.1. Preparing LDA Arguments\n",
    "\n",
    "LDA needs two arguments \n",
    "\n",
    "1. A dictionary mapping integers to word tokens.\n",
    "2. A term frequency document matching token id to frequency."
   ]
  },
  {
   "cell_type": "markdown",
   "metadata": {},
   "source": [
    "#### 3.1.1. Dictionary\n",
    "\n",
    "This is a simple mapping of an integer to a token."
   ]
  },
  {
   "cell_type": "code",
   "execution_count": 28,
   "metadata": {},
   "outputs": [],
   "source": [
    "id2word = corpora.Dictionary(data_tokens)"
   ]
  },
  {
   "cell_type": "code",
   "execution_count": 29,
   "metadata": {},
   "outputs": [
    {
     "name": "stdout",
     "output_type": "stream",
     "text": [
      "[(0, 1), (1, 1), (2, 1), (3, 5), (4, 1), (5, 1), (6, 1), (7, 1), (8, 1), (9, 1), (10, 1), (11, 1), (12, 1), (13, 1), (14, 1), (15, 1), (16, 1), (17, 2), (18, 1), (19, 1), (20, 1), (21, 1), (22, 1), (23, 1), (24, 1), (25, 1), (26, 1), (27, 1), (28, 1), (29, 1), (30, 1), (31, 1), (32, 1), (33, 1), (34, 1), (35, 1), (36, 1), (37, 1), (38, 1)]\n"
     ]
    }
   ],
   "source": [
    "print(id2word.doc2bow(data_tokens[0]))"
   ]
  },
  {
   "cell_type": "markdown",
   "metadata": {},
   "source": [
    "#### 3.1.2. Term Document Frequency\n",
    "\n",
    "A list of token ids and their frequency in the dataset."
   ]
  },
  {
   "cell_type": "code",
   "execution_count": 30,
   "metadata": {},
   "outputs": [],
   "source": [
    "corpus = [id2word.doc2bow(tokens)\n",
    "         for tokens in data_tokens]"
   ]
  },
  {
   "cell_type": "code",
   "execution_count": 31,
   "metadata": {},
   "outputs": [
    {
     "name": "stdout",
     "output_type": "stream",
     "text": [
      "[(0, 1), (1, 1), (2, 1), (3, 5), (4, 1), (5, 1), (6, 1), (7, 1), (8, 1), (9, 1), (10, 1), (11, 1), (12, 1), (13, 1), (14, 1), (15, 1), (16, 1), (17, 2), (18, 1), (19, 1), (20, 1), (21, 1), (22, 1), (23, 1), (24, 1), (25, 1), (26, 1), (27, 1), (28, 1), (29, 1), (30, 1), (31, 1), (32, 1), (33, 1), (34, 1), (35, 1), (36, 1), (37, 1), (38, 1)]\n"
     ]
    }
   ],
   "source": [
    "print(corpus[0])"
   ]
  },
  {
   "cell_type": "markdown",
   "metadata": {},
   "source": [
    "This is hard to parse. Let's replace the token id with the actual word."
   ]
  },
  {
   "cell_type": "code",
   "execution_count": 32,
   "metadata": {},
   "outputs": [
    {
     "name": "stdout",
     "output_type": "stream",
     "text": [
      "[[('body', 1), ('bring', 1), ('call', 1), ('car', 5), ('day', 1), ('door', 1), ('email', 1), ('engine', 1), ('enlighten', 1), ('funky', 1), ('history', 1), ('in_addition', 1), ('info', 1), ('know', 1), ('late_60s', 1), ('lerxst', 1), ('line', 1), ('look', 2), ('make', 1), ('model', 1), ('name', 1), ('neighborhood', 1), ('organization', 1), ('park', 1), ('production', 1), ('really', 1), ('rest', 1), ('s', 1), ('see', 1), ('separate', 1), ('small', 1), ('spec', 1), ('sport', 1), ('subject', 1), ('tellme', 1), ('thank', 1), ('thing', 1), ('university_maryland_college', 1), ('year', 1)]]\n"
     ]
    }
   ],
   "source": [
    "print([[(id2word[id], freq) \n",
    "        for id, freq in cp] \n",
    "       for cp in corpus[:1]])"
   ]
  },
  {
   "cell_type": "markdown",
   "metadata": {},
   "source": [
    "### 3.2. Creating LDA Model"
   ]
  },
  {
   "cell_type": "markdown",
   "metadata": {},
   "source": [
    "#### 3.2.1. Training"
   ]
  },
  {
   "cell_type": "code",
   "execution_count": 33,
   "metadata": {},
   "outputs": [],
   "source": [
    "warnings.filterwarnings(\"ignore\")\n",
    "lda_model = gensim.models.ldamodel.LdaModel(corpus=corpus,\n",
    "                                           id2word=id2word,\n",
    "                                           num_topics=20, \n",
    "                                           random_state=100,\n",
    "                                           update_every=1,\n",
    "                                           chunksize=100,\n",
    "                                           passes=10,\n",
    "                                           alpha='auto',\n",
    "                                           per_word_topics=True)"
   ]
  },
  {
   "cell_type": "markdown",
   "metadata": {},
   "source": [
    "#### 3.2.2. Understanding the Topics"
   ]
  },
  {
   "cell_type": "code",
   "execution_count": 34,
   "metadata": {
    "scrolled": false
   },
   "outputs": [
    {
     "name": "stdout",
     "output_type": "stream",
     "text": [
      "[(0,\n",
      "  '0.030*\"file\" + 0.030*\"program\" + 0.027*\"use\" + 0.025*\"window\" + 0.017*\"run\" '\n",
      "  '+ 0.015*\"set\" + 0.014*\"entry\" + 0.012*\"application\" + 0.011*\"disk\" + '\n",
      "  '0.010*\"problem\"'),\n",
      " (1,\n",
      "  '0.039*\"drive\" + 0.020*\"use\" + 0.016*\"chip\" + 0.015*\"cpu\" + 0.014*\"pin\" + '\n",
      "  '0.011*\"work\" + 0.011*\"connect\" + 0.011*\"slave\" + 0.010*\"board\" + '\n",
      "  '0.010*\"sin\"'),\n",
      " (2,\n",
      "  '0.043*\"line\" + 0.025*\"subject\" + 0.023*\"thank\" + 0.022*\"organization\" + '\n",
      "  '0.018*\"email\" + 0.017*\"card\" + 0.015*\"computer\" + 0.014*\"use\" + '\n",
      "  '0.014*\"nntppostinghost\" + 0.013*\"need\"'),\n",
      " (3,\n",
      "  '0.019*\"car\" + 0.013*\"buy\" + 0.012*\"price\" + 0.011*\"new\" + 0.011*\"sell\" + '\n",
      "  '0.010*\"player\" + 0.009*\"lose\" + 0.009*\"drive\" + 0.009*\"home\" + '\n",
      "  '0.009*\"sale\"'),\n",
      " (4,\n",
      "  '0.021*\"m\" + 0.021*\"drug\" + 0.016*\"t\" + 0.011*\"g\" + 0.009*\"battery\" + '\n",
      "  '0.009*\"hook\" + 0.007*\"probe\" + 0.006*\"annual\" + 0.005*\"up\" + '\n",
      "  '0.005*\"re_ide_vs\"'),\n",
      " (5,\n",
      "  '0.024*\"hockey\" + 0.017*\"fan\" + 0.009*\"helmet\" + 0.008*\"1st\" + '\n",
      "  '0.008*\"period\" + 0.007*\"series\" + 0.007*\"snip\" + 0.007*\"greatly_appreciate\" '\n",
      "  '+ 0.006*\"joke\" + 0.006*\"2nd\"'),\n",
      " (6,\n",
      "  '0.020*\"say\" + 0.020*\"people\" + 0.016*\"believe\" + 0.014*\"evidence\" + '\n",
      "  '0.014*\"reason\" + 0.010*\"claim\" + 0.008*\"think\" + 0.008*\"mean\" + '\n",
      "  '0.008*\"many\" + 0.008*\"sense\"'),\n",
      " (7,\n",
      "  '0.058*\"team\" + 0.057*\"game\" + 0.035*\"win\" + 0.033*\"play\" + 0.020*\"year\" + '\n",
      "  '0.012*\"division\" + 0.012*\"score\" + 0.011*\"run\" + 0.010*\"playoff\" + '\n",
      "  '0.010*\"next\"'),\n",
      " (8,\n",
      "  '0.023*\"ripem\" + 0.022*\"value\" + 0.020*\"q\" + 0.018*\"rule\" + 0.011*\"evil\" + '\n",
      "  '0.011*\"mother\" + 0.011*\"sex\" + 0.010*\"poor\" + 0.008*\"behavior\" + '\n",
      "  '0.007*\"neurologist\"'),\n",
      " (9,\n",
      "  '0.024*\"patient\" + 0.014*\"brain\" + 0.012*\"disease\" + 0.011*\"pain\" + '\n",
      "  '0.010*\"treatment\" + 0.010*\"food\" + 0.009*\"diagnosis\" + 0.009*\"doctor\" + '\n",
      "  '0.009*\"headache\" + 0.008*\"tumor\"'),\n",
      " (10,\n",
      "  '0.033*\"write\" + 0.033*\"line\" + 0.026*\"subject\" + 0.024*\"get\" + '\n",
      "  '0.023*\"organization\" + 0.018*\"go\" + 0.017*\"in_article\" + 0.016*\"know\" + '\n",
      "  '0.015*\"good\" + 0.015*\"think\"'),\n",
      " (11,\n",
      "  '0.014*\"nhl\" + 0.014*\"ground\" + 0.013*\"fire\" + 0.013*\"material\" + 0.012*\"tv\" '\n",
      "  '+ 0.012*\"motif\" + 0.011*\"vote\" + 0.010*\"risk\" + 0.010*\"box\" + '\n",
      "  '0.010*\"generate\"'),\n",
      " (12,\n",
      "  '0.031*\"space\" + 0.015*\"sphere\" + 0.012*\"launch\" + 0.011*\"earth\" + '\n",
      "  '0.011*\"mission\" + 0.010*\"research\" + 0.009*\"satellite\" + 0.008*\"orbit\" + '\n",
      "  '0.008*\"moon\" + 0.007*\"planet\"'),\n",
      " (13,\n",
      "  '0.031*\"gun\" + 0.014*\"kill\" + 0.014*\"armenian\" + 0.012*\"people\" + '\n",
      "  '0.011*\"soldier\" + 0.010*\"village\" + 0.010*\"weapon\" + 0.009*\"firearm\" + '\n",
      "  '0.009*\"terrorist\" + 0.009*\"shoot\"'),\n",
      " (14,\n",
      "  '0.023*\"image\" + 0.017*\"section\" + 0.016*\"book\" + 0.014*\"publish\" + '\n",
      "  '0.013*\"format\" + 0.013*\"page\" + 0.012*\"include\" + 0.012*\"scan\" + '\n",
      "  '0.012*\"source\" + 0.012*\"reference\"'),\n",
      " (15,\n",
      "  '0.032*\"use\" + 0.015*\"system\" + 0.012*\"key\" + 0.009*\"provide\" + 0.007*\"new\" '\n",
      "  '+ 0.006*\"also\" + 0.006*\"number\" + 0.006*\"require\" + 0.006*\"physical\" + '\n",
      "  '0.005*\"government\"'),\n",
      " (16,\n",
      "  '0.033*\"talk\" + 0.026*\"book\" + 0.021*\"die\" + 0.018*\"solution\" + '\n",
      "  '0.017*\"correct\" + 0.017*\"slow\" + 0.013*\"christian\" + 0.012*\"notice\" + '\n",
      "  '0.011*\"controller\" + 0.010*\"judge\"'),\n",
      " (17,\n",
      "  '0.023*\"state\" + 0.021*\"law\" + 0.012*\"right\" + 0.011*\"government\" + '\n",
      "  '0.010*\"country\" + 0.010*\"force\" + 0.009*\"people\" + 0.009*\"death\" + '\n",
      "  '0.008*\"report\" + 0.008*\"member\"'),\n",
      " (18,\n",
      "  '0.021*\"science\" + 0.016*\"church\" + 0.013*\"deny\" + 0.013*\"appear\" + '\n",
      "  '0.011*\"family\" + 0.010*\"choice\" + 0.010*\"wing\" + 0.010*\"study\" + '\n",
      "  '0.009*\"trial\" + 0.008*\"atheism\"'),\n",
      " (19,\n",
      "  '0.014*\"compare\" + 0.013*\"office\" + 0.010*\"item\" + 0.009*\"seller\" + '\n",
      "  '0.009*\"pull\" + 0.008*\"beat\" + 0.008*\"edge\" + 0.007*\"increase\" + '\n",
      "  '0.007*\"laugh\" + 0.007*\"announce\"')]\n"
     ]
    }
   ],
   "source": [
    "pprint(lda_model.print_topics())"
   ]
  },
  {
   "cell_type": "markdown",
   "metadata": {},
   "source": [
    "#### 3.2.3. Visualizing"
   ]
  },
  {
   "cell_type": "code",
   "execution_count": 35,
   "metadata": {},
   "outputs": [
    {
     "data": {
      "text/html": [
       "\n",
       "<link rel=\"stylesheet\" type=\"text/css\" href=\"https://cdn.rawgit.com/bmabey/pyLDAvis/files/ldavis.v1.0.0.css\">\n",
       "\n",
       "\n",
       "<div id=\"ldavis_el10921472053225919522237735184\"></div>\n",
       "<script type=\"text/javascript\">\n",
       "\n",
       "var ldavis_el10921472053225919522237735184_data = {\"mdsDat\": {\"x\": [-0.32633978515466705, -0.2818122705173057, -0.23428992217370037, -0.07641038559667879, -0.15498159925252702, -0.10184594158972479, -0.05374284309323056, 0.023645589658725936, 0.015261318393436078, 0.11798519934623922, 0.056543028681915214, 0.09964414550776428, 0.0985500293635299, 0.09391909765093605, 0.07420016644961398, 0.11405129455740132, 0.12260901004676186, 0.13065818291200615, 0.14309160938961454, 0.13926407541988955], \"y\": [-0.03793027624862851, -0.16542591163610704, 0.024453899670450186, 0.04639633661992996, 0.2134291903316519, 0.19765019229622982, -0.22453899187938756, -0.2047828667194727, 0.1770766146807109, 0.007105856752539005, 0.07455414047773995, -0.051174425825359415, 0.0218728001001134, 0.023769707668159792, -0.02898477946606336, -0.04640528693209001, -0.014610607968837147, -0.023716165005886032, -0.005316842190274703, 0.016577415274580846], \"topics\": [1, 2, 3, 4, 5, 6, 7, 8, 9, 10, 11, 12, 13, 14, 15, 16, 17, 18, 19, 20], \"cluster\": [1, 1, 1, 1, 1, 1, 1, 1, 1, 1, 1, 1, 1, 1, 1, 1, 1, 1, 1, 1], \"Freq\": [24.395739457490034, 12.241646427775096, 11.142781714483597, 6.558812375588443, 5.729195669076783, 5.253040710679679, 5.044866014434357, 3.09883806647228, 2.854625926432943, 2.8004415549450887, 2.6757218898254544, 2.641652822415286, 2.5544585457061193, 2.15770118203719, 2.1569581847676345, 2.097403404003076, 2.0903583950312106, 1.7257156561932492, 1.528760639892931, 1.2512813627495198]}, \"tinfo\": {\"Term\": [\"line\", \"subject\", \"write\", \"organization\", \"use\", \"m\", \"get\", \"go\", \"say\", \"in_article\", \"people\", \"drive\", \"team\", \"game\", \"file\", \"think\", \"know\", \"program\", \"year\", \"good\", \"believe\", \"system\", \"window\", \"thank\", \"state\", \"problem\", \"evidence\", \"run\", \"work\", \"reason\", \"go\", \"in_article\", \"s\", \"ve\", \"re\", \"bad\", \"lot\", \"hear\", \"maybe\", \"remember\", \"ill\", \"guess\", \"pretty\", \"guy\", \"cheap\", \"couple\", \"soon\", \"figure\", \"chance\", \"anyway\", \"eye\", \"happy\", \"thought\", \"distribution_world\", \"insist\", \"folk\", \"market\", \"worry\", \"hate\", \"past\", \"write\", \"put\", \"little\", \"really\", \"get\", \"good\", \"start\", \"still\", \"back\", \"sure\", \"much\", \"want\", \"well\", \"time\", \"enough\", \"subject\", \"let\", \"m\", \"organization\", \"know\", \"line\", \"take\", \"see\", \"think\", \"look\", \"make\", \"try\", \"come\", \"thing\", \"way\", \"tell\", \"work\", \"say\", \"give\", \"even\", \"problem\", \"believe\", \"evidence\", \"claim\", \"sense\", \"life\", \"faith\", \"religion\", \"explain\", \"prove\", \"belief\", \"truth\", \"love\", \"god\", \"atheist\", \"human\", \"conclusion\", \"indeed\", \"lebanese\", \"logic\", \"nature\", \"moral\", \"argue\", \"consistent\", \"existence\", \"proof\", \"bible\", \"revelation\", \"christianity\", \"mistake\", \"interpretation\", \"word\", \"true\", \"whole\", \"statement\", \"accept\", \"authority\", \"reason\", \"argument\", \"can_not\", \"exist\", \"man\", \"fact\", \"people\", \"say\", \"child\", \"mean\", \"agree\", \"view\", \"question\", \"many\", \"matter\", \"world\", \"think\", \"make\", \"know\", \"thing\", \"come\", \"point\", \"way\", \"even\", \"follow\", \"key\", \"physical\", \"security\", \"master\", \"encryption\", \"review\", \"private\", \"greek\", \"encrypt\", \"license\", \"clipper\", \"draw\", \"secure\", \"direct\", \"operate\", \"tool\", \"gift\", \"commercial\", \"serial_number\", \"minor\", \"communication\", \"agency\", \"aware\", \"measure\", \"secret\", \"pgp\", \"propose\", \"associate\", \"primarily\", \"conversation\", \"develop\", \"method\", \"phone\", \"produce\", \"provide\", \"central\", \"service\", \"level\", \"require\", \"use\", \"limit\", \"system\", \"note\", \"amount\", \"specific\", \"standard\", \"technology\", \"order\", \"government\", \"public\", \"number\", \"message\", \"new\", \"issue\", \"information\", \"current\", \"part\", \"also\", \"case\", \"include\", \"make\", \"many\", \"allow\", \"need\", \"car\", \"price\", \"player\", \"sale\", \"speak\", \"bike\", \"distribution_na\", \"season\", \"character\", \"monitor\", \"engine\", \"trade\", \"ride\", \"road\", \"pen\", \"mount\", \"cooler\", \"route\", \"motorcycle\", \"air\", \"owner\", \"originator\", \"apple\", \"mile\", \"dealer\", \"rider\", \"trust\", \"processor\", \"excuse\", \"pack\", \"sell\", \"buy\", \"home\", \"light\", \"model\", \"lose\", \"advice\", \"head\", \"university\", \"cost\", \"high\", \"new\", \"drive\", \"power\", \"old\", \"black\", \"pay\", \"low\", \"side\", \"thank\", \"email\", \"card\", \"info\", \"mail\", \"internet\", \"screen\", \"fax\", \"color\", \"video\", \"thanks_advance\", \"update\", \"network\", \"gateway\", \"printer\", \"telnet\", \"rsa\", \"ethernet\", \"busmastering\", \"clipper_chip\", \"club\", \"font\", \"resolution\", \"laboratory\", \"multiple\", \"workstation\", \"patent\", \"email_address\", \"maxtor\", \"crypto\", \"computer\", \"tape\", \"driver\", \"pc\", \"copy\", \"interested\", \"mode\", \"appreciate\", \"print\", \"software\", \"send\", \"nntppostinghost\", \"machine\", \"line\", \"post\", \"address\", \"subject\", \"organization\", \"need\", \"help\", \"system\", \"use\", \"list\", \"information\", \"new\", \"group\", \"file\", \"window\", \"entry\", \"application\", \"disk\", \"graphic\", \"server\", \"display\", \"dn\", \"jumper\", \"digital\", \"interface\", \"client\", \"directory\", \"byte\", \"suggestion\", \"unix\", \"specify\", \"background\", \"random\", \"setup\", \"distribution_world_nntppostinghost\", \"compile\", \"x\", \"l\", \"configuration\", \"public_key\", \"implementation\", \"storage\", \"pointer\", \"program\", \"function\", \"c\", \"session\", \"select\", \"error\", \"set\", \"user\", \"resource\", \"run\", \"use\", \"load\", \"problem\", \"version\", \"code\", \"source\", \"size\", \"available\", \"change\", \"support\", \"also\", \"try\", \"software\", \"get\", \"law\", \"country\", \"member\", \"israeli\", \"land\", \"upgrade\", \"political\", \"terrorism\", \"american\", \"nation\", \"education\", \"party\", \"withdraw\", \"minority\", \"freedom\", \"occupy\", \"possess\", \"concerned\", \"syrian\", \"responsibility\", \"ban\", \"canadian\", \"former\", \"justice\", \"duty\", \"husband\", \"relation\", \"refuse\", \"representative\", \"islamic\", \"jewish\", \"school\", \"citizen\", \"official\", \"force\", \"state\", \"war\", \"death\", \"murder\", \"act\", \"government\", \"alone\", \"report\", \"history\", \"right\", \"peace\", \"kill\", \"rule\", \"people\", \"society\", \"public\", \"world\", \"attack\", \"group\", \"person\", \"gun\", \"armenian\", \"village\", \"weapon\", \"firearm\", \"terrorist\", \"turk\", \"turkish\", \"mouse\", \"girl\", \"militia\", \"patrol\", \"metal\", \"gang\", \"does_anyone\", \"invasion\", \"default\", \"troop\", \"greece\", \"turkey\", \"glock\", \"electrical\", \"massacre\", \"inreplyto_message_thu_15\", \"knife\", \"slaughter\", \"render\", \"ftp_site\", \"pop\", \"bombing\", \"arm\", \"soldier\", \"shoot\", \"kill\", \"cop\", \"criminal\", \"arab\", \"attack\", \"safety\", \"carry\", \"people\", \"military\", \"police\", \"say\", \"crime\", \"live\", \"civilian\", \"cpu\", \"pin\", \"connect\", \"board\", \"sin\", \"package\", \"input\", \"scsi\", \"internal\", \"external\", \"ide\", \"mac\", \"keyboard\", \"cable\", \"translation\", \"socket\", \"vertical\", \"thier\", \"channel\", \"hard_drive\", \"bio\", \"cache\", \"localtalk\", \"fuel\", \"oreilly_associate\", \"compatible\", \"documentation\", \"band\", \"spec\", \"connector\", \"connection\", \"drive\", \"slave\", \"chip\", \"wire\", \"install\", \"instal\", \"switch\", \"engineering\", \"use\", \"work\", \"device\", \"power\", \"system\", \"problem\", \"office\", \"seller\", \"pull\", \"beat\", \"edge\", \"laugh\", \"eeg\", \"drum\", \"ice\", \"statistic\", \"promise\", \"consulting\", \"guarantee\", \"case_western_reserve_university\", \"attitude\", \"match\", \"pressure\", \"negative\", \"tomorrow\", \"economic\", \"as\", \"percent\", \"league\", \"overall\", \"award\", \"aunt\", \"equivalent\", \"sensitive\", \"confirm\", \"plenty\", \"capable\", \"piece\", \"compare\", \"expert\", \"item\", \"announce\", \"r\", \"recent\", \"increase\", \"examine\", \"benefit\", \"week\", \"number\", \"section\", \"format\", \"p\", \"library\", \"magazine\", \"circle\", \"description\", \"map\", \"observation\", \"birth\", \"conference\", \"registration\", \"specification\", \"publish\", \"p_p_p_p\", \"publication\", \"regularly\", \"writer\", \"wide_range\", \"qualified\", \"pathology\", \"guide\", \"animation\", \"o\", \"handbook\", \"swiss\", \"copyright\", \"preference\", \"cpsr\", \"shadow\", \"page\", \"author\", \"database\", \"image\", \"scan\", \"archive\", \"reference\", \"book\", \"source\", \"date\", \"contact\", \"include\", \"information\", \"name\", \"object\", \"number\", \"type\", \"send\", \"address\", \"special\", \"church\", \"deny\", \"family\", \"wing\", \"trial\", \"atheism\", \"hole\", \"dog\", \"blank\", \"cycle\", \"desire\", \"meeting\", \"ignorant\", \"holy\", \"popular\", \"unlikely\", \"frame\", \"origin\", \"capture\", \"locate\", \"edition\", \"camp\", \"expansion\", \"movement\", \"paragraph\", \"has_anyone\", \"attend\", \"territory\", \"gun_control\", \"dept\", \"choice\", \"science\", \"natural\", \"bear\", \"appear\", \"study\", \"scientific\", \"lie\", \"approach\", \"witness\", \"involve\", \"cause\", \"slow\", \"christian\", \"notice\", \"controller\", \"recommend\", \"doctrine\", \"generally\", \"motherboard\", \"scripture\", \"thread\", \"modem\", \"motto\", \"homosexual\", \"dream\", \"usenet\", \"boy\", \"liar\", \"plug\", \"bank\", \"logo\", \"german\", \"glad\", \"classic\", \"focus\", \"can_anyone\", \"depth\", \"plain\", \"wise\", \"mix\", \"believer\", \"judge\", \"solution\", \"die\", \"talk\", \"clearly\", \"correct\", \"theory\", \"book\", \"heart\", \"original\", \"discuss\", \"speed\", \"difference\", \"university\", \"sphere\", \"launch\", \"mission\", \"satellite\", \"orbit\", \"moon\", \"planet\", \"plane\", \"rocket\", \"energy\", \"flight\", \"shuttle\", \"spacecraft\", \"surprise\", \"essentially\", \"realistic\", \"brown\", \"advanced\", \"element\", \"solar\", \"bust\", \"lunar\", \"vat\", \"sky\", \"straightforward\", \"comet\", \"n\", \"specifie\", \"pasadena\", \"planetary\", \"space\", \"earth\", \"research\", \"project\", \"heat\", \"center\", \"program\", \"cost\", \"environment\", \"team\", \"game\", \"win\", \"score\", \"playoff\", \"baseball\", \"coach\", \"bomb\", \"pitch\", \"stat\", \"talent\", \"offense\", \"pitcher\", \"floppy\", \"remark\", \"era\", \"ethernet_card\", \"pool\", \"enable\", \"standing\", \"bat\", \"surgery\", \"ed\", \"terribly\", \"catcher\", \"ip\", \"hitter\", \"dave\", \"frank\", \"univ\", \"play\", \"average\", \"division\", \"year\", \"draft\", \"hit\", \"next\", \"defense\", \"final\", \"last_year\", \"run\", \"lead\", \"patient\", \"brain\", \"disease\", \"pain\", \"treatment\", \"food\", \"diagnosis\", \"doctor\", \"headache\", \"tumor\", \"son\", \"health\", \"medical\", \"syndrome\", \"migraine\", \"improve\", \"father\", \"cap\", \"prediction\", \"left\", \"immediate\", \"preach\", \"diagnose\", \"researcher\", \"rich\", \"influenza\", \"routine\", \"chronic\", \"volume_6_number\", \"luck\", \"miracle\", \"serious\", \"cause\", \"study\", \"effect\", \"age\", \"normal\", \"risk\", \"nhl\", \"ground\", \"material\", \"tv\", \"motif\", \"vote\", \"box\", \"generate\", \"circuit\", \"tax\", \"signal\", \"output\", \"lemon\", \"department\", \"shell\", \"ensure\", \"status\", \"trick\", \"identify\", \"buyer\", \"pit\", \"koresh\", \"distance\", \"crack\", \"outlet\", \"investigation\", \"crt\", \"temporary\", \"seal\", \"camera\", \"bunch\", \"fire\", \"building\", \"risk\", \"tank\", \"house\", \"press\", \"report\", \"wire\", \"build\", \"ripem\", \"q\", \"evil\", \"mother\", \"sex\", \"poor\", \"behavior\", \"neurologist\", \"mine\", \"egg\", \"relevant\", \"feeling\", \"string\", \"consequence\", \"philosophy\", \"bend\", \"optional\", \"magic\", \"ordinary\", \"pem\", \"speech\", \"employer\", \"root\", \"previously\", \"disappear\", \"perspective\", \"contrary\", \"wholly\", \"presumably\", \"collection\", \"value\", \"abuse\", \"rule\", \"perfect\", \"absolutely\", \"discuss\", \"hockey\", \"fan\", \"helmet\", \"1st\", \"snip\", \"greatly_appreciate\", \"joke\", \"prize\", \"tor\", \"please_respond\", \"devil\", \"guilty\", \"brave\", \"repair\", \"leafs\", \"sigh\", \"que\", \"cal\", \"hab\", \"3rd\", \"franchise\", \"mechanic\", \"horse\", \"pt\", \"impressive\", \"francis\", \"stl\", \"adam\", \"sig\", \"greeting\", \"pts_pt\", \"bounce\", \"2nd\", \"period\", \"series\", \"king\", \"tie\", \"drug\", \"t\", \"g\", \"battery\", \"hook\", \"probe\", \"annual\", \"up\", \"re_ide_vs\", \"denver\", \"heavy\", \"dale\", \"amp\", \"prevalence\", \"scsi2\", \"pot\", \"task\", \"fred\", \"sponsor\", \"drain\", \"nra\", \"funding\", \"ray\", \"tail\", \"comic_strip\", \"inspection\", \"sustain\", \"junk\", \"memorial\", \"peripheral\", \"m\"], \"Freq\": [12822.0, 9477.0, 9979.0, 8361.0, 8590.0, 4308.0, 7528.0, 5354.0, 6136.0, 5151.0, 5517.0, 2065.0, 1533.0, 1506.0, 1951.0, 5582.0, 5802.0, 2140.0, 2899.0, 4700.0, 2388.0, 3414.0, 1574.0, 1614.0, 1848.0, 2968.0, 2104.0, 2281.0, 3353.0, 2404.0, 5353.381568154639, 5150.3903323173245, 2946.1637363985146, 1962.569512740045, 1618.6557301191224, 1528.8057665376898, 1460.0563038706969, 1365.188045480221, 1051.1656013163133, 852.23265972999, 799.7216324483993, 709.7528709600713, 667.7060227343155, 593.5866455944222, 578.2897372428192, 573.3370684178706, 531.2219304226879, 466.68411993367215, 444.6398779300921, 386.2399823604179, 336.08810023398985, 318.8951302396595, 312.5387157338439, 305.2443720341583, 261.90536305726516, 258.29811339279144, 255.33124464111378, 247.31589727906314, 243.24333274950573, 242.18041321270817, 9895.16572614664, 1425.7395531114453, 1396.0962580418618, 2180.939853733501, 7127.5290210940475, 4476.670727708915, 1520.7632105111738, 1883.773912341307, 1826.6723180668803, 1834.0352974821399, 2528.5392082265885, 3153.624042941823, 3769.1076266704135, 4008.7519951656673, 1133.1861116978102, 7733.552499863988, 1416.2401486704912, 3677.197484594095, 6711.298240759339, 4793.035158099093, 9716.52245689531, 2868.9709736882683, 3601.104553874536, 4327.300591149831, 2464.1052161763014, 4032.2882337122255, 2413.46423538718, 2526.698221210471, 2353.726531472266, 2186.080198343222, 1918.0373873939138, 2226.4296963931133, 2814.83206221714, 2114.7449957947515, 2034.1095154075665, 1998.2863767456195, 2387.5068122184016, 2103.2570154109867, 1449.4846492052209, 1156.306365025093, 1021.316660052538, 991.7822351119546, 706.2906867535087, 694.2098738809517, 688.0731228561223, 644.5579350379876, 630.6377216964481, 628.7392298798212, 497.0528423406625, 494.5657632052235, 472.7931360684652, 462.2496009227033, 404.39389432555265, 391.56871101028173, 352.3637196931341, 341.7776540533272, 315.9908079353642, 306.19744126701465, 280.09229345974194, 274.23572291404975, 272.65129709671334, 261.6613653573323, 259.52980643333876, 258.94248634965544, 248.42200446760447, 244.93235139213516, 920.0582544541554, 1124.6086829229134, 687.1887663301518, 475.58216435223824, 697.7852823199239, 376.74879544614487, 2092.585854064319, 652.7408715297847, 796.9175798413049, 1080.1376179112713, 1057.022346475976, 1128.9703326420024, 3017.7277697919794, 3046.2099382317338, 775.549634695231, 1216.379212315887, 709.7787427655281, 583.9375032965182, 1087.310863115055, 1197.1909810286966, 607.9440055743726, 739.5324514615305, 1254.6379088202261, 1078.442300340482, 964.9596239092209, 867.8437925871322, 792.388099584899, 748.8103485420548, 742.4265387452874, 732.34761018835, 711.2409585101802, 1679.016524998247, 805.0688157357475, 500.26903979695857, 499.4695974474405, 458.76430755943915, 422.69946180160684, 417.0520116838743, 413.6232929759914, 362.8808727663812, 361.47640516558727, 361.4523874486393, 440.9182906060728, 341.3963929112056, 339.4950113876612, 301.64508041992735, 294.04833975379086, 271.34875303460103, 264.24301666875556, 261.3987343403174, 254.54597405890456, 253.57709619699602, 246.1883774016625, 234.25784512694253, 229.89761822858662, 226.64754709163407, 225.9522183848597, 220.68808786939144, 214.72843903359396, 213.59034687510896, 208.32084397558654, 377.98223351325487, 413.6617213231082, 666.7443369713076, 512.6522270305006, 1191.9032212618185, 281.7344562745474, 574.7416279986421, 525.2699030268773, 807.5933306050563, 4370.204616430325, 331.73624593890304, 2021.7531381174106, 609.580653726611, 365.8841302594338, 358.2738638263845, 477.33398464490085, 503.51111556234815, 719.8580010933872, 730.2706926626411, 526.9973141138444, 826.3730363047764, 549.2521306378682, 915.7405592966174, 641.7238171362025, 654.6561568268571, 477.3411583577261, 630.2117461759128, 834.5859578196659, 645.7198596002047, 608.5276032474774, 728.5697326665759, 616.1214997102911, 517.6995186448653, 552.7754033051042, 1536.861967212423, 997.3584821944825, 773.3150875112223, 684.1994810779183, 678.1149059368897, 611.982847369684, 550.390131118789, 513.2702048183419, 433.6251809970881, 422.9868287176472, 395.66617485725993, 373.82840959705226, 360.1751140621607, 342.1841916888836, 310.9234080435765, 309.3673863054321, 298.60460809166426, 293.3599126577362, 276.6870420752505, 270.49831671650674, 264.3362474145563, 258.8131794126505, 258.6752859381154, 247.35589279941635, 238.2704929982658, 237.37852888152028, 235.77767734793142, 227.7919654501356, 226.94285936189794, 215.12174454571857, 845.0169412364153, 1028.465598229762, 691.2250726886332, 464.50126547244224, 594.3373190386528, 703.9404396152676, 336.13615004090593, 440.72201663956736, 505.0917248001349, 499.01682247804035, 573.7660606052629, 901.9107508617371, 692.530159181738, 501.87904680378193, 463.8774058543443, 337.17523401332375, 370.1804919518158, 352.6654350669453, 344.8946271636597, 1614.0605716705313, 1270.5059607563478, 1217.4523213691448, 742.1896569202713, 690.8016375152506, 633.5202208384314, 541.2715086664683, 506.36436579525673, 472.83507873285123, 471.8756590049477, 339.4672547418072, 289.2228176361777, 421.1445088530555, 281.21637665107954, 254.03190776757242, 244.179323933764, 233.57697712694042, 227.34664716744402, 223.54913499984934, 200.91203874904917, 200.74540850636293, 199.29152511047457, 187.7273050246362, 170.57773019657955, 165.80474460241982, 165.7993500397117, 164.4648619654477, 158.56613512567247, 149.35444808974535, 144.74162576249523, 1064.4087723238185, 424.0505207870839, 860.7479763934195, 318.78859598693373, 671.3563187838638, 579.6750756119567, 467.33554953347726, 396.42337278785334, 352.32548743291574, 686.2347827117995, 859.6882372975642, 961.9846799844339, 594.7326000249634, 3002.4516364719457, 862.8829233312088, 464.3585633527348, 1741.4208676413978, 1537.93185278615, 939.4792793081799, 662.964459041426, 804.631720266824, 1005.0071625132432, 489.09604559288994, 503.97457451555715, 544.1296194834379, 494.0137094591977, 1950.6024389021316, 1573.2122320901465, 888.6137820481266, 761.2988749842663, 718.2684962883957, 595.2052519669206, 585.210432822939, 580.9268878243735, 447.47607667787815, 387.2357156889397, 350.69713048487813, 292.6743740905295, 286.53322582370043, 285.79025006869745, 278.46194960492323, 272.36841614685676, 241.92328990960888, 227.34922529011564, 213.34627020726336, 206.68137394229657, 203.49781147669952, 193.20505711818905, 191.25492081575018, 182.82453716567971, 171.4311000564249, 169.06214413448242, 160.1804626787061, 159.67445849697518, 155.3020007391184, 153.27968241275752, 1917.5170000073963, 553.9291720699896, 514.9416422367746, 223.50044103914385, 283.23585562214055, 491.1353701225295, 936.5471154074916, 473.6965209044895, 238.13432213460135, 1080.596095048803, 1753.3333923037544, 257.01237215241673, 669.786668936727, 357.8067842235587, 341.71467726237154, 424.07059729996934, 309.0365565377141, 368.3203604517434, 351.78869550628497, 332.087070197983, 353.15018703118375, 344.8413135126113, 311.4219154335138, 320.0991928917236, 1291.0492601166598, 622.7859203598904, 461.7365617073526, 418.20984490872513, 336.09459137392736, 277.8400685277176, 266.52851736123444, 266.3195942485317, 254.182823971773, 229.2007876851495, 201.33082790077586, 192.38072886818787, 185.9958685668259, 182.5840348089856, 181.40933234363013, 177.43777579651908, 172.8616556824897, 170.77849108058112, 167.54048329837605, 161.1012245807358, 156.62344226656984, 156.3295878022027, 148.86472864341425, 148.8275282535343, 136.646575359872, 136.03132383478427, 134.12567663181443, 132.88943613689213, 130.70647433520944, 129.64760816080323, 366.65144947227674, 336.71077290876207, 276.4291722023089, 251.40655887503175, 612.8305809456924, 1439.4330306424529, 439.52873018818474, 558.8857804984448, 318.38717717538316, 425.13584211226015, 668.290352962959, 239.80995256717227, 472.9922264419623, 338.87637929778157, 713.5386179581774, 226.21316714252106, 368.12344028414213, 308.088363699855, 582.1907373622262, 232.13150593910385, 283.74517257020847, 299.1906313699442, 267.36461043162876, 290.78340048844285, 262.1731815611426, 1156.9651818381576, 517.7251469173466, 388.3660152072044, 380.56487116120024, 357.44225475684203, 331.9762612881801, 300.1809103915872, 267.6339344582649, 213.19874663531508, 196.52874003272257, 183.5348954336301, 183.35546585118504, 167.04953888624777, 160.3780910847328, 159.0818670322416, 153.100804782225, 150.6010244631606, 141.6877439446954, 140.75896559226524, 139.43976794413774, 128.47643237910506, 116.83686981749753, 116.47990900634014, 114.99802420104957, 114.1906789667936, 114.02632196143969, 109.66704264040881, 109.64634531151685, 109.54730573644957, 93.86531315368921, 277.84398392705197, 404.0347808345582, 328.27222160856735, 544.5213941868944, 222.04085646615096, 195.7534383063817, 195.98004549455587, 274.83785290447116, 213.8653851878045, 251.652555672233, 440.50155841110154, 190.39007926818766, 187.9878883928669, 274.34036118504105, 165.26751205166246, 173.493746715011, 162.7707374593416, 506.3849066309521, 501.685435313624, 382.8842084783073, 364.8821982820029, 362.84406377700435, 362.18034878590316, 333.4452948193775, 305.4886932049421, 289.4735532623109, 270.8392084031013, 254.61088301102288, 234.75732010631572, 218.41605467854737, 206.25515739904858, 177.2508932485256, 175.97396648801742, 169.92603162485088, 161.23996325704553, 159.07797522760367, 158.98961482978862, 150.04939494941132, 148.75799243379106, 144.54946618916816, 142.63364695723084, 131.00928366376846, 128.0080742565812, 127.80856305231545, 125.45981511295992, 123.10820116839763, 118.97822289698361, 267.90935766792626, 1371.70325341459, 375.43036042820876, 563.098648263337, 271.69334272319367, 197.8092991286569, 263.8288463225385, 198.89284340224827, 189.22992063829403, 710.2118937429665, 390.03160446884056, 220.31234621399122, 248.7154131480078, 278.2871949058278, 253.56406246516556, 440.84378626759917, 310.85376354463045, 297.5114119013386, 272.0655938399522, 261.367135604347, 241.6103060730331, 225.1117453193791, 211.81801696660844, 191.64335436313849, 179.82934028084182, 179.64113748891268, 176.5476255780563, 171.50389241690306, 169.12166887682687, 168.3006008390124, 166.30320181254825, 164.93002671539202, 161.1954053614009, 158.66105334915173, 158.1988064513514, 154.9619026935382, 152.75628606101336, 150.97028159523398, 146.07851805852252, 145.6811922284648, 145.4539605489791, 130.6900090776738, 129.34957249791844, 127.61316823620717, 126.94154414390836, 201.24466720409862, 196.66049641408836, 488.64437261934916, 193.08797916978978, 333.126375788416, 236.01648321872432, 223.12697468754558, 202.91318788788035, 254.69761179910563, 177.72870611386895, 168.26767170433405, 187.73388931141238, 164.88647066749618, 538.2223003792251, 428.33118213638147, 317.56026423087746, 255.6049929683022, 207.29183747965445, 196.8878968510931, 196.13994268369783, 186.11558716352624, 181.45869560105325, 149.27250408827948, 147.65236927959165, 142.44736349863052, 136.2710842665937, 450.1419208753899, 134.57797683890794, 125.08725636115878, 119.40163755201596, 117.13228471838104, 110.72663803530303, 109.01986341888856, 108.78880369517302, 106.48662228938909, 103.87526342486832, 99.57995665337006, 94.96897652443882, 92.93639768054538, 91.17449898921403, 89.45945272609535, 87.06377135788698, 87.00595330629119, 426.7904703133875, 374.27905192301534, 142.84215629508932, 738.8360504525648, 388.4107277631652, 153.57521739847803, 384.866122256408, 506.09789579073174, 387.9459674597221, 203.10652084332216, 212.31145213310734, 390.8367334435112, 334.8975143042454, 303.01133314083353, 167.58834308742303, 267.1418001166728, 206.8176975841688, 225.7136901526126, 188.75701991418353, 156.53969969060176, 506.51873034166607, 429.7252321270889, 363.88291274946806, 328.11434227381375, 277.35266586097345, 247.81786454690766, 245.3290528946735, 216.09754445557158, 204.60929104140416, 193.15421239257293, 185.7537223962339, 171.41546594842805, 165.73146288448413, 162.95847805040674, 161.06377040486404, 156.93538513119717, 148.71842729908394, 139.16826045803296, 131.3122392778702, 130.06536856968546, 127.57612237897129, 127.02818433975987, 126.64274870798796, 125.08177410713834, 121.09839732106904, 116.0733344018517, 115.17861967150404, 114.45721836629693, 100.90833103560651, 100.09686788439524, 337.83215106363684, 668.6265169049761, 208.20195030555655, 233.58341784356847, 420.33263792934207, 313.670792657075, 206.5395109696238, 192.45141382953605, 173.79646710536232, 138.39361320493867, 169.34453047311166, 185.22508385916927, 532.0645951515389, 394.0675942271888, 369.3544210545366, 330.16452885768985, 278.61941208740063, 263.6533247320149, 261.584687972747, 230.8462740823558, 210.8623863686613, 209.0034706144761, 205.48581153150414, 193.1988614762287, 182.98937228496723, 179.84065930897472, 176.6145144515975, 158.82649578580092, 144.18282875686947, 130.68591861796585, 128.47577741378728, 128.16190589160263, 114.59583013035812, 111.97061549989098, 109.31126361034032, 108.90031244644956, 105.61276833806794, 104.62262119541028, 101.83790616256991, 96.19717327348086, 93.41779037618494, 91.9869885971742, 310.9325012347609, 555.083424296946, 647.3604926593374, 1028.1866555897961, 302.32382635623526, 534.5487327773088, 281.91968522044476, 820.958423874154, 166.40343141547223, 277.6497168722457, 190.43385940645416, 184.45708606207444, 171.80272578668834, 152.0791564077538, 395.8650470225405, 320.8745383508688, 287.2930090464395, 232.3019504394094, 219.31436820431426, 198.15699894181057, 176.13824912200755, 171.55818417781882, 169.85812640129618, 158.97380343575676, 143.14650480870782, 140.78592064263006, 121.22069792655941, 115.27664580435446, 110.97201947116349, 109.47249764848212, 104.19544634485773, 103.76071719743982, 102.97784980119583, 96.07017866637185, 95.21163755620654, 91.65414075015877, 88.04170308986667, 86.07011094215555, 85.63853945577463, 77.41129034089067, 74.53114854426568, 74.48144598042379, 74.40484210278615, 73.89605478895423, 809.4086387695438, 299.15580304656845, 270.39798038502295, 150.89617605024173, 93.85882458178244, 118.13148959569475, 120.22012326471096, 101.45113292880829, 93.06983156790662, 1533.0369533537785, 1505.263313498458, 909.0408627060948, 316.0421790422774, 272.102575164698, 230.05635271126422, 186.22030402692036, 175.23309068376352, 158.90457535038368, 155.09652398174396, 145.06801590639685, 134.22965091873425, 129.9870323350033, 128.29690734105876, 109.60678548368419, 102.50672749095631, 99.08399834062463, 93.82614979712416, 91.20629761608565, 90.06768599915831, 84.52169610926258, 84.47160079514362, 77.58642839272669, 76.07342633503809, 74.96456359008052, 74.03767487236638, 71.26688830553512, 69.47569177906237, 66.71124282920843, 66.18898893288859, 857.0611474928463, 204.98976844432946, 326.96377725058994, 526.4402960811458, 108.75772833045112, 183.28826303584003, 262.1532261276583, 125.45468188324189, 136.94334999364244, 131.16272145820432, 276.88740257388, 127.52272705249975, 616.1381814804017, 353.2223381192393, 301.6302586692453, 288.6979160400054, 268.10168624903207, 245.9744826067997, 238.54360955577573, 238.49575993087666, 228.11398552214027, 215.34579732461535, 182.02955017928377, 178.54214293284707, 176.0291572496524, 173.70214504642357, 168.20099668647526, 154.4027090926581, 148.93405136562862, 140.19109686725372, 128.5298268198682, 123.33140883167077, 119.90730537789644, 118.31131456988122, 109.04138365805406, 108.45746833242701, 106.50874417567162, 104.24068147303328, 103.85736100703414, 91.9999991042535, 90.40350862337759, 87.92484570692433, 112.07231595228963, 169.6171647495005, 203.23301336271712, 157.5315058857549, 143.19545132408885, 141.4393510551358, 122.22614436076086, 117.65607689187475, 359.05877719211156, 344.56939007891935, 334.8569559204189, 310.80797153213064, 300.5882944045036, 267.53085036830356, 255.24456720839632, 251.54159867767711, 236.4471482471747, 230.746628921487, 195.05569511401794, 194.69704421803522, 179.6898851091483, 178.25436853530104, 173.88747848019491, 172.49022448375234, 162.98463589786556, 156.08247955807863, 148.07436043322204, 134.1960007143262, 126.35411689632221, 119.48965399736872, 112.79318124302918, 112.51894041476997, 112.33675742691047, 111.91431580690015, 110.72999003017648, 107.59613435668349, 105.21286310756217, 96.098407701761, 179.75545438496104, 340.6496042285777, 174.69021004290735, 266.8966899437882, 135.6911106299881, 154.50384885058583, 165.39374357591925, 195.66450524708884, 147.6004593815612, 148.4039260790115, 487.2266074812942, 430.52204886478444, 228.0007059501299, 224.36135629770348, 223.38315480475507, 211.33283066943142, 161.15694379110224, 141.5996093832524, 136.89761137121158, 132.07384228912034, 126.30697388909681, 119.66257069101219, 111.74228271932779, 111.60603420453424, 109.29999945979007, 103.33898255467169, 101.85600865261637, 101.50381226190784, 99.88905347913798, 97.63494763524731, 97.5028299397111, 94.93919652298568, 94.19253625921513, 93.39521962185044, 89.06417309458699, 87.7232915440471, 86.34106264624891, 85.22469405894668, 84.00910750009852, 83.8066582018041, 468.01684921133426, 140.39199080278217, 384.15413128941935, 129.624295835533, 124.07130990179576, 106.34499539011, 448.65824396767033, 310.22035279142744, 167.11437020973312, 158.28463741321553, 135.16134931548817, 132.50664905773297, 120.54194523353468, 116.4796878506678, 115.9982811148515, 115.93504857076381, 112.03864220794921, 111.24905919891123, 108.96435430472349, 106.95493470189722, 100.56390388547703, 94.39189769859155, 91.93768241331408, 91.88979841599479, 88.31116767175365, 86.9043389522513, 80.8397986072307, 80.10702256422651, 79.47839985186377, 77.04832600963898, 66.3636302854583, 66.10958582195514, 64.40399807318052, 63.75861769605508, 63.09131144293874, 62.82006706841007, 75.08860274666003, 83.50343917669109, 119.37207379594953, 141.3643214122663, 136.4589518795697, 82.51807114565476, 75.6537847990467, 316.48915549728633, 238.02774234549082, 172.2153427515068, 139.22964311058305, 136.81935206512733, 106.01743172791866, 86.45047674688617, 81.45133407445219, 71.87566623758087, 71.42662448898447, 69.54655715935051, 69.16274914573995, 67.36200422087173, 59.67930708978542, 57.76550147712945, 54.69268807368726, 51.591775403918334, 50.33967238030196, 49.09916323179161, 48.58529230950782, 48.07693974528644, 44.63134439800852, 41.44575775822751, 40.517718981031685, 39.98616092268168, 39.86742573036547, 39.593519987387964, 38.75214249886336, 36.107731120229204, 35.07079792686318, 324.60349114356836], \"Total\": [12822.0, 9477.0, 9979.0, 8361.0, 8590.0, 4308.0, 7528.0, 5354.0, 6136.0, 5151.0, 5517.0, 2065.0, 1533.0, 1506.0, 1951.0, 5582.0, 5802.0, 2140.0, 2899.0, 4700.0, 2388.0, 3414.0, 1574.0, 1614.0, 1848.0, 2968.0, 2104.0, 2281.0, 3353.0, 2404.0, 5354.310827847342, 5151.319592010027, 2947.0929960912163, 1963.4987724327466, 1619.584989811824, 1529.7350262303914, 1460.9855635633985, 1366.1173051729227, 1052.0948610124806, 853.1619194226917, 800.6508921411009, 710.6821306562385, 668.6352824270172, 594.5159052871238, 579.2189969414135, 574.266328134974, 532.1511901261189, 467.6133796292785, 445.5691376257809, 387.16924205658535, 337.01735992669165, 319.8243899443839, 313.4679754265457, 306.17363175149416, 262.8346227878994, 259.22737308549324, 256.2605043338155, 248.24515697176486, 244.17259244220745, 243.1096729054099, 9979.507953008286, 1432.3441702733546, 1412.505311192669, 2223.746162153398, 7528.73165285488, 4700.053536416767, 1565.967201482051, 1953.0695868990706, 1900.9100929258527, 1924.3599044285893, 2694.2292797534187, 3399.4357206644727, 4131.3196884683875, 4522.5820709455675, 1187.947305605056, 9477.189293755366, 1525.2924079775532, 4308.906709441226, 8361.706671892523, 5802.89683671418, 12822.590425375405, 3312.3760999864126, 4313.682689007539, 5582.821359030225, 2962.650369603402, 5840.130846210758, 3079.4718069330715, 3374.2171036064688, 3222.4531831195645, 3015.780423805949, 2363.1210514235217, 3353.318137977606, 6136.207629118217, 2980.891432157473, 2916.9321109952693, 2968.850115419806, 2388.4420881755923, 2104.1922913681774, 1450.4199251624113, 1157.2416409822836, 1022.2519360127167, 992.7175110691452, 707.2259627106993, 695.1463343911958, 689.0083988163009, 645.4932109951782, 631.5729976536387, 629.6745058370118, 497.9881182978532, 495.5010391624142, 473.72841202565587, 463.184876879894, 405.32917028274335, 392.5039870279418, 353.29899570236074, 342.7129300105179, 316.9260838925549, 307.13271722769844, 281.0275694887375, 275.17099887124044, 273.58657305813813, 262.59664131452297, 260.46508239052946, 259.87776230684614, 249.35728044164088, 245.86762734932577, 927.947450537813, 1144.1862524752858, 698.1171122326735, 480.26660315486674, 733.3707124210983, 384.8339620812639, 2404.87890962007, 694.4608927210368, 864.2419505407237, 1206.34219928414, 1303.5783899365847, 1537.2741675105278, 5517.3021723611955, 6136.207629118217, 1033.0483727017693, 2073.706292881485, 947.182042022005, 691.5638848999992, 2248.8280626263086, 2770.417632120595, 751.9441057907668, 1140.0489082266156, 5582.821359030225, 5840.130846210758, 5802.89683671418, 3222.4531831195645, 3374.2171036064688, 2588.6157023457845, 3015.780423805949, 2916.9321109952693, 1618.844658962748, 1679.945922019281, 805.998212799774, 501.19843681799273, 500.3989945296177, 459.6937045804733, 423.62885884137313, 417.98140870490846, 414.55269001333943, 363.81026978741534, 362.40580219811125, 362.38178447266046, 442.09348430438115, 342.3257899322398, 340.4244084129335, 302.57447744519965, 294.9777367855652, 272.2781500810501, 265.1724136897897, 262.32813136135155, 255.47537111329206, 254.5064932180301, 247.11777442269658, 235.18724215570788, 230.8270152496207, 227.57694411266814, 226.88161540589377, 221.61748489042552, 215.65783606810413, 214.51974391536416, 209.2502410206782, 385.36119442132224, 429.5074569244466, 715.859855701824, 542.5717443069815, 1409.1140327198125, 289.35298834776125, 673.7705574927194, 607.2318211709629, 1040.23776954253, 8590.34223480477, 355.4497055483038, 3414.111044346296, 849.2141856638585, 417.55810890991995, 410.46323469526163, 645.1398206299377, 735.0585076883841, 1404.0835495550275, 1450.3310117156554, 811.6223300792932, 2039.1874754979365, 929.8380554124714, 2787.0306512175903, 1376.5629495240169, 1494.3555904622365, 703.0468879031148, 1679.5619911483354, 4231.430436871621, 2081.648257125435, 1692.419056167533, 5840.130846210758, 2770.417632120595, 1127.6233167424346, 3362.7195482235015, 1537.793086283885, 998.2896012659446, 774.2462065899056, 685.1306001493805, 679.0460250313595, 612.9139664411462, 551.3212502022988, 514.2013238999298, 434.5563001063138, 423.9179477930625, 396.59729393171017, 374.75952866851446, 361.1062331336229, 343.1153107646371, 311.8545271481248, 310.29850539878015, 299.5357299126463, 294.291031823116, 277.6181611467127, 271.42943579575336, 265.2673664860185, 259.7442985070432, 259.6064050135307, 248.28701187087847, 239.20161206972793, 238.3096479529824, 236.70879643834613, 228.72308455947604, 227.87397846364712, 216.05286363483987, 904.917641268897, 1190.6622000255145, 816.5586258109237, 522.3290598837019, 705.6900482653102, 883.6728987080296, 365.34308437654084, 545.9226706120386, 715.6595570671816, 856.5580642912171, 1130.8692897802632, 2787.0306512175903, 2065.120394538498, 1173.2361825288715, 1449.2355241666464, 433.97718583020367, 880.7305187678687, 626.0198483128997, 575.6422729438904, 1614.9936673603509, 1271.4390564461673, 1218.3854170667487, 743.1227526173656, 691.7347332050703, 634.4533165282511, 542.2046043637068, 507.29746148806447, 473.76817442557547, 472.8087546947674, 340.4003504316269, 290.15591333722506, 422.5148691349768, 282.14947234455747, 254.96500345739202, 245.112419669695, 234.51007283174997, 228.27974286849133, 224.48223080929262, 201.84513444272648, 201.67850424348654, 200.22462080029416, 188.6604007179214, 171.51082596018682, 166.73784031480832, 166.73244573348447, 165.397957659125, 159.49923084914218, 150.28754386835175, 145.67472145617253, 1077.157955679045, 445.0205296331583, 983.3992697302305, 347.84753876089, 828.9115430328881, 706.8351050906109, 554.3426717880373, 460.97179453686454, 402.6224790236437, 998.5285121584194, 1371.03141218828, 1967.176752693468, 982.0787975640278, 12822.590425375405, 1928.0293205486162, 731.9802322583106, 9477.189293755366, 8361.706671892523, 3362.7195482235015, 1973.5247681559974, 3414.111044346296, 8590.34223480477, 1073.9683815428368, 1494.3555904622365, 2787.0306512175903, 1871.7298939696636, 1951.5228338151437, 1574.1326270031586, 889.5341769798182, 762.2192699007717, 719.1888912053612, 596.1256468868879, 586.1308277359512, 581.8472827403738, 448.39648670440283, 388.1561106301307, 351.6175254290041, 293.59476900749496, 287.4536207396998, 286.7106449817098, 279.38234452574636, 273.28881107994414, 242.84368484181, 228.26962021045117, 214.26666516254886, 207.6017688879841, 204.41820639665193, 194.12545206520204, 192.1753157287624, 183.7449320898299, 172.35149505448015, 169.98253905541478, 161.10085759557603, 160.59485342162958, 156.2223956644829, 154.20007732576974, 2140.466831546651, 601.6354847300992, 565.4688229253701, 237.64254848371607, 315.3745063074658, 620.8369215700022, 1440.899938556414, 642.2375800389972, 260.4909116359374, 2281.0295341414007, 8590.34223480477, 302.4052201373051, 2968.850115419806, 741.9898509583393, 666.2148920066727, 1214.310925147123, 528.9342839630078, 1060.2557567073354, 1313.169095249143, 1317.7321886825418, 4231.430436871621, 3079.4718069330715, 998.5285121584194, 7528.73165285488, 1291.9813830805917, 623.7180433238225, 462.6686846712848, 419.1419678726573, 337.02671434480067, 278.7721915309241, 267.4606403251666, 267.25171722485106, 255.11494693570512, 230.13291064908162, 202.262950864708, 193.31285183599812, 186.92799153803742, 183.51615777291772, 182.34145530756226, 178.36989876772574, 173.79377870000766, 171.71061407055487, 168.47260627083762, 162.0333475658715, 157.55556523050197, 157.26171077914552, 149.79685161971906, 149.75965121746643, 137.5786983437606, 136.9634468144569, 135.05779959873462, 133.82155910082426, 131.63859731002594, 130.57973112473536, 374.05960171706505, 353.6653451141236, 288.45988458669177, 264.1512164661452, 711.6148225814235, 1848.664788145177, 535.3780218679482, 767.1985231212561, 425.34318285905124, 670.7220465260131, 1450.3310117156554, 299.53776018050496, 962.0054330738076, 578.8936802354156, 2565.7564147502753, 289.7881780395889, 913.5193658591045, 764.7035706001508, 5517.3021723611955, 349.171982806604, 811.6223300792932, 1140.0489082266156, 661.3043944827834, 1871.7298939696636, 1101.6662352788192, 1157.889266852019, 518.6492319312083, 389.29010022455924, 381.48895617506196, 358.36633977070375, 332.90034630939266, 301.1049954054489, 268.5580194721266, 214.12283167164594, 197.45282505461873, 184.45898045098488, 184.27955090205626, 167.97362392981793, 161.30217610535666, 160.0059520838276, 154.02488979957977, 151.52510959491983, 142.61182895855706, 141.6830506061269, 140.3638529579994, 129.4005174043135, 117.76095488169481, 117.4039940202018, 115.92210930211938, 115.11476398065525, 114.95040698307695, 110.59112775851324, 110.57043038242075, 110.47139078201914, 94.78939822154669, 284.11910303122886, 474.7453179874249, 413.8504478007622, 913.5193658591045, 301.39644586026526, 294.8451134291346, 307.22884064753464, 661.3043944827834, 399.97388156740925, 583.1270025432805, 5517.3021723611955, 400.22555639061216, 388.6082512123925, 6136.207629118217, 361.78071091439364, 1199.1560753365088, 306.5857781710715, 507.3224460913861, 502.622974774058, 383.8217479387413, 365.81973774243687, 363.7816032651177, 363.11788824633715, 334.3828342928756, 306.42623266537606, 290.4110927333806, 271.7767478790953, 255.5484224714568, 235.6948595707166, 219.35359414625583, 207.1926968629481, 178.18843273486644, 176.91150594845135, 170.86357109379318, 162.1775577290307, 160.01551469227172, 159.92715429022255, 150.98693442108674, 149.69553190172942, 145.48700569970805, 143.5711864548947, 131.94682354411682, 128.94561372087284, 128.74610252002392, 126.39735457339384, 124.04574062883155, 119.91576235741753, 284.14605487315004, 2065.120394538498, 460.0277009085042, 1046.7232064081654, 420.18105318136065, 261.3892095497172, 453.85379964854206, 271.6996616247632, 265.14550173335243, 8590.34223480477, 3353.318137977606, 478.568711524036, 1173.2361825288715, 3414.111044346296, 2968.850115419806, 441.77579079172233, 311.7857681729482, 298.44341643429453, 272.9975983670624, 262.2991401284702, 242.54231059715624, 226.04375023109515, 212.7500215302909, 192.57535889871693, 180.76134480795199, 180.57314201727397, 177.47963018678846, 172.43593576589154, 170.05367340393704, 169.23260537742954, 167.23520634032963, 165.86203123951518, 162.12740990432297, 159.59305788502732, 159.13081097547456, 155.89390724043142, 153.68829059468626, 151.90228613255226, 147.01052258940788, 146.61319677436572, 146.3859691756962, 131.6220136057501, 130.28157702785066, 128.54517278492446, 127.87354867580711, 207.3498552525233, 203.94481754753664, 560.9335841954602, 207.8897557036119, 404.6038785893636, 288.76226189093387, 288.0718431345094, 277.8940162029016, 598.977947803341, 241.38370710712937, 204.240281020114, 629.1451934775583, 2039.1874754979365, 539.1505056634002, 429.25938742450955, 318.4884695262749, 256.5331982524771, 208.22004277110875, 197.8161022119308, 197.0681479708597, 187.04379245497566, 182.3869008929594, 150.2007094109387, 148.58057456376653, 143.37556879095445, 137.19928956982093, 453.27852442375814, 135.53072419132664, 126.0154616488268, 120.32984287582397, 118.06049000604906, 111.65484361750606, 109.94806885806237, 109.71700913328772, 107.414827573564, 104.80346872382219, 100.50816201936632, 95.89718182134446, 93.86460299785078, 92.10270427338894, 90.38765802551744, 87.99197678997014, 87.93415859345413, 445.7203790516452, 395.7147373954765, 150.87747704126693, 943.828851085225, 500.01965822235815, 175.66868461158677, 681.4509581658562, 1327.935228968103, 1214.310925147123, 373.72250756077483, 426.46959991954566, 1692.419056167533, 1494.3555904622365, 1327.3052832844876, 320.6304385982326, 2039.1874754979365, 904.5230732954576, 1371.03141218828, 731.9802322583106, 392.1392540281053, 507.44951005763437, 430.65601185110864, 364.81369245766075, 329.04512201052484, 278.28344556916613, 248.74864425933845, 246.25983262417708, 217.02832416799836, 205.54007082886375, 194.08499213964816, 186.6845021117011, 172.3462456566207, 166.66224260886915, 163.88925776986815, 161.9945501169144, 157.8661648563501, 149.64920702305952, 140.09904018035166, 132.24301900082872, 130.99614829663528, 128.50690209839883, 127.9589641919477, 127.57352845811651, 126.0125538231155, 122.02917704202532, 117.00411413236654, 116.10939937969671, 115.38805523248541, 101.83911074809053, 101.02764759654107, 347.7640082785153, 740.7856917173573, 243.91940458935997, 304.32565573335836, 680.5866994292776, 554.638605554114, 293.2435624751486, 427.15096963466027, 384.5520644385136, 182.20023123435604, 483.06975300426467, 1022.8658211934086, 532.9969757755023, 394.9999748444297, 370.28680166330525, 331.0969094743786, 279.5517927178646, 264.58570534502167, 262.5170685815157, 231.77865471176207, 211.79476697742993, 209.93585122324473, 206.41819215546744, 194.13124208923546, 183.92175289373586, 180.77303992544307, 177.54689507608182, 159.7588764102225, 145.1152094023806, 131.61829924549164, 129.40815803816605, 129.09428657005097, 115.52821074691123, 112.90299612814226, 110.24364422365035, 109.83269309567196, 106.54514896203122, 105.55500180417891, 102.77028677992124, 97.1295538852365, 94.35017101554685, 92.91936921018097, 314.44472968200967, 566.3808388856362, 675.8699346942561, 1172.393864199683, 325.804607555261, 605.5861420873084, 324.39017642144574, 1327.935228968103, 220.34686792962108, 540.910070735881, 312.0747244472932, 506.8483060462818, 687.7930192827366, 715.6595570671816, 396.8011894179849, 321.8106806484047, 288.2291513439754, 233.2380927369453, 220.25051050185016, 199.09314123934647, 177.0743914397631, 172.49432647964605, 170.79426870735753, 159.9099457361972, 144.0826471062437, 141.72206294016596, 122.15684022409528, 116.21278816515223, 111.90816181054329, 110.40864020942934, 105.13158867685486, 104.69685954198286, 103.91399214895351, 97.00632096740084, 96.14777996862436, 92.59028304769464, 88.97784540064328, 87.00625325008825, 86.5746818068134, 78.34743264189214, 75.46729086774506, 75.41758831907998, 75.34098799401694, 74.8321970864901, 947.9556553393744, 596.589987299968, 689.2453427428381, 324.3650345329061, 149.47115184593002, 504.87017097807194, 2140.466831546651, 856.5580642912171, 311.5607559864333, 1533.9712283334572, 1506.1975884781368, 909.9751376857739, 316.97645402195644, 273.03685014437707, 230.99062769094326, 187.1545790065994, 176.16736574272872, 159.8388503300627, 156.030798961423, 146.00229088607588, 135.16392590190642, 130.92130731468234, 129.2311823777957, 110.54106051362841, 103.44100248135463, 100.01827347889083, 94.76042485605599, 92.14057269124649, 91.00196098307147, 85.45597108894161, 85.40587582676544, 78.5207033872154, 77.00770237145366, 75.89883856975955, 74.97194999049579, 72.20116328521415, 70.40996677534821, 67.64551782101795, 67.12326392998271, 1055.3040370623717, 253.97367754098946, 460.496193260478, 2899.824838822585, 156.52016222060965, 475.03697128143875, 1125.8950197475308, 232.27466112341315, 288.59104735493696, 261.343474162194, 2281.0295341414007, 805.7262891422745, 617.0758514114477, 354.1600080545234, 302.5679286002913, 289.6355859710514, 269.03935618786255, 246.9121525378457, 239.48127949069985, 239.43342986192266, 229.05165547805686, 216.2834672866329, 182.96722012235236, 179.47981287037422, 176.9668271806984, 174.63981498045658, 169.13866661752127, 155.34037905779758, 149.8717213088623, 141.12876688544713, 129.46749678452744, 124.26907881048002, 120.84497540820952, 119.24898453575649, 109.9790535963784, 109.39513832695808, 107.4464141224604, 105.17836166027351, 104.79503096083789, 92.93766903529949, 91.3411788396805, 88.86251566454312, 133.0550223127716, 381.06994519173526, 1022.8658211934086, 554.638605554114, 562.058674277141, 610.7933190245536, 347.23513150514657, 385.4401484055589, 359.99016541120443, 345.5007782848171, 335.7883441335428, 311.739359744481, 301.51968261767587, 268.4622385819858, 256.1759554182472, 252.47298690625757, 237.37853645307246, 231.67801712738475, 195.9870833434956, 195.6284324391138, 180.62127339820964, 179.18575674410332, 174.8188667905211, 173.4216127649849, 163.91602411901047, 157.013867798338, 149.0057486606169, 135.1273889491504, 127.28550513484586, 120.4210422075046, 113.72456945562037, 113.45032862066772, 113.26814563280821, 112.84570403491658, 111.66137829033062, 108.5275225813812, 106.14425132445496, 97.0297959106468, 194.5946634575206, 503.12522700700254, 212.59779878003954, 385.4401484055589, 156.1975958747025, 282.534691143514, 461.0028152317914, 962.0054330738076, 420.18105318136065, 911.0299978488392, 488.163240957102, 431.45868229465646, 228.9373393807744, 225.29798973189432, 224.31978823116143, 212.2694641073391, 162.0935772175086, 142.53624305013884, 137.83424479761794, 133.01047584393703, 127.24360733474788, 120.59920412165671, 112.67891616453878, 112.54266763517876, 110.23663288619646, 104.27561604529022, 102.7926421829435, 102.4404457162295, 100.8256869198634, 98.571581084316, 98.43946337281093, 95.87582995914859, 95.12916968562152, 94.33185305501907, 90.00080653250605, 88.65992497045349, 87.27769610436661, 86.16132753195949, 84.94574094555726, 84.74329164314358, 540.5915994839307, 159.45244523432447, 764.7035706001508, 211.41301084319576, 246.40408375231507, 312.0747244472932, 449.5942477859098, 311.1563566096669, 168.05037402498556, 159.22064124745492, 136.09735632296315, 133.44265289188547, 121.4779490688904, 117.41569177224711, 116.93428493010393, 116.87105242935043, 112.97464602320164, 112.18506309052657, 109.90035812586747, 107.89093853242025, 101.49990770371647, 95.32790176474917, 92.87368622856653, 92.82580223124722, 89.2471714899931, 87.84034276750373, 81.77580242547015, 81.04302639468075, 80.41440367463213, 77.98432982835703, 67.29963416122047, 67.04558965607129, 65.34000188843297, 64.69462151728257, 64.02731526172865, 63.75607091448666, 76.90339484487568, 86.28046530345347, 144.765845408378, 278.6088999825399, 338.2074727106419, 174.02678314444398, 130.91946806233526, 317.4332381375534, 238.97182498971105, 173.15942540145534, 140.17372575480329, 137.76343473140594, 106.96151437117376, 87.39455938715324, 82.3954167443724, 72.81974894792995, 72.37070717607327, 70.49063981566134, 70.10683181194466, 68.3060868708815, 60.623390427390866, 58.70958412134967, 55.63677073767028, 52.535858095935566, 51.28375514719272, 50.04324591252652, 49.529374961590825, 49.02102242742896, 45.57542704810936, 42.38984040571674, 41.46180165912952, 40.930243562948746, 40.81150841044947, 40.53760265976577, 39.69622515291673, 37.05181382205832, 36.01488062015302, 4308.906709441226], \"Category\": [\"Default\", \"Default\", \"Default\", \"Default\", \"Default\", \"Default\", \"Default\", \"Default\", \"Default\", \"Default\", \"Default\", \"Default\", \"Default\", \"Default\", \"Default\", \"Default\", \"Default\", \"Default\", \"Default\", \"Default\", \"Default\", \"Default\", \"Default\", \"Default\", \"Default\", \"Default\", \"Default\", \"Default\", \"Default\", \"Default\", \"Topic1\", \"Topic1\", \"Topic1\", \"Topic1\", \"Topic1\", \"Topic1\", \"Topic1\", \"Topic1\", \"Topic1\", \"Topic1\", \"Topic1\", \"Topic1\", \"Topic1\", \"Topic1\", \"Topic1\", \"Topic1\", \"Topic1\", \"Topic1\", \"Topic1\", \"Topic1\", \"Topic1\", \"Topic1\", \"Topic1\", \"Topic1\", \"Topic1\", \"Topic1\", \"Topic1\", \"Topic1\", \"Topic1\", \"Topic1\", \"Topic1\", \"Topic1\", \"Topic1\", \"Topic1\", \"Topic1\", \"Topic1\", \"Topic1\", \"Topic1\", \"Topic1\", \"Topic1\", \"Topic1\", \"Topic1\", \"Topic1\", \"Topic1\", \"Topic1\", \"Topic1\", \"Topic1\", \"Topic1\", \"Topic1\", \"Topic1\", \"Topic1\", \"Topic1\", \"Topic1\", \"Topic1\", \"Topic1\", \"Topic1\", \"Topic1\", \"Topic1\", \"Topic1\", \"Topic1\", \"Topic1\", \"Topic1\", \"Topic1\", \"Topic1\", \"Topic1\", \"Topic1\", \"Topic2\", \"Topic2\", \"Topic2\", \"Topic2\", \"Topic2\", \"Topic2\", \"Topic2\", \"Topic2\", \"Topic2\", \"Topic2\", \"Topic2\", \"Topic2\", \"Topic2\", \"Topic2\", \"Topic2\", \"Topic2\", \"Topic2\", \"Topic2\", \"Topic2\", \"Topic2\", \"Topic2\", \"Topic2\", \"Topic2\", \"Topic2\", \"Topic2\", \"Topic2\", \"Topic2\", \"Topic2\", \"Topic2\", \"Topic2\", \"Topic2\", \"Topic2\", \"Topic2\", \"Topic2\", \"Topic2\", \"Topic2\", \"Topic2\", \"Topic2\", \"Topic2\", \"Topic2\", \"Topic2\", \"Topic2\", \"Topic2\", \"Topic2\", \"Topic2\", \"Topic2\", \"Topic2\", \"Topic2\", \"Topic2\", \"Topic2\", \"Topic2\", \"Topic2\", \"Topic2\", \"Topic2\", \"Topic2\", \"Topic2\", \"Topic2\", \"Topic2\", \"Topic2\", \"Topic2\", \"Topic2\", \"Topic3\", \"Topic3\", \"Topic3\", \"Topic3\", \"Topic3\", \"Topic3\", \"Topic3\", \"Topic3\", \"Topic3\", \"Topic3\", \"Topic3\", \"Topic3\", \"Topic3\", \"Topic3\", \"Topic3\", \"Topic3\", \"Topic3\", \"Topic3\", \"Topic3\", \"Topic3\", \"Topic3\", \"Topic3\", \"Topic3\", \"Topic3\", \"Topic3\", \"Topic3\", \"Topic3\", \"Topic3\", \"Topic3\", \"Topic3\", \"Topic3\", \"Topic3\", \"Topic3\", \"Topic3\", \"Topic3\", \"Topic3\", \"Topic3\", \"Topic3\", \"Topic3\", \"Topic3\", \"Topic3\", \"Topic3\", \"Topic3\", \"Topic3\", \"Topic3\", \"Topic3\", \"Topic3\", \"Topic3\", \"Topic3\", \"Topic3\", \"Topic3\", \"Topic3\", \"Topic3\", \"Topic3\", \"Topic3\", \"Topic3\", \"Topic3\", \"Topic3\", \"Topic3\", \"Topic3\", \"Topic3\", \"Topic3\", \"Topic3\", \"Topic3\", \"Topic4\", \"Topic4\", \"Topic4\", \"Topic4\", \"Topic4\", \"Topic4\", \"Topic4\", \"Topic4\", \"Topic4\", \"Topic4\", \"Topic4\", \"Topic4\", \"Topic4\", \"Topic4\", \"Topic4\", \"Topic4\", \"Topic4\", \"Topic4\", \"Topic4\", \"Topic4\", \"Topic4\", \"Topic4\", \"Topic4\", \"Topic4\", \"Topic4\", \"Topic4\", \"Topic4\", \"Topic4\", \"Topic4\", \"Topic4\", \"Topic4\", \"Topic4\", \"Topic4\", \"Topic4\", \"Topic4\", \"Topic4\", \"Topic4\", \"Topic4\", \"Topic4\", \"Topic4\", \"Topic4\", \"Topic4\", \"Topic4\", \"Topic4\", \"Topic4\", \"Topic4\", \"Topic4\", \"Topic4\", \"Topic4\", \"Topic5\", \"Topic5\", \"Topic5\", \"Topic5\", \"Topic5\", \"Topic5\", \"Topic5\", \"Topic5\", \"Topic5\", \"Topic5\", \"Topic5\", \"Topic5\", \"Topic5\", \"Topic5\", \"Topic5\", \"Topic5\", \"Topic5\", \"Topic5\", \"Topic5\", \"Topic5\", \"Topic5\", \"Topic5\", \"Topic5\", \"Topic5\", \"Topic5\", \"Topic5\", \"Topic5\", \"Topic5\", \"Topic5\", \"Topic5\", \"Topic5\", \"Topic5\", \"Topic5\", \"Topic5\", \"Topic5\", \"Topic5\", \"Topic5\", \"Topic5\", \"Topic5\", \"Topic5\", \"Topic5\", \"Topic5\", \"Topic5\", \"Topic5\", \"Topic5\", \"Topic5\", \"Topic5\", \"Topic5\", \"Topic5\", \"Topic5\", \"Topic5\", \"Topic5\", \"Topic5\", \"Topic5\", \"Topic5\", \"Topic5\", \"Topic6\", \"Topic6\", \"Topic6\", \"Topic6\", \"Topic6\", \"Topic6\", \"Topic6\", \"Topic6\", \"Topic6\", \"Topic6\", \"Topic6\", \"Topic6\", \"Topic6\", \"Topic6\", \"Topic6\", \"Topic6\", \"Topic6\", \"Topic6\", \"Topic6\", \"Topic6\", \"Topic6\", \"Topic6\", \"Topic6\", \"Topic6\", \"Topic6\", \"Topic6\", \"Topic6\", \"Topic6\", \"Topic6\", \"Topic6\", \"Topic6\", \"Topic6\", \"Topic6\", \"Topic6\", \"Topic6\", \"Topic6\", \"Topic6\", \"Topic6\", \"Topic6\", \"Topic6\", \"Topic6\", \"Topic6\", \"Topic6\", \"Topic6\", \"Topic6\", \"Topic6\", \"Topic6\", \"Topic6\", \"Topic6\", \"Topic6\", \"Topic6\", \"Topic6\", \"Topic6\", \"Topic6\", \"Topic7\", \"Topic7\", \"Topic7\", \"Topic7\", \"Topic7\", \"Topic7\", \"Topic7\", \"Topic7\", \"Topic7\", \"Topic7\", \"Topic7\", \"Topic7\", \"Topic7\", \"Topic7\", \"Topic7\", \"Topic7\", \"Topic7\", \"Topic7\", \"Topic7\", \"Topic7\", \"Topic7\", \"Topic7\", \"Topic7\", \"Topic7\", \"Topic7\", \"Topic7\", \"Topic7\", \"Topic7\", \"Topic7\", \"Topic7\", \"Topic7\", \"Topic7\", \"Topic7\", \"Topic7\", \"Topic7\", \"Topic7\", \"Topic7\", \"Topic7\", \"Topic7\", \"Topic7\", \"Topic7\", \"Topic7\", \"Topic7\", \"Topic7\", \"Topic7\", \"Topic7\", \"Topic7\", \"Topic7\", \"Topic7\", \"Topic7\", \"Topic7\", \"Topic7\", \"Topic7\", \"Topic7\", \"Topic7\", \"Topic8\", \"Topic8\", \"Topic8\", \"Topic8\", \"Topic8\", \"Topic8\", \"Topic8\", \"Topic8\", \"Topic8\", \"Topic8\", \"Topic8\", \"Topic8\", \"Topic8\", \"Topic8\", \"Topic8\", \"Topic8\", \"Topic8\", \"Topic8\", \"Topic8\", \"Topic8\", \"Topic8\", \"Topic8\", \"Topic8\", \"Topic8\", \"Topic8\", \"Topic8\", \"Topic8\", \"Topic8\", \"Topic8\", \"Topic8\", \"Topic8\", \"Topic8\", \"Topic8\", \"Topic8\", \"Topic8\", \"Topic8\", \"Topic8\", \"Topic8\", \"Topic8\", \"Topic8\", \"Topic8\", \"Topic8\", \"Topic8\", \"Topic8\", \"Topic8\", \"Topic8\", \"Topic8\", \"Topic9\", \"Topic9\", \"Topic9\", \"Topic9\", \"Topic9\", \"Topic9\", \"Topic9\", \"Topic9\", \"Topic9\", \"Topic9\", \"Topic9\", \"Topic9\", \"Topic9\", \"Topic9\", \"Topic9\", \"Topic9\", \"Topic9\", \"Topic9\", \"Topic9\", \"Topic9\", \"Topic9\", \"Topic9\", \"Topic9\", \"Topic9\", \"Topic9\", \"Topic9\", \"Topic9\", \"Topic9\", \"Topic9\", \"Topic9\", \"Topic9\", \"Topic9\", \"Topic9\", \"Topic9\", \"Topic9\", \"Topic9\", \"Topic9\", \"Topic9\", \"Topic9\", \"Topic9\", \"Topic9\", \"Topic9\", \"Topic9\", \"Topic9\", \"Topic9\", \"Topic10\", \"Topic10\", \"Topic10\", \"Topic10\", \"Topic10\", \"Topic10\", \"Topic10\", \"Topic10\", \"Topic10\", \"Topic10\", \"Topic10\", \"Topic10\", \"Topic10\", \"Topic10\", \"Topic10\", \"Topic10\", \"Topic10\", \"Topic10\", \"Topic10\", \"Topic10\", \"Topic10\", \"Topic10\", \"Topic10\", \"Topic10\", \"Topic10\", \"Topic10\", \"Topic10\", \"Topic10\", \"Topic10\", \"Topic10\", \"Topic10\", \"Topic10\", \"Topic10\", \"Topic10\", \"Topic10\", \"Topic10\", \"Topic10\", \"Topic10\", \"Topic10\", \"Topic10\", \"Topic10\", \"Topic10\", \"Topic10\", \"Topic11\", \"Topic11\", \"Topic11\", \"Topic11\", \"Topic11\", \"Topic11\", \"Topic11\", \"Topic11\", \"Topic11\", \"Topic11\", \"Topic11\", \"Topic11\", \"Topic11\", \"Topic11\", \"Topic11\", \"Topic11\", \"Topic11\", \"Topic11\", \"Topic11\", \"Topic11\", \"Topic11\", \"Topic11\", \"Topic11\", \"Topic11\", \"Topic11\", \"Topic11\", \"Topic11\", \"Topic11\", \"Topic11\", \"Topic11\", \"Topic11\", \"Topic11\", \"Topic11\", \"Topic11\", \"Topic11\", \"Topic11\", \"Topic11\", \"Topic11\", \"Topic11\", \"Topic11\", \"Topic11\", \"Topic11\", \"Topic11\", \"Topic11\", \"Topic11\", \"Topic11\", \"Topic11\", \"Topic11\", \"Topic11\", \"Topic11\", \"Topic12\", \"Topic12\", \"Topic12\", \"Topic12\", \"Topic12\", \"Topic12\", \"Topic12\", \"Topic12\", \"Topic12\", \"Topic12\", \"Topic12\", \"Topic12\", \"Topic12\", \"Topic12\", \"Topic12\", \"Topic12\", \"Topic12\", \"Topic12\", \"Topic12\", \"Topic12\", \"Topic12\", \"Topic12\", \"Topic12\", \"Topic12\", \"Topic12\", \"Topic12\", \"Topic12\", \"Topic12\", \"Topic12\", \"Topic12\", \"Topic12\", \"Topic12\", \"Topic12\", \"Topic12\", \"Topic12\", \"Topic12\", \"Topic12\", \"Topic12\", \"Topic12\", \"Topic12\", \"Topic12\", \"Topic12\", \"Topic13\", \"Topic13\", \"Topic13\", \"Topic13\", \"Topic13\", \"Topic13\", \"Topic13\", \"Topic13\", \"Topic13\", \"Topic13\", \"Topic13\", \"Topic13\", \"Topic13\", \"Topic13\", \"Topic13\", \"Topic13\", \"Topic13\", \"Topic13\", \"Topic13\", \"Topic13\", \"Topic13\", \"Topic13\", \"Topic13\", \"Topic13\", \"Topic13\", \"Topic13\", \"Topic13\", \"Topic13\", \"Topic13\", \"Topic13\", \"Topic13\", \"Topic13\", \"Topic13\", \"Topic13\", \"Topic13\", \"Topic13\", \"Topic13\", \"Topic13\", \"Topic13\", \"Topic13\", \"Topic13\", \"Topic13\", \"Topic13\", \"Topic13\", \"Topic14\", \"Topic14\", \"Topic14\", \"Topic14\", \"Topic14\", \"Topic14\", \"Topic14\", \"Topic14\", \"Topic14\", \"Topic14\", \"Topic14\", \"Topic14\", \"Topic14\", \"Topic14\", \"Topic14\", \"Topic14\", \"Topic14\", \"Topic14\", \"Topic14\", \"Topic14\", \"Topic14\", \"Topic14\", \"Topic14\", \"Topic14\", \"Topic14\", \"Topic14\", \"Topic14\", \"Topic14\", \"Topic14\", \"Topic14\", \"Topic14\", \"Topic14\", \"Topic14\", \"Topic14\", \"Topic14\", \"Topic14\", \"Topic14\", \"Topic14\", \"Topic14\", \"Topic15\", \"Topic15\", \"Topic15\", \"Topic15\", \"Topic15\", \"Topic15\", \"Topic15\", \"Topic15\", \"Topic15\", \"Topic15\", \"Topic15\", \"Topic15\", \"Topic15\", \"Topic15\", \"Topic15\", \"Topic15\", \"Topic15\", \"Topic15\", \"Topic15\", \"Topic15\", \"Topic15\", \"Topic15\", \"Topic15\", \"Topic15\", \"Topic15\", \"Topic15\", \"Topic15\", \"Topic15\", \"Topic15\", \"Topic15\", \"Topic15\", \"Topic15\", \"Topic15\", \"Topic15\", \"Topic15\", \"Topic15\", \"Topic15\", \"Topic15\", \"Topic15\", \"Topic15\", \"Topic15\", \"Topic15\", \"Topic16\", \"Topic16\", \"Topic16\", \"Topic16\", \"Topic16\", \"Topic16\", \"Topic16\", \"Topic16\", \"Topic16\", \"Topic16\", \"Topic16\", \"Topic16\", \"Topic16\", \"Topic16\", \"Topic16\", \"Topic16\", \"Topic16\", \"Topic16\", \"Topic16\", \"Topic16\", \"Topic16\", \"Topic16\", \"Topic16\", \"Topic16\", \"Topic16\", \"Topic16\", \"Topic16\", \"Topic16\", \"Topic16\", \"Topic16\", \"Topic16\", \"Topic16\", \"Topic16\", \"Topic16\", \"Topic16\", \"Topic16\", \"Topic16\", \"Topic16\", \"Topic17\", \"Topic17\", \"Topic17\", \"Topic17\", \"Topic17\", \"Topic17\", \"Topic17\", \"Topic17\", \"Topic17\", \"Topic17\", \"Topic17\", \"Topic17\", \"Topic17\", \"Topic17\", \"Topic17\", \"Topic17\", \"Topic17\", \"Topic17\", \"Topic17\", \"Topic17\", \"Topic17\", \"Topic17\", \"Topic17\", \"Topic17\", \"Topic17\", \"Topic17\", \"Topic17\", \"Topic17\", \"Topic17\", \"Topic17\", \"Topic17\", \"Topic17\", \"Topic17\", \"Topic17\", \"Topic17\", \"Topic17\", \"Topic17\", \"Topic17\", \"Topic17\", \"Topic17\", \"Topic18\", \"Topic18\", \"Topic18\", \"Topic18\", \"Topic18\", \"Topic18\", \"Topic18\", \"Topic18\", \"Topic18\", \"Topic18\", \"Topic18\", \"Topic18\", \"Topic18\", \"Topic18\", \"Topic18\", \"Topic18\", \"Topic18\", \"Topic18\", \"Topic18\", \"Topic18\", \"Topic18\", \"Topic18\", \"Topic18\", \"Topic18\", \"Topic18\", \"Topic18\", \"Topic18\", \"Topic18\", \"Topic18\", \"Topic18\", \"Topic18\", \"Topic18\", \"Topic18\", \"Topic18\", \"Topic18\", \"Topic18\", \"Topic19\", \"Topic19\", \"Topic19\", \"Topic19\", \"Topic19\", \"Topic19\", \"Topic19\", \"Topic19\", \"Topic19\", \"Topic19\", \"Topic19\", \"Topic19\", \"Topic19\", \"Topic19\", \"Topic19\", \"Topic19\", \"Topic19\", \"Topic19\", \"Topic19\", \"Topic19\", \"Topic19\", \"Topic19\", \"Topic19\", \"Topic19\", \"Topic19\", \"Topic19\", \"Topic19\", \"Topic19\", \"Topic19\", \"Topic19\", \"Topic19\", \"Topic19\", \"Topic19\", \"Topic19\", \"Topic19\", \"Topic19\", \"Topic19\", \"Topic20\", \"Topic20\", \"Topic20\", \"Topic20\", \"Topic20\", \"Topic20\", \"Topic20\", \"Topic20\", \"Topic20\", \"Topic20\", \"Topic20\", \"Topic20\", \"Topic20\", \"Topic20\", \"Topic20\", \"Topic20\", \"Topic20\", \"Topic20\", \"Topic20\", \"Topic20\", \"Topic20\", \"Topic20\", \"Topic20\", \"Topic20\", \"Topic20\", \"Topic20\", \"Topic20\", \"Topic20\", \"Topic20\", \"Topic20\", \"Topic20\"], \"logprob\": [30.0, 29.0, 28.0, 27.0, 26.0, 25.0, 24.0, 23.0, 22.0, 21.0, 20.0, 19.0, 18.0, 17.0, 16.0, 15.0, 14.0, 13.0, 12.0, 11.0, 10.0, 9.0, 8.0, 7.0, 6.0, 5.0, 4.0, 3.0, 2.0, 1.0, -4.016600131988525, -4.055200099945068, -4.613800048828125, -5.019999980926514, -5.212699890136719, -5.269800186157227, -5.315800189971924, -5.382999897003174, -5.644400119781494, -5.8541998863220215, -5.917799949645996, -6.037099838256836, -6.098199844360352, -6.21589994430542, -6.242000102996826, -6.2505998611450195, -6.326900005340576, -6.456399917602539, -6.504799842834473, -6.645599842071533, -6.7846999168396, -6.837200164794922, -6.8572998046875, -6.880899906158447, -7.03410005569458, -7.047900199890137, -7.059500217437744, -7.091400146484375, -7.107999801635742, -7.112400054931641, -3.4021999835968018, -5.339600086212158, -5.360599994659424, -4.9145002365112305, -3.730299949645996, -4.195400238037109, -5.275100231170654, -5.060999870300293, -5.091800212860107, -5.087800025939941, -4.766600131988525, -4.5457000732421875, -4.367499828338623, -4.305799961090088, -5.569300174713135, -3.648699998855591, -5.34630012512207, -4.392099857330322, -3.7904999256134033, -4.127099990844727, -3.4205000400543213, -4.6402997970581055, -4.413000106811523, -4.229300022125244, -4.792500019073486, -4.300000190734863, -4.813199996948242, -4.767399787902832, -4.8383002281188965, -4.912199974060059, -5.043000221252441, -4.893899917602539, -4.65939998626709, -4.945400238037109, -4.9842000007629395, -5.001999855041504, -4.134500026702881, -4.261199951171875, -4.633500099182129, -4.859499931335449, -4.98360013961792, -5.013000011444092, -5.352499961853027, -5.369699954986572, -5.378600120544434, -5.443900108337402, -5.465700149536133, -5.468800067901611, -5.703800201416016, -5.708799839019775, -5.753799915313721, -5.776400089263916, -5.910099983215332, -5.942299842834473, -6.047800064086914, -6.0782999992370605, -6.156799793243408, -6.188199996948242, -6.277400016784668, -6.298500061035156, -6.304299831390381, -6.345399856567383, -6.353600025177002, -6.355899810791016, -6.39739990234375, -6.411499977111816, -5.0879998207092285, -4.88730001449585, -5.379899978637695, -5.747900009155273, -5.36460018157959, -5.980899810791016, -4.266300201416016, -5.431300163269043, -5.2316999435424805, -4.927599906921387, -4.9492998123168945, -4.883399963378906, -3.9001998901367188, -3.8907999992370605, -5.258900165557861, -4.808800220489502, -5.347499847412109, -5.542699813842773, -4.921000003814697, -4.824699878692627, -5.502399921417236, -5.30649995803833, -4.777900218963623, -4.929200172424316, -5.04040002822876, -5.146500110626221, -5.237400054931641, -5.294000148773193, -5.302599906921387, -5.316199779510498, -5.3454999923706055, -4.392499923706055, -5.127500057220459, -5.603300094604492, -5.604899883270264, -5.689899921417236, -5.7718000411987305, -5.785200119018555, -5.793499946594238, -5.9243998527526855, -5.928199768066406, -5.928299903869629, -5.729599952697754, -5.985400199890137, -5.991000175476074, -6.1092000007629395, -6.134699821472168, -6.215000152587891, -6.241600036621094, -6.252399921417236, -6.278900146484375, -6.282800197601318, -6.312300205230713, -6.361999988555908, -6.380799770355225, -6.394999980926514, -6.398099899291992, -6.4217000007629395, -6.449100017547607, -6.454400062561035, -6.479300022125244, -5.883600234985352, -5.793399810791016, -5.315999984741211, -5.578800201416016, -4.735099792480469, -6.177499771118164, -5.4644999504089355, -5.554500102996826, -5.1244001388549805, -3.4358999729156494, -6.014100074768066, -4.206699848175049, -5.405700206756592, -5.916100025177002, -5.937099933624268, -5.650199890136719, -5.596799850463867, -5.2393999099731445, -5.224999904632568, -5.551199913024902, -5.101399898529053, -5.509900093078613, -4.998700141906738, -5.354300022125244, -5.3343000411987305, -5.650199890136719, -5.372399806976318, -5.0914998054504395, -5.348100185394287, -5.407400131225586, -5.22730016708374, -5.394999980926514, -5.568999767303467, -5.503499984741211, -3.950900077819824, -4.383299827575684, -4.637800216674805, -4.760200023651123, -4.769100189208984, -4.871699810028076, -4.977799892425537, -5.047599792480469, -5.216300010681152, -5.241099834442139, -5.3078999519348145, -5.36460018157959, -5.401899814605713, -5.453100204467773, -5.548900127410889, -5.553899765014648, -5.589300155639648, -5.60699987411499, -5.665599822998047, -5.688199996948242, -5.71120023727417, -5.7322998046875, -5.732900142669678, -5.777599811553955, -5.815000057220459, -5.81879997253418, -5.8256001472473145, -5.860000133514404, -5.863699913024902, -5.917200088500977, -4.549099922180176, -4.35260009765625, -4.75, -5.147500038146973, -4.901000022888184, -4.731800079345703, -5.470900058746338, -5.199999809265137, -5.063700199127197, -5.075799942016602, -4.936200141906738, -4.48390007019043, -4.7480998039245605, -5.070099830627441, -5.148799896240234, -5.467800140380859, -5.374499797821045, -5.422900199890137, -5.445199966430664, -3.766700029373169, -4.00600004196167, -4.048699855804443, -4.543600082397461, -4.6153998374938965, -4.701900005340576, -4.859300136566162, -4.926000118255615, -4.994500160217285, -4.996500015258789, -5.325799942016602, -5.486000061035156, -5.110199928283691, -5.514100074768066, -5.615799903869629, -5.655300140380859, -5.699699878692627, -5.7266998291015625, -5.743599891662598, -5.850299835205078, -5.851200103759766, -5.858399868011475, -5.9182000160217285, -6.013999938964844, -6.042399883270264, -6.042399883270264, -6.05049991607666, -6.086999893188477, -6.146900177001953, -6.178299903869629, -4.183000087738037, -5.103400230407715, -4.395400047302246, -5.388700008392334, -4.643899917602539, -4.7906999588012695, -5.006199836730957, -5.1707000732421875, -5.288700103759766, -4.622000217437744, -4.396599769592285, -4.284200191497803, -4.765100002288818, -3.1459999084472656, -4.392899990081787, -5.012599945068359, -3.6907999515533447, -3.815000057220459, -4.3078999519348145, -4.656499862670898, -4.462800025939941, -4.240499973297119, -4.960700035095215, -4.930699825286865, -4.854000091552734, -4.9506001472473145, -3.490499973297119, -3.7056000232696533, -4.276800155639648, -4.431399822235107, -4.48960018157959, -4.677499771118164, -4.694499969482422, -4.7017998695373535, -4.962800025939941, -5.107399940490723, -5.206500053405762, -5.387400150299072, -5.408599853515625, -5.411200046539307, -5.43720006942749, -5.4593000411987305, -5.5777997970581055, -5.639999866485596, -5.703499794006348, -5.735300064086914, -5.750800132751465, -5.802700042724609, -5.81279993057251, -5.857900142669678, -5.922299861907959, -5.936200141906738, -5.990099906921387, -5.993299961090088, -6.021100044250488, -6.034200191497803, -3.507699966430664, -4.7494001388549805, -4.822400093078613, -5.6570000648498535, -5.420199871063232, -4.869699954986572, -4.2241997718811035, -4.905900001525879, -5.593599796295166, -4.081200122833252, -3.5971999168395996, -5.517300128936768, -4.559500217437744, -5.186399936676025, -5.232500076293945, -5.016499996185303, -5.333000183105469, -5.15749979019165, -5.203400135040283, -5.261000156402588, -5.19950008392334, -5.223400115966797, -5.325300216674805, -5.297800064086914, -3.862799882888794, -4.591800212860107, -4.890999794006348, -4.989999771118164, -5.208600044250488, -5.39900016784668, -5.440499782562256, -5.441299915313721, -5.48799991607666, -5.591400146484375, -5.721099853515625, -5.766499996185303, -5.800300121307373, -5.81879997253418, -5.825300216674805, -5.847400188446045, -5.873499870300293, -5.8856000900268555, -5.904799938201904, -5.943999767303467, -5.9721999168396, -5.973999977111816, -6.0229997634887695, -6.023200035095215, -6.10860013961792, -6.113100051879883, -6.127200126647949, -6.136499881744385, -6.15310001373291, -6.161200046539307, -5.121600151062012, -5.2067999839782715, -5.404099941253662, -5.498899936676025, -4.607900142669678, -3.753999948501587, -4.940299987792969, -4.700099945068359, -5.262700080871582, -4.973599910736084, -4.521299839019775, -5.546199798583984, -4.8668999671936035, -5.200399875640869, -4.4558000564575195, -5.604499816894531, -5.117599964141846, -5.295599937438965, -4.659200191497803, -5.578700065612793, -5.377900123596191, -5.324900150299072, -5.437399864196777, -5.353400230407715, -5.456999778747559, -3.485100030899048, -4.2891998291015625, -4.576700210571289, -4.5970001220703125, -4.6596999168396, -4.73360013961792, -4.8343000411987305, -4.948999881744385, -5.176400184631348, -5.257900238037109, -5.326300144195557, -5.327199935913086, -5.420400142669678, -5.461100101470947, -5.469200134277344, -5.507599830627441, -5.52400016784668, -5.585000038146973, -5.591599941253662, -5.60099983215332, -5.6828999519348145, -5.777900218963623, -5.780900001525879, -5.793700218200684, -5.80079984664917, -5.802199840545654, -5.84119987487793, -5.841400146484375, -5.842299938201904, -5.996799945831299, -4.911600112915039, -4.537199974060059, -4.744800090789795, -4.238800048828125, -5.135799884796143, -5.2617998123168945, -5.2606000900268555, -4.922500133514404, -5.173299789428711, -5.0106000900268555, -4.450699806213379, -5.289599895477295, -5.302299976348877, -4.924300193786621, -5.431099891662598, -5.382500171661377, -5.446300029754639, -4.229300022125244, -4.23859977722168, -4.508800029754639, -4.557000160217285, -4.562600135803223, -4.5644001960754395, -4.64709997177124, -4.7347002029418945, -4.78849983215332, -4.855100154876709, -4.916800022125244, -4.998000144958496, -5.070199966430664, -5.127500057220459, -5.2789998054504395, -5.286200046539307, -5.321199893951416, -5.373700141906738, -5.387199878692627, -5.387700080871582, -5.4456000328063965, -5.4542999267578125, -5.482999801635742, -5.496300220489502, -5.581299781799316, -5.604499816894531, -5.605999946594238, -5.624599933624268, -5.643499851226807, -5.677599906921387, -4.865900039672852, -3.232800006866455, -4.528500080108643, -4.1230998039245605, -4.851900100708008, -5.169300079345703, -4.88129997253418, -5.16379976272583, -5.213600158691406, -3.8910000324249268, -4.490300178527832, -5.061500072479248, -4.940299987792969, -4.827899932861328, -4.921000003814697, -4.348700046539307, -4.6981000900268555, -4.742000102996826, -4.831399917602539, -4.871500015258789, -4.950099945068359, -5.0208001136779785, -5.081699848175049, -5.18179988861084, -5.2453999519348145, -5.246500015258789, -5.263800144195557, -5.292799949645996, -5.30679988861084, -5.311699867248535, -5.323599815368652, -5.331900119781494, -5.354800224304199, -5.37060022354126, -5.373600006103516, -5.394199848175049, -5.408599853515625, -5.420300006866455, -5.4532999992370605, -5.455999851226807, -5.457600116729736, -5.564599990844727, -5.574900150299072, -5.588399887084961, -5.593699932098389, -5.132900238037109, -5.155900001525879, -4.245800018310547, -5.174300193786621, -4.628900051116943, -4.973499774932861, -5.029699802398682, -5.124599933624268, -4.897299766540527, -5.257199764251709, -5.3119001388549805, -5.202400207519531, -5.332200050354004, -4.103600025177002, -4.331999778747559, -4.631199836730957, -4.848199844360352, -5.057700157165527, -5.1092000007629395, -5.11299991607666, -5.165500164031982, -5.190800189971924, -5.386099815368652, -5.396999835968018, -5.4328999519348145, -5.477200031280518, -4.282299995422363, -5.489699840545654, -5.56279993057251, -5.609399795532227, -5.628600120544434, -5.684800148010254, -5.700300216674805, -5.702400207519531, -5.723800182342529, -5.748700141906738, -5.790900230407715, -5.8383002281188965, -5.859899997711182, -5.8790998458862305, -5.898099899291992, -5.92519998550415, -5.925899982452393, -4.335599899291992, -4.466899871826172, -5.430099964141846, -3.786799907684326, -4.429800033569336, -5.357699871063232, -4.439000129699707, -4.16510009765625, -4.431000232696533, -5.078100204467773, -5.03380012512207, -4.423600196838379, -4.578000068664551, -4.678100109100342, -5.270299911499023, -4.804100036621094, -5.059999942779541, -4.972599983215332, -5.151400089263916, -5.338500022888184, -4.151500225067139, -4.315899848937988, -4.4822001457214355, -4.585700035095215, -4.753799915313721, -4.866300106048584, -4.876399993896484, -5.003300189971924, -5.0578999519348145, -5.115600109100342, -5.154600143432617, -5.235000133514404, -5.268700122833252, -5.2855000495910645, -5.2972002029418945, -5.323200225830078, -5.376999855041504, -5.443399906158447, -5.501500129699707, -5.511000156402588, -5.530300140380859, -5.534599781036377, -5.537700176239014, -5.550099849700928, -5.582399845123291, -5.624800205230713, -5.632599830627441, -5.638800144195557, -5.764800071716309, -5.772900104522705, -4.55649995803833, -3.873800039291382, -5.040500164031982, -4.92549991607666, -4.3379998207092285, -4.63070011138916, -5.048500061035156, -5.119200229644775, -5.221199989318848, -5.44890022277832, -5.247099876403809, -5.15749979019165, -4.068699836730957, -4.36899995803833, -4.433700084686279, -4.545899868011475, -4.71560001373291, -4.7708001136779785, -4.77869987487793, -4.90369987487793, -4.99429988861084, -5.0030999183654785, -5.020100116729736, -5.0817999839782715, -5.136000156402588, -5.15339994430542, -5.171500205993652, -5.277699947357178, -5.3744001388549805, -5.472700119018555, -5.489699840545654, -5.492199897766113, -5.604100227355957, -5.627200126647949, -5.651299953460693, -5.65500020980835, -5.685699939727783, -5.695099830627441, -5.722099781036377, -5.779099941253662, -5.8084001541137695, -5.823800086975098, -4.605899810791016, -4.026400089263916, -3.8726000785827637, -3.409899950027466, -4.633999824523926, -4.0640997886657715, -4.70389986038208, -3.634999990463257, -5.231100082397461, -4.719099998474121, -5.096199989318848, -5.1280999183654785, -5.199100017547607, -5.321100234985352, -4.1956000328063965, -4.405600070953369, -4.516200065612793, -4.728600025177002, -4.786200046539307, -4.887599945068359, -5.00540018081665, -5.031799793243408, -5.0416998863220215, -5.107900142669678, -5.212800025939941, -5.229400157928467, -5.3790998458862305, -5.429299831390381, -5.467400074005127, -5.480999946594238, -5.530399799346924, -5.534599781036377, -5.542200088500977, -5.611599922180176, -5.62060022354126, -5.658699989318848, -5.69890022277832, -5.721499919891357, -5.726500034332275, -5.827499866485596, -5.865499973297119, -5.866099834442139, -5.867199897766113, -5.874000072479248, -3.4804000854492188, -4.4756999015808105, -4.5767998695373535, -5.160099983215332, -5.634900093078613, -5.404900074005127, -5.387400150299072, -5.55709981918335, -5.6433000564575195, -2.8413000106811523, -2.859600067138672, -3.3638999462127686, -4.420499801635742, -4.570199966430664, -4.73799991607666, -4.949399948120117, -5.010200023651123, -5.107999801635742, -5.132299900054932, -5.199100017547607, -5.276800155639648, -5.308899879455566, -5.322000026702881, -5.479400157928467, -5.54640007019043, -5.580399990081787, -5.634900093078613, -5.6631999015808105, -5.67579984664917, -5.739299774169922, -5.7399001121521, -5.824900150299072, -5.844600200653076, -5.859300136566162, -5.871799945831299, -5.909900188446045, -5.935400009155273, -5.97599983215332, -5.983799934387207, -3.422800064086914, -4.853400230407715, -4.386499881744385, -3.9102001190185547, -5.487199783325195, -4.9653000831604, -4.607399940490723, -5.344399929046631, -5.256800174713135, -5.299900054931641, -4.552700042724609, -5.328000068664551, -3.724900007247925, -4.281199932098389, -4.4390997886657715, -4.482999801635742, -4.557000160217285, -4.643099784851074, -4.673799991607666, -4.673999786376953, -4.718500137329102, -4.776100158691406, -4.944200038909912, -4.963500022888184, -4.977700233459473, -4.991000175476074, -5.023200035095215, -5.108799934387207, -5.144800186157227, -5.2052998542785645, -5.292200088500977, -5.333499908447266, -5.361599922180176, -5.375, -5.456600189208984, -5.461999893188477, -5.480100154876709, -5.5015997886657715, -5.505300045013428, -5.626500129699707, -5.644100189208984, -5.671899795532227, -5.429200172424316, -5.014800071716309, -4.834000110626221, -5.088699817657471, -5.184100151062012, -5.196499824523926, -5.34250020980835, -5.3805999755859375, -4.261499881744385, -4.302700042724609, -4.331299781799316, -4.405799865722656, -4.439199924468994, -4.555699825286865, -4.602700233459473, -4.617400169372559, -4.679200172424316, -4.703700065612793, -4.871699810028076, -4.873499870300293, -4.953700065612793, -4.9618000984191895, -4.986599922180176, -4.99459981918335, -5.051300048828125, -5.094600200653076, -5.147299766540527, -5.245699882507324, -5.3059000968933105, -5.361700057983398, -5.419400215148926, -5.421800136566162, -5.423500061035156, -5.427199840545654, -5.437900066375732, -5.466599941253662, -5.488999843597412, -5.579599857330322, -4.953400135040283, -4.3140997886657715, -4.98199987411499, -4.55810022354126, -5.234600067138672, -5.104800224304199, -5.036600112915039, -4.868599891662598, -5.1504998207092285, -5.144999980926514, -3.7644999027252197, -3.8882999420166016, -4.523900032043457, -4.539999961853027, -4.544400215148926, -4.599800109863281, -4.8709001541137695, -5.00029993057251, -5.033999919891357, -5.069900035858154, -5.11460018157959, -5.168600082397461, -5.237100124359131, -5.23829984664917, -5.259200096130371, -5.315299987792969, -5.329699993133545, -5.333199977874756, -5.3491997718811035, -5.372000217437744, -5.3734002113342285, -5.400000095367432, -5.407899856567383, -5.416399955749512, -5.463900089263916, -5.479100227355957, -5.494999885559082, -5.507999897003174, -5.52239990234375, -5.524799823760986, -3.804800033569336, -5.008800029754639, -4.002200126647949, -5.088600158691406, -5.132400035858154, -5.286600112915039, -3.725800037384033, -4.094799995422363, -4.713399887084961, -4.7677001953125, -4.925600051879883, -4.945499897003174, -5.04010009765625, -5.074399948120117, -5.078499794006348, -5.079100131988525, -5.1132001876831055, -5.120299816131592, -5.14109992980957, -5.1596999168396, -5.22130012512207, -5.284599781036377, -5.310999870300293, -5.311500072479248, -5.351200103759766, -5.367300033569336, -5.439599990844727, -5.448699951171875, -5.456600189208984, -5.48769998550415, -5.636899948120117, -5.6407999992370605, -5.666900157928467, -5.677000045776367, -5.6875, -5.691800117492676, -5.513400077819824, -5.407199859619141, -5.049799919128418, -4.880799770355225, -4.916100025177002, -5.419099807739258, -5.505899906158447, -3.874500036239624, -4.15939998626709, -4.483099937438965, -4.695700168609619, -4.713099956512451, -4.968200206756592, -5.1722002029418945, -5.231800079345703, -5.356900215148926, -5.363100051879883, -5.389800071716309, -5.395299911499023, -5.4217000007629395, -5.542799949645996, -5.575399875640869, -5.630099773406982, -5.688399791717529, -5.7129998207092285, -5.73799991607666, -5.748499870300293, -5.758999824523926, -5.833399772644043, -5.907400131225586, -5.930099964141846, -5.943299770355225, -5.946199893951416, -5.953100204467773, -5.974599838256836, -6.045300006866455, -6.074399948120117, -3.8492000102996826], \"loglift\": [30.0, 29.0, 28.0, 27.0, 26.0, 25.0, 24.0, 23.0, 22.0, 21.0, 20.0, 19.0, 18.0, 17.0, 16.0, 15.0, 14.0, 13.0, 12.0, 11.0, 10.0, 9.0, 8.0, 7.0, 6.0, 5.0, 4.0, 3.0, 2.0, 1.0, 1.4106, 1.4106, 1.4104, 1.4103, 1.4102, 1.4102, 1.4101, 1.4101, 1.4099, 1.4097, 1.4096, 1.4095, 1.4094, 1.4092, 1.4092, 1.4091, 1.409, 1.4088, 1.4087, 1.4084, 1.408, 1.4079, 1.4078, 1.4077, 1.4072, 1.4072, 1.4071, 1.407, 1.4069, 1.4069, 1.4023, 1.4061, 1.3991, 1.3913, 1.356, 1.3621, 1.3815, 1.3746, 1.3709, 1.3627, 1.3473, 1.3357, 1.319, 1.2902, 1.3636, 1.2074, 1.3366, 1.2522, 1.1909, 1.2196, 1.1334, 1.267, 1.2302, 1.156, 1.2265, 1.0403, 1.1671, 1.1215, 1.0966, 1.089, 1.2021, 1.0012, 0.6315, 1.0675, 1.0503, 1.0149, 2.0999, 2.0999, 2.0997, 2.0995, 2.0994, 2.0994, 2.099, 2.099, 2.099, 2.0989, 2.0988, 2.0988, 2.0984, 2.0984, 2.0984, 2.0983, 2.098, 2.0979, 2.0977, 2.0976, 2.0974, 2.0973, 2.097, 2.0969, 2.0969, 2.0968, 2.0967, 2.0967, 2.0966, 2.0965, 2.0918, 2.0831, 2.0845, 2.0905, 2.0506, 2.0791, 1.9612, 2.0384, 2.0192, 1.9898, 1.8907, 1.7916, 1.4969, 1.4, 1.8136, 1.5669, 1.8118, 1.9312, 1.3736, 1.2613, 1.8877, 1.6675, 0.6075, 0.4111, 0.3063, 0.7884, 0.6515, 0.8599, 0.6986, 0.7183, 1.2779, 2.1938, 2.1932, 2.1925, 2.1925, 2.1924, 2.1922, 2.1922, 2.1921, 2.1918, 2.1918, 2.1918, 2.1917, 2.1917, 2.1916, 2.1913, 2.1912, 2.191, 2.1909, 2.1908, 2.1907, 2.1907, 2.1906, 2.1904, 2.1903, 2.1903, 2.1903, 2.1902, 2.1901, 2.19, 2.1899, 2.175, 2.1568, 2.1233, 2.1377, 2.027, 2.1677, 2.0354, 2.0494, 1.9412, 1.5185, 2.1253, 1.6704, 1.8628, 2.0623, 2.0584, 1.8931, 1.816, 1.5263, 1.5082, 1.7625, 1.2911, 1.6679, 1.0814, 1.4312, 1.369, 1.8072, 1.2141, 0.571, 1.0238, 1.1715, 0.113, 0.6911, 1.4159, 0.3888, 2.7238, 2.7234, 2.7232, 2.723, 2.723, 2.7228, 2.7227, 2.7225, 2.7222, 2.7222, 2.722, 2.7219, 2.7218, 2.7216, 2.7214, 2.7214, 2.7212, 2.7212, 2.721, 2.7209, 2.7208, 2.7208, 2.7208, 2.7206, 2.7205, 2.7204, 2.7204, 2.7203, 2.7203, 2.72, 2.6559, 2.5779, 2.5577, 2.607, 2.5526, 2.497, 2.641, 2.5103, 2.3759, 2.1841, 2.0458, 1.5961, 1.6318, 1.8752, 1.5852, 2.472, 1.8576, 2.1505, 2.2121, 2.859, 2.8589, 2.8588, 2.8583, 2.8582, 2.8581, 2.8579, 2.8578, 2.8576, 2.8576, 2.8569, 2.8564, 2.8563, 2.8563, 2.8559, 2.8558, 2.8556, 2.8555, 2.8554, 2.855, 2.855, 2.8549, 2.8546, 2.8541, 2.854, 2.854, 2.8539, 2.8537, 2.8534, 2.8532, 2.8477, 2.8113, 2.7264, 2.7724, 2.6488, 2.6613, 2.6889, 2.7087, 2.7262, 2.4845, 2.3928, 2.1442, 2.358, 1.4078, 2.0556, 2.4045, 1.1654, 1.1664, 1.5844, 1.7687, 1.4143, 0.714, 2.073, 1.7727, 1.2261, 1.5275, 2.9459, 2.9458, 2.9453, 2.9452, 2.9451, 2.9448, 2.9448, 2.9448, 2.9443, 2.944, 2.9437, 2.9432, 2.9432, 2.9431, 2.9431, 2.943, 2.9426, 2.9423, 2.9421, 2.9419, 2.9419, 2.9416, 2.9416, 2.9413, 2.941, 2.9409, 2.9406, 2.9406, 2.9405, 2.9404, 2.8364, 2.8637, 2.8528, 2.885, 2.8389, 2.712, 2.5155, 2.642, 2.8566, 2.1992, 1.3572, 2.7837, 1.4574, 2.217, 2.2787, 1.8943, 2.409, 1.8891, 1.6292, 1.5681, 0.463, 0.7569, 1.7812, -0.2115, 2.9861, 2.9853, 2.9848, 2.9846, 2.984, 2.9834, 2.9833, 2.9833, 2.9831, 2.9827, 2.9822, 2.982, 2.9818, 2.9817, 2.9817, 2.9816, 2.9814, 2.9814, 2.9813, 2.981, 2.9809, 2.9809, 2.9806, 2.9806, 2.98, 2.98, 2.9799, 2.9798, 2.9797, 2.9796, 2.9668, 2.9377, 2.9442, 2.9373, 2.8374, 2.7366, 2.7895, 2.67, 2.6972, 2.5309, 2.212, 2.7644, 2.2769, 2.4513, 1.707, 2.7391, 2.0779, 2.0777, 0.738, 2.5785, 1.9358, 1.6491, 2.0812, 1.1248, 1.5512, 3.4733, 3.4724, 3.4718, 3.4717, 3.4716, 3.4714, 3.4711, 3.4707, 3.4698, 3.4695, 3.4691, 3.4691, 3.4686, 3.4684, 3.4684, 3.4681, 3.468, 3.4676, 3.4676, 3.4675, 3.467, 3.4663, 3.4662, 3.4661, 3.4661, 3.4661, 3.4658, 3.4658, 3.4657, 3.4643, 3.4518, 3.3129, 3.2425, 2.9567, 3.1686, 3.0645, 3.0246, 2.5961, 2.8481, 2.6338, 0.9464, 2.7312, 2.7479, 0.3666, 2.6907, 1.5409, 2.841, 3.5544, 3.5544, 3.5538, 3.5537, 3.5536, 3.5536, 3.5534, 3.5532, 3.553, 3.5528, 3.5526, 3.5522, 3.5519, 3.5517, 3.551, 3.5509, 3.5507, 3.5504, 3.5504, 3.5503, 3.55, 3.5499, 3.5498, 3.5497, 3.5491, 3.5489, 3.5489, 3.5488, 3.5486, 3.5484, 3.4974, 3.1471, 3.353, 2.9363, 3.1202, 3.2775, 3.0138, 3.2443, 3.2189, 1.0634, 1.4048, 2.7805, 2.005, 1.0492, 1.0959, 3.5733, 3.5724, 3.5723, 3.572, 3.5718, 3.5715, 3.5713, 3.571, 3.5705, 3.5702, 3.5702, 3.5701, 3.57, 3.5699, 3.5699, 3.5698, 3.5698, 3.5696, 3.5695, 3.5695, 3.5694, 3.5693, 3.5692, 3.569, 3.569, 3.569, 3.5683, 3.5682, 3.5681, 3.5681, 3.5455, 3.539, 3.4374, 3.5015, 3.381, 3.3737, 3.3199, 3.2609, 2.7202, 3.2693, 3.3817, 2.3661, 1.0603, 3.6192, 3.6188, 3.618, 3.6173, 3.6165, 3.6162, 3.6162, 3.616, 3.6158, 3.6148, 3.6147, 3.6145, 3.6142, 3.614, 3.6139, 3.6136, 3.6132, 3.6131, 3.6126, 3.6125, 3.6125, 3.6123, 3.6121, 3.6117, 3.6112, 3.611, 3.6108, 3.6106, 3.6103, 3.6103, 3.5776, 3.5653, 3.5662, 3.3761, 3.3684, 3.4865, 3.0496, 2.6563, 2.4799, 3.0112, 2.9235, 2.1553, 2.1253, 2.1438, 2.9722, 1.5884, 2.1454, 1.8169, 2.2657, 2.7026, 3.6319, 3.6316, 3.6312, 3.6309, 3.6304, 3.63, 3.63, 3.6295, 3.6292, 3.629, 3.6288, 3.6284, 3.6282, 3.6281, 3.628, 3.6279, 3.6275, 3.6271, 3.6267, 3.6266, 3.6265, 3.6265, 3.6264, 3.6264, 3.6261, 3.6258, 3.6257, 3.6257, 3.6246, 3.6245, 3.6048, 3.5313, 3.4754, 3.3692, 3.1519, 3.0638, 3.2833, 2.8365, 2.8396, 3.3588, 2.5855, 1.925, 3.6656, 3.665, 3.6648, 3.6645, 3.664, 3.6638, 3.6638, 3.6633, 3.6629, 3.6629, 3.6628, 3.6625, 3.6622, 3.6622, 3.6621, 3.6615, 3.6609, 3.6602, 3.6601, 3.6601, 3.6592, 3.659, 3.6588, 3.6588, 3.6585, 3.6585, 3.6582, 3.6577, 3.6574, 3.6572, 3.6561, 3.6472, 3.6242, 3.5361, 3.5925, 3.5426, 3.527, 3.1864, 3.3865, 3.0004, 3.1734, 2.6565, 2.2802, 2.1185, 3.8338, 3.8332, 3.8329, 3.8321, 3.8319, 3.8314, 3.8308, 3.8307, 3.8306, 3.8303, 3.8296, 3.8295, 3.8284, 3.828, 3.8277, 3.8276, 3.8272, 3.8271, 3.8271, 3.8264, 3.8263, 3.826, 3.8255, 3.8253, 3.8253, 3.8241, 3.8236, 3.8236, 3.8236, 3.8235, 3.6781, 3.1459, 2.9004, 3.0708, 3.3708, 2.3836, 0.9567, 1.7028, 2.6279, 3.8359, 3.8359, 3.8354, 3.8335, 3.833, 3.8324, 3.8315, 3.8312, 3.8306, 3.8305, 3.8301, 3.8295, 3.8293, 3.8292, 3.828, 3.8274, 3.8271, 3.8266, 3.8263, 3.8262, 3.8255, 3.8255, 3.8245, 3.8243, 3.8241, 3.8239, 3.8234, 3.8231, 3.8226, 3.8225, 3.6284, 3.6222, 3.494, 2.1302, 3.4724, 2.8841, 2.3791, 3.2205, 3.091, 3.1471, 1.7277, 1.993, 3.8629, 3.8618, 3.8614, 3.8612, 3.861, 3.8607, 3.8605, 3.8605, 3.8604, 3.8601, 3.8593, 3.8592, 3.8592, 3.8591, 3.8589, 3.8584, 3.8582, 3.8578, 3.8572, 3.8569, 3.8567, 3.8566, 3.8559, 3.8559, 3.8557, 3.8555, 3.8555, 3.8543, 3.8542, 3.8539, 3.6929, 3.055, 2.2485, 2.6058, 2.4971, 2.4016, 2.8203, 2.6778, 3.8652, 3.8651, 3.8651, 3.8648, 3.8647, 3.8644, 3.8642, 3.8641, 3.8639, 3.8638, 3.8631, 3.8631, 3.8627, 3.8626, 3.8625, 3.8624, 3.8621, 3.8619, 3.8616, 3.8609, 3.8605, 3.8601, 3.8596, 3.8596, 3.8596, 3.8595, 3.8595, 3.8592, 3.859, 3.8582, 3.7885, 3.4778, 3.6714, 3.5003, 3.7271, 3.2643, 2.8428, 2.2752, 2.8217, 2.0532, 4.0576, 4.0574, 4.0554, 4.0554, 4.0553, 4.0551, 4.0537, 4.0529, 4.0527, 4.0525, 4.0521, 4.0517, 4.0512, 4.0512, 4.051, 4.0505, 4.0504, 4.0503, 4.0502, 4.05, 4.05, 4.0497, 4.0496, 4.0495, 4.0491, 4.0489, 4.0487, 4.0486, 4.0484, 4.0484, 3.9154, 3.9322, 3.3711, 3.5704, 3.3734, 2.983, 4.1786, 4.1777, 4.1751, 4.1748, 4.1738, 4.1737, 4.173, 4.1727, 4.1727, 4.1727, 4.1724, 4.1723, 4.1722, 4.172, 4.1714, 4.1708, 4.1706, 4.1706, 4.1702, 4.17, 4.1692, 4.1691, 4.169, 4.1686, 4.1667, 4.1667, 4.1663, 4.1661, 4.166, 4.1659, 4.1568, 4.148, 3.9878, 3.5022, 3.2731, 3.4345, 3.6323, 4.378, 4.377, 4.3755, 4.3742, 4.3741, 4.3721, 4.3701, 4.3695, 4.368, 4.3679, 4.3675, 4.3674, 4.3671, 4.3653, 4.3648, 4.3639, 4.3629, 4.3624, 4.362, 4.3618, 4.3616, 4.3601, 4.3585, 4.358, 4.3577, 4.3576, 4.3574, 4.3569, 4.3552, 4.3544, 1.7952]}, \"token.table\": {\"Topic\": [19, 4, 6, 17, 19, 19, 13, 18, 8, 18, 2, 11, 2, 7, 19, 5, 7, 11, 14, 4, 16, 1, 2, 4, 7, 12, 16, 3, 1, 2, 4, 2, 3, 6, 7, 9, 15, 7, 16, 17, 19, 1, 2, 3, 4, 5, 6, 7, 9, 16, 7, 3, 4, 20, 11, 5, 10, 20, 1, 3, 6, 12, 13, 4, 6, 1, 5, 1, 6, 12, 2, 8, 3, 11, 2, 2, 18, 8, 16, 8, 10, 3, 12, 2, 3, 7, 8, 12, 10, 10, 7, 11, 2, 8, 3, 5, 6, 11, 15, 16, 10, 3, 1, 4, 6, 1, 7, 9, 13, 15, 15, 20, 8, 12, 10, 18, 2, 2, 13, 18, 7, 10, 2, 4, 9, 11, 3, 4, 12, 9, 15, 8, 11, 13, 17, 19, 17, 13, 16, 19, 14, 1, 3, 9, 14, 17, 8, 17, 6, 17, 5, 14, 4, 5, 17, 6, 6, 11, 15, 9, 9, 19, 17, 12, 13, 2, 6, 7, 16, 7, 10, 12, 4, 5, 1, 3, 4, 7, 8, 14, 1, 2, 3, 4, 7, 16, 18, 10, 15, 1, 12, 13, 16, 1, 3, 4, 5, 14, 3, 5, 1, 1, 2, 3, 4, 6, 9, 4, 1, 2, 7, 8, 17, 3, 9, 12, 15, 13, 2, 16, 12, 11, 17, 3, 7, 7, 8, 2, 13, 13, 15, 6, 3, 5, 5, 15, 3, 6, 18, 5, 1, 2, 8, 14, 20, 3, 3, 10, 13, 9, 6, 5, 9, 7, 2, 11, 6, 10, 9, 9, 10, 9, 18, 2, 10, 4, 9, 11, 18, 13, 3, 4, 3, 8, 5, 6, 11, 11, 13, 18, 3, 4, 14, 7, 1, 11, 9, 17, 7, 8, 3, 7, 8, 17, 5, 3, 5, 6, 17, 12, 20, 3, 11, 1, 6, 11, 15, 4, 7, 8, 12, 13, 8, 3, 8, 15, 20, 12, 17, 12, 13, 11, 12, 3, 6, 3, 9, 19, 16, 16, 13, 16, 1, 3, 4, 12, 13, 6, 3, 6, 18, 10, 13, 14, 18, 16, 6, 6, 17, 4, 1, 6, 1, 4, 15, 16, 6, 16, 13, 9, 8, 12, 3, 15, 20, 3, 13, 4, 9, 4, 5, 20, 10, 7, 2, 14, 10, 15, 10, 12, 7, 10, 1, 16, 18, 18, 8, 14, 5, 5, 18, 15, 3, 3, 14, 4, 9, 11, 14, 1, 2, 3, 17, 6, 3, 6, 14, 10, 15, 2, 6, 14, 5, 15, 1, 2, 3, 7, 2, 18, 10, 12, 4, 2, 3, 11, 2, 12, 10, 18, 2, 9, 1, 1, 2, 3, 7, 2, 12, 19, 16, 5, 18, 1, 6, 1, 3, 7, 11, 14, 15, 8, 17, 8, 14, 15, 13, 1, 2, 3, 4, 5, 6, 7, 11, 13, 5, 16, 2, 4, 7, 8, 11, 7, 12, 19, 19, 15, 20, 7, 8, 9, 6, 18, 20, 20, 15, 8, 5, 13, 17, 13, 1, 5, 6, 3, 8, 1, 2, 3, 6, 7, 13, 8, 1, 2, 1, 2, 4, 3, 7, 8, 6, 19, 8, 3, 19, 17, 1, 2, 3, 5, 7, 10, 1, 11, 19, 8, 12, 1, 19, 11, 1, 9, 12, 1, 2, 4, 7, 16, 16, 1, 7, 13, 16, 3, 14, 20, 19, 1, 2, 5, 6, 16, 1, 3, 4, 9, 14, 16, 1, 2, 7, 1, 15, 15, 19, 12, 12, 4, 8, 13, 20, 19, 4, 7, 17, 2, 7, 10, 9, 17, 12, 1, 6, 11, 16, 6, 19, 16, 1, 2, 3, 4, 5, 6, 7, 11, 3, 9, 10, 16, 2, 16, 5, 3, 5, 11, 9, 8, 1, 20, 6, 9, 6, 9, 4, 5, 12, 6, 9, 5, 2, 8, 17, 3, 12, 15, 7, 7, 2, 3, 7, 11, 9, 10, 2, 7, 19, 13, 15, 6, 20, 7, 3, 9, 7, 8, 2, 15, 19, 8, 1, 2, 5, 17, 6, 5, 7, 1, 15, 10, 14, 7, 2, 3, 9, 15, 17, 19, 10, 2, 16, 17, 1, 2, 8, 3, 16, 18, 13, 11, 3, 1, 8, 12, 13, 2, 2, 4, 3, 6, 1, 4, 5, 3, 4, 5, 6, 11, 19, 1, 2, 1, 2, 4, 7, 8, 6, 9, 9, 12, 2, 13, 1, 4, 5, 6, 2, 4, 1, 2, 1, 3, 4, 9, 14, 16, 16, 14, 1, 5, 20, 9, 5, 6, 9, 11, 18, 5, 1, 2, 3, 1, 2, 7, 12, 1, 2, 3, 6, 8, 11, 1, 8, 3, 10, 17, 1, 2, 3, 5, 1, 1, 2, 3, 3, 19, 16, 12, 7, 20, 3, 5, 6, 8, 3, 16, 16, 4, 3, 7, 8, 8, 18, 3, 7, 7, 16, 14, 2, 13, 5, 6, 3, 4, 13, 4, 14, 2, 18, 13, 17, 4, 13, 4, 8, 12, 1, 2, 3, 5, 7, 8, 14, 1, 2, 5, 6, 11, 7, 12, 16, 2, 1, 2, 3, 5, 6, 9, 10, 5, 18, 1, 3, 4, 5, 12, 1, 3, 4, 6, 15, 17, 1, 4, 5, 4, 16, 2, 3, 5, 11, 13, 13, 20, 1, 3, 5, 6, 10, 11, 11, 2, 3, 6, 11, 11, 7, 15, 10, 6, 7, 1, 4, 5, 3, 18, 14, 2, 3, 4, 6, 7, 13, 18, 9, 1, 4, 5, 12, 3, 5, 9, 13, 4, 17, 17, 10, 4, 11, 11, 4, 9, 8, 11, 16, 12, 1, 2, 3, 4, 9, 11, 20, 7, 14, 1, 5, 11, 16, 8, 1, 3, 4, 7, 5, 6, 2, 7, 18, 4, 1, 2, 3, 7, 8, 10, 4, 18, 8, 19, 20, 2, 3, 7, 16, 18, 3, 18, 3, 6, 3, 10, 18, 9, 17, 15, 15, 13, 14, 14, 14, 1, 15, 4, 15, 19, 10, 13, 1, 2, 3, 15, 6, 3, 8, 7, 15, 18, 8, 12, 7, 1, 2, 5, 20, 2, 3, 4, 7, 9, 16, 16, 11, 2, 14, 17, 10, 18, 1, 20, 18, 4, 3, 5, 11, 5, 3, 19, 20, 1, 2, 5, 6, 9, 4, 2, 3, 6, 11, 14, 1, 3, 14, 10, 2, 3, 2, 2, 3, 6, 19, 19, 3, 7, 6, 11, 7, 11, 10, 1, 2, 18, 11, 19, 1, 2, 3, 5, 6, 6, 10, 15, 6, 20, 1, 20, 14, 1, 2, 1, 2, 10, 13, 16, 13, 2, 5, 11, 7, 11, 11, 7, 18, 2, 15, 1, 8, 19, 4, 6, 7, 17, 7, 2, 3, 6, 5, 10, 11, 12, 14, 16, 5, 2, 6, 7, 2, 3, 16, 4, 4, 1, 2, 3, 7, 18, 16, 17, 4, 14, 18, 4, 16, 5, 7, 11, 18, 1, 4, 5, 6, 15, 1, 1, 3, 8, 4, 14, 1, 2, 8, 5, 11, 7, 16, 12, 14, 12, 14, 16, 15, 5, 13, 9, 20, 17, 4, 3, 11, 3, 3, 1, 2, 3, 6, 9, 3, 4, 10, 3, 5, 7, 11, 19, 2, 10, 3, 3, 19, 5, 16, 6, 3, 5, 6, 8, 1, 2, 4, 6, 17, 6, 18, 11, 17, 4, 8, 14, 2, 4, 8, 19, 19, 17, 9, 3, 4, 6, 14, 8, 7, 9, 13, 19, 2, 7, 9, 5, 6, 14, 7, 8, 4, 13, 16, 1, 2, 3, 6, 8, 11, 14, 17, 6, 14, 14, 4, 9, 4, 9, 11, 12, 3, 12, 13, 11, 14, 6, 18, 4, 13, 14, 20, 2, 3, 5, 15, 1, 6, 15, 3, 4, 7, 2, 7, 10, 17, 1, 2, 8, 19, 6, 14, 18, 12, 14, 16, 1, 4, 5, 6, 2, 3, 5, 6, 7, 9, 1, 3, 15, 14, 20, 11, 4, 9, 16, 7, 3, 5, 6, 9, 20, 20, 1, 2, 3, 7, 8, 15, 4, 13, 8, 17, 3, 5, 20, 17, 15, 3, 5, 14, 1, 2, 5, 17, 15, 12, 7, 8, 5, 5, 3, 13, 9, 1, 2, 1, 2, 1, 13, 17, 19, 1, 2, 3, 6, 10, 3, 19, 4, 9, 16, 12, 17, 8, 2, 3, 4, 2, 1, 2, 6, 16, 8, 8, 8, 17, 3, 4, 11, 15, 4, 12, 13, 6, 12, 20, 5, 7, 1, 2, 3, 4, 5, 6, 9, 13, 3, 6, 3, 18, 14, 1, 5, 6, 11, 13, 9, 5, 2, 6, 7, 8, 16, 17, 1, 2, 5, 7, 8, 1, 2, 3, 6, 8, 1, 10, 1, 2, 3, 2, 6, 18, 11, 15, 6, 12, 9, 17, 13, 7, 2, 12, 2, 11, 1, 2, 3, 5, 6, 9, 5, 2, 7, 8, 15, 1, 1, 2, 11, 6, 1, 3, 4, 7, 8, 14, 15, 16], \"Freq\": [0.9923336494697453, 0.04835394688749485, 0.10361560047320326, 0.0138154133964271, 0.8220170970874124, 0.9904332936208144, 0.4910632898504595, 0.5032384127393139, 0.11288632152080184, 0.8780047229395699, 0.9517696687063928, 0.04772484012138072, 0.36527798850354026, 0.6336454902612433, 0.9892630716280332, 0.6338968998772876, 0.10656025472075092, 0.2582036941310503, 0.9933440263152934, 0.9196834820984365, 0.07664029017486972, 0.24558225397676633, 0.16372150265117758, 0.008186075132558878, 0.16699593270420113, 0.18336808296931886, 0.23084731873816036, 0.9954767542508511, 0.2502158924952401, 0.7495919142262467, 0.994733674365263, 0.07183249831512802, 0.45937326083007796, 0.1995347175420223, 0.18179829820495363, 0.05853018381232653, 0.028378270939309835, 0.8012345416997616, 0.04673868159915276, 0.12018518125496425, 0.03004629531374106, 0.45280196108258275, 0.14935847568068492, 0.19733279619204416, 0.01323429531347841, 0.08058740539100247, 0.08342332581531926, 0.010398374889161609, 0.01205266180334641, 0.0004726534040528004, 0.995629629117787, 0.8765247092326434, 0.1221386889914339, 0.9808789094689264, 0.9923335674514792, 0.18007893295849203, 0.81728131111931, 0.9840429496191472, 0.9969800233862212, 0.12342292329609178, 0.15280933360468507, 0.617114616480459, 0.10579107711093581, 0.9976641369326034, 0.9984003685698862, 0.138837127907794, 0.8590547289294754, 0.4498740638737649, 0.09621584025045839, 0.4524744919886421, 0.3580393031076026, 0.6379609400826374, 0.11954321879526887, 0.8766502711653051, 0.9963119616889963, 0.9402977285609494, 0.05903860164012086, 0.9784628947299039, 0.0175982535023364, 0.9987482254070041, 0.9942659257423527, 0.9969496305810266, 0.9969903584336406, 0.9989888231853941, 0.17843522738464435, 0.40374750603135623, 0.4158448095828576, 0.9904452233357198, 0.9927165017953808, 0.9905320900390888, 0.053068531483609224, 0.9451252749938023, 0.9796432673486088, 0.01818966278896621, 0.2876664409228855, 0.31218882605073806, 0.34708606642498974, 0.05281744489075931, 0.8071702626226473, 0.18899596393115645, 0.9958175881308323, 0.9949519278987001, 0.9611185751493952, 0.0384026579014263, 0.9940883703884226, 0.9995195074847684, 0.9964738457211004, 0.98894474826542, 0.9891184755311119, 0.9957113944368831, 0.9946642571240921, 0.9916266351023842, 0.23001675567350802, 0.7689131546800124, 0.9963457613802117, 0.9932534204236781, 0.999235916061119, 0.9998149052146665, 0.9901057312593095, 0.98776688075632, 0.17136678340426456, 0.8225605603404699, 0.9977279171906531, 0.9985088177277913, 0.9934634448677905, 0.9920059671112894, 0.22120978506358768, 0.7765385163169692, 0.9973724304624113, 0.9977591757418677, 0.9933735414740008, 0.9916720832038445, 0.3810426811202206, 0.6182530458492117, 0.02318021805939366, 0.9735691584945336, 0.9954095792623188, 0.9952498638743934, 0.996724621560476, 0.9918075050780426, 0.9892364541324202, 0.3106374111370987, 0.3380788785520367, 0.12184011532232493, 0.06695718049244884, 0.16245348709643323, 0.17403754983503558, 0.8231505735440873, 0.07194441898483077, 0.9249996726621099, 0.9978518085482575, 0.9880623351990143, 0.8633850977867368, 0.1352188723187399, 0.9916568435317384, 0.9950521407210148, 0.9107487081882304, 0.04244265824566511, 0.045979546432803865, 0.9942435381120742, 0.9953536896332617, 0.9911037425866788, 0.9893868074133113, 0.9925056896325827, 0.9948833995039466, 0.9221954563780976, 0.07636750328852503, 0.9919769995322165, 0.9920018653152171, 0.02411383405071923, 0.9693761288389131, 0.9906004943760326, 0.9994842698338555, 0.9988629073794366, 0.21093175151131982, 0.25380405872906775, 0.04287230721774793, 0.02572338433064876, 0.4321528567548992, 0.036012738062908264, 0.43523203158784507, 0.15036161797681624, 0.31033100707036193, 0.005764662670037683, 0.07109750626379809, 0.005764662670037683, 0.02161748501264131, 0.9938038774297207, 0.9881574133847462, 0.6159165620227294, 0.18086438726064274, 0.003910581346176059, 0.198462003318435, 0.5664822689879649, 0.10101606894540634, 0.04753697362136769, 0.04951768085559134, 0.23372345363839114, 0.9745881720809325, 0.024191904980732367, 0.9987226726949412, 0.49498575800451483, 0.10965838331176944, 0.11194293296409796, 0.015230331015523532, 0.2680538258732142, 0.9936536485588621, 0.9987198434214906, 0.9978954472352419, 0.7511748921984154, 0.07550469277252114, 0.10067292369669485, 0.07260066612742418, 0.461440041687254, 0.5378690340992215, 0.9719234652060499, 0.02587961889601908, 0.9974684179541441, 0.9966224031673409, 0.9899107751998455, 0.9991141777679846, 0.9958744399328197, 0.9941926659685806, 0.038133551969491045, 0.9568054857799572, 0.46642737589806776, 0.5316619739257695, 0.999021024782011, 0.9887191299561235, 0.926935939507168, 0.07059445896908895, 0.9984219341592133, 0.9961869372803293, 0.9958129560811074, 0.9966357136273314, 0.9938308802663136, 0.4863295670622068, 0.5133478763434405, 0.991228902857897, 0.9983785858421013, 0.7489144659064952, 0.23472111475977217, 0.016003712369984466, 0.9828018277503624, 0.9772724645159251, 0.9955786739899677, 0.9980099006055763, 0.8717609602594332, 0.12657469975136965, 0.9926665693109981, 0.9938841483137134, 0.9877845625057374, 0.01114042739668125, 0.9958615600182824, 0.9974418921276629, 0.9960925271323583, 0.9942197648012866, 0.9957589011464739, 0.9978590375788908, 0.9431769169543528, 0.0527897528146093, 0.9923632861984563, 0.9951781164727863, 0.9963435278232419, 0.9972975479705267, 0.4783459361194444, 0.02344833020193355, 0.49710460028099124, 0.9853605656267697, 0.9966870440557117, 0.9940251393996977, 0.998211465748001, 0.25879535432930323, 0.7365713930910938, 0.809495302170472, 0.039811244369039614, 0.14959376672002764, 0.988027449551147, 0.8834416160118607, 0.11559049181463597, 0.2977031104260362, 0.5825641258925178, 0.11791378099227316, 0.9988487693573911, 0.9977948765704467, 0.9887265086413741, 0.9973932829079912, 0.9960306098171523, 0.5417646493772812, 0.4560773834043439, 0.10853155959693778, 0.22723795290608848, 0.6647558025312439, 0.9940769288319998, 0.9953683010379015, 0.6784753737018664, 0.06542949096495987, 0.12943660169155102, 0.12516946097644496, 0.9944097061411761, 0.9842122118010748, 0.046395261488137225, 0.9477889132576605, 0.40404309867648086, 0.048164077987924866, 0.5431837684193749, 0.979974897874233, 0.9949765720250344, 0.7286249688356735, 0.10948926186439459, 0.10818581827077084, 0.052137743744949804, 0.9965345044374254, 0.3228935934606775, 0.13346268529708002, 0.5381559891011292, 0.9810599173400583, 0.9984767149812007, 0.9933825279104259, 0.9898280557749396, 0.9947420605874412, 0.994579804083724, 0.9963333747367441, 0.9808979354229578, 0.018164776581906624, 0.5370179742456737, 0.45970410246711363, 0.9913728782739316, 0.9910978175901429, 0.9979903252073674, 0.9572847774219813, 0.04142808928564989, 0.47979550642159724, 0.18319464790642803, 0.040709921756984006, 0.04507169908808944, 0.25007523365004464, 0.998243758105485, 0.9958157864779024, 0.9975213861286695, 0.9888800270679288, 0.006408721512266474, 0.608828543665315, 0.04165668982973208, 0.33966224015012314, 0.998122971582221, 0.9983468999314372, 0.9985438056247625, 0.9936287342384433, 0.9976034839908421, 0.9961667771820183, 0.9942024497394395, 0.010857853057586013, 0.24755904971296108, 0.7101035899661252, 0.030401988561240833, 0.9968855984696342, 0.9940132425837558, 0.9977863303527381, 0.9942048535418159, 0.9937130333545307, 0.9952617974085154, 0.30028080301728255, 0.6963959048698681, 0.9893118990093991, 0.9975265767463148, 0.9957236990329869, 0.33557365557607977, 0.6643680453829458, 0.12405947793053321, 0.8755345122802385, 0.9954849147305351, 0.99647463476198, 0.9957936922595776, 0.49782934062328993, 0.5011817267554333, 0.9928938276092313, 0.9933685847839694, 0.9950471048901118, 0.9960554484613543, 0.9937558961771858, 0.9953825300189539, 0.5817897934242399, 0.25442183626809267, 0.16190480489787715, 0.9924030356441801, 0.9935381393394841, 0.9912043399541097, 0.9996546775530126, 0.9968700109305583, 0.99086495564605, 0.9876213848261132, 0.9977728232138999, 0.9984909417432497, 0.9943096363893568, 0.9984939535875578, 0.7128161660840495, 0.06788725391276662, 0.2149763040570943, 0.9537460076336721, 0.02946258629053709, 0.015993975414862992, 0.9918025628852188, 0.9993994868396942, 0.25998139510075874, 0.43972161887412275, 0.29849715733790816, 0.9952742433525349, 0.9957366762620643, 0.2077840339678552, 0.7908679122342396, 0.9918847580386426, 0.994393970956816, 0.989819125611024, 0.6973079669331045, 0.25094858986973084, 0.05005258759696817, 0.0010284778273349623, 0.999433373378912, 0.9959056946179697, 0.7374151392952184, 0.2609952459303301, 0.9961646412216981, 0.8952683580503831, 0.09864530982221814, 0.004973713100279906, 0.9957444684358311, 0.9955043302082469, 0.9283766741982217, 0.06734338569313525, 0.9983509452118456, 0.9971419634492026, 0.9969812833175331, 0.08716727492858382, 0.734416816375904, 0.0513896620847621, 0.12684790008264063, 0.9992772253323381, 0.9977695671119713, 0.9962836799406367, 0.9941835504306659, 0.9974424049269661, 0.9950314421556857, 0.998688276135801, 0.9997320893170788, 0.22869732309757643, 0.24602287787769586, 0.017325554780119427, 0.006930221912047771, 0.020790665736143313, 0.4747202009752723, 0.32198743236094035, 0.6777636693523498, 0.9961873099700771, 0.9924859299298868, 0.9904730239626187, 0.9924185315664925, 0.9952652643473402, 0.4392021161904214, 0.14640070539680713, 0.03212167375794924, 0.08957005182505078, 0.1921123180523503, 0.0111190409162132, 0.0778332864134924, 0.0111190409162132, 0.9938837651663448, 0.996305760860815, 0.0238893281316591, 0.0744784935869372, 0.8614210673357076, 0.03934712868743852, 0.997066138886174, 0.9946804514841073, 0.9956618077972209, 0.9905130563998169, 0.9844047958794169, 0.9904573452637925, 0.9749676063402897, 0.9926431687994396, 0.9948410223199109, 0.9960215801721877, 0.9208233457980475, 0.07812039215254193, 0.9873741819796457, 0.9933042893924642, 0.999204892845867, 0.9919271014390647, 0.9959260163238804, 0.9980303430008967, 0.9981265841068645, 0.9954278635192543, 0.9467730195028371, 0.010625959814846656, 0.042503839259386625, 0.9953057192408953, 0.9977066671267253, 0.709519299221586, 0.17712822221702004, 0.09191881228686268, 0.004696581649693713, 0.01610256565609273, 0.9920020180233535, 0.9891768794097047, 0.9997551827136137, 0.9980157793699364, 0.9525423413396225, 0.02574438760377358, 0.02170188045937938, 0.50333337293564, 0.4605845111246678, 0.03516438632838033, 0.9981117288062235, 0.9966828230532548, 0.9951790238620303, 0.9986667798167668, 0.9881411934010057, 0.9985505726287994, 0.07159152633706443, 0.3392583524181785, 0.16936204364813004, 0.2639269702276853, 0.15547115047825188, 0.9974718972356006, 0.9990401747464669, 0.986828377370945, 0.9894365340814553, 0.9992319931814925, 0.9917604273846601, 0.9991322262658816, 0.9860256468729327, 0.9906443358990893, 0.9974223668666194, 0.9942026462339221, 0.9914181296972978, 0.9951976901646528, 0.1556997072583664, 0.8078067164816422, 0.03480346397539955, 0.9954086536687022, 0.9973266471437612, 0.9991821308692219, 0.11799577749525542, 0.7533576563158615, 0.12253407662968831, 0.36796398047893686, 0.6288838939094556, 0.9930396458743401, 0.9937496478000734, 0.5634588518688922, 0.002533538003007609, 0.3359471391988089, 0.09019395290707087, 0.007093906408421305, 0.16447524190540294, 0.15740103795248236, 0.50757413362205, 0.10257595731734806, 0.03802384624694799, 0.030065366799912365, 0.06218758509396764, 0.35066888261320645, 0.585599759634862, 0.6125838989226696, 0.3852331735493077, 0.983363657445944, 0.9986782575870661, 0.9948841327034452, 0.9945740326000082, 0.8462344014966084, 0.15185682458115693, 0.994988342165984, 0.994458364566081, 0.9824110655554321, 0.024775718591117497, 0.4282659927893167, 0.5486051973747446, 0.9984623847606243, 0.992965664658235, 0.9970122922163706, 0.9978539391237367, 0.9932502694046548, 0.9960264388712006, 0.9991870462551283, 0.216140881649717, 0.7829809389173572, 0.9930077737584436, 0.9962959372049873, 0.9806888376524141, 0.99137134165677, 0.9997438341794841, 0.019498716869052628, 0.35983995676524394, 0.09217575247188514, 0.14653581162197127, 0.11758317142246887, 0.03308873165657415, 0.23103025138786598, 0.5175482689085251, 0.01335608435892968, 0.4257251889408835, 0.041737763621655245, 0.9967207633198071, 0.9887965391200937, 0.998489142455387, 0.4383160234287974, 0.3372691233711662, 0.22417689747885058, 0.9958645176993015, 0.9920454406180951, 0.9968245325556941, 0.9801156967224056, 0.416433662440105, 0.581685115789353, 0.24101989561285686, 0.7574911004975501, 0.15420852645119687, 0.820559131575176, 0.02405087109789309, 0.9979741839082978, 0.9951410508458914, 0.9992855005775182, 0.9964711606864247, 0.993345946873175, 0.9925056603425957, 0.6479395533531506, 0.34984595692230813, 0.9870358181877489, 0.9955603283929144, 0.9972754628259888, 0.39664005208682535, 0.4663789623438496, 0.1133257291676644, 0.02397275040085208, 0.17548027529429244, 0.8230272066619632, 0.018713595287669502, 0.9811270672249582, 0.9960655487472928, 0.9890450392172474, 0.009540627387947724, 0.9970215318051959, 0.9824611748287211, 0.9949275308049207, 0.9994369330542832, 0.9938291681450484, 0.40283765594166726, 0.5965938111092627, 0.436714387445289, 0.08044738716097428, 0.4769380810257762, 0.9903160642292366, 0.8259667774335238, 0.16629625291536626, 0.0075824198220477874, 0.9881993862413521, 0.9921584953234497, 0.9970216109838722, 0.9969536113871665, 0.4936032951025228, 0.5012560593676783, 0.9977640577603922, 0.9974808771207616, 0.9992404046269988, 0.33013692563409697, 0.2283653921679468, 0.21843646207368825, 0.1588628815081369, 0.06453804561268062, 0.9950747964700054, 0.9940600885245077, 0.9987159696599314, 0.9897876541563854, 0.9965603531271761, 0.9283465862637653, 0.05638263165161287, 0.014423463910877711, 0.8645791964387008, 0.07740042330022655, 0.05599179557888729, 0.9923150067661873, 0.9979215233891391, 0.996120916967707, 0.27859002661700616, 0.2528380073498879, 0.44948979084424523, 0.016387648624529776, 0.9987753155864886, 0.1091266107474304, 0.8902434034658795, 0.9340280630922703, 0.06470676340699462, 0.757803195582886, 0.008032698275706213, 0.23411806042398106, 0.20391661781084275, 0.23371265329005264, 0.4553206671666763, 0.02793378326175928, 0.051211935979892015, 0.02793378326175928, 0.9883148678720842, 0.0113273910357832, 0.30104504945171184, 0.3469106387033577, 0.0033356792183015164, 0.2026425125118171, 0.14426812619154059, 0.8498530543993614, 0.14880695505047184, 0.9966525828381316, 0.9923955909422654, 0.9963232397539701, 0.9915233539831588, 0.8316877432721991, 0.01518910245424065, 0.1353517796477889, 0.017551851724900307, 0.20256364120898834, 0.7966748793917754, 0.9993254118398031, 0.998928802372084, 0.07986967207948462, 0.08625924584584338, 0.5638798848811614, 0.145362803184662, 0.06389573766358769, 0.05910355733881861, 0.9902938189618767, 0.9936247840673457, 0.8533487141746053, 0.07101569391825653, 0.07542516510925938, 0.997051867944926, 0.6058576984615212, 0.266781036969611, 0.12728102908855485, 0.9941406083925844, 0.9957004705207005, 0.9989378396518186, 0.6903954904736553, 0.184584905439137, 0.12482597037581715, 0.09128718373874624, 0.8108449849735695, 0.060602416095470193, 0.036821721171931256, 0.34363050139530726, 0.4320648216073349, 0.2223491479616694, 0.0014438256361147363, 0.0003609564090286841, 0.9944195290243224, 0.9950811603329497, 0.9880413436363996, 0.9972042419251206, 0.9926139575071535, 0.9976522587894555, 0.16224610188506122, 0.8085707372632559, 0.02792760770152693, 0.9914327971885707, 0.9989593514301297, 0.2796924530686891, 0.5863896947095275, 0.13309502939130724, 0.9964171643915841, 0.9871299673632473, 0.9945366756238943, 0.9921887149238926, 0.9985547224321873, 0.9716123527147775, 0.5904253937600633, 0.3097313541036398, 0.0989419603386627, 0.994203709445331, 0.9638947900101895, 0.0349237242757315, 0.9932678515191552, 0.9948164349750691, 0.10244223374877345, 0.41976329926326683, 0.4747323027382184, 0.997511747870108, 0.9939474780099614, 0.9981392683325186, 0.9971873987599696, 0.15031375480878975, 0.8417570269292226, 0.9957355064945929, 0.9945568846466525, 0.9856897872996503, 0.8424392055074659, 0.15513869737396588, 0.15587579883037342, 0.8417293136840164, 0.9931295195415756, 0.9978346097450193, 0.9945093977997348, 0.9970779183550292, 0.994238786890913, 0.996640524500712, 0.9982764554102598, 0.997773340388974, 0.9941727973454398, 0.9958153024388198, 0.9947561329033431, 0.9919646591359713, 0.9386728958091715, 0.030806583769142443, 0.030435420109273255, 0.9955748478364884, 0.7476315897729522, 0.24921052992431741, 0.9938080344163409, 0.664504248651406, 0.06855996216244666, 0.006027249420874431, 0.03239646563720006, 0.22828207181561908, 0.9950771463069481, 0.8527406843673199, 0.14349001900411631, 0.9979197458044667, 0.4915664170903776, 0.004460675291201249, 0.1644502290689527, 0.2792382732291982, 0.03955132091531774, 0.020519106339525747, 0.9930461486741304, 0.996414637103593, 0.99623784773147, 0.10512980898577307, 0.3286652048838503, 0.32364193756029797, 0.19518981600088925, 0.04700342995609649, 0.570213020521186, 0.032862744173339384, 0.09947641479497328, 0.06483730607172365, 0.23270375603824106, 0.9972494653844963, 0.4239578364567816, 0.08641826402596267, 0.48902570584103583, 0.6450960161462809, 0.35134693736538514, 0.12246615960459939, 0.7183111284500542, 0.07065355361803811, 0.03532677680901906, 0.05299016521352858, 0.9965248513921505, 0.9791717435322674, 0.3266006720825772, 0.40506329600631946, 0.05345266254804942, 0.002451956997616946, 0.08091458092135922, 0.13093450367274492, 0.9949440721115922, 0.19648789514629467, 0.056139398613227046, 0.2214387389743956, 0.5239677203901191, 0.9923958305877824, 0.9923198993933969, 0.9913887829600989, 0.9982439264262716, 0.045428524466166804, 0.9502133034173224, 0.563055477451965, 0.3201688009040586, 0.11661320550169375, 0.9981013684628979, 0.9922889210150586, 0.9943223264318397, 0.1381684160187484, 0.5127899975953549, 0.1260608744088581, 0.02991274985972904, 0.09472370788914196, 0.0982847495391097, 0.9918107483808203, 0.9928242035792529, 0.8025873500871186, 0.013394394756333972, 0.1839337422789433, 0.9921552625989668, 0.07579818202353222, 0.3623522847954223, 0.0462184036728855, 0.5139486488424867, 0.9971344953043386, 0.9888040399555998, 0.9967876221708755, 0.9931261887135099, 0.9952223053185651, 0.9984662881924691, 0.9960841042170082, 0.9951268239766572, 0.9969214178576111, 0.04038406329613742, 0.9579997237472598, 0.9978055667126658, 0.991566139615357, 0.14884833148020465, 0.40486746162615667, 0.3750977953301157, 0.0416775328144573, 0.007144719911049824, 0.001786179977762456, 0.020243373081307834, 0.9932086675897166, 0.9822010829732757, 0.995435504921922, 0.9915479146241568, 0.9934649227229967, 0.9982565329546005, 0.9930564683070215, 0.4291891696098114, 0.028385527090595993, 0.4201058009408207, 0.12149005594775085, 0.9170684407782463, 0.08049503555420344, 0.21740017286486188, 0.7798799851977585, 0.9942013602903754, 0.9972598533170598, 0.26643456422668543, 0.547006472677644, 0.0010874880172517772, 0.1054863376734224, 0.07993036926800563, 0.9955215157119455, 0.383136305929995, 0.614910120628387, 0.48813946721918416, 0.5060857711610659, 0.971820519666387, 0.643570599965388, 0.10801819660914129, 0.23782157572768925, 0.00998487531681138, 0.9925566712280276, 0.9961142051800163, 0.9887820150723117, 0.9317466186814986, 0.06705223042985296, 0.9987615198347568, 0.965947565468694, 0.029419722806153115, 0.9987605525307751, 0.9899006164646634, 0.9947518996268397, 0.9929628924918396, 0.9925047715243729, 0.9971342449938237, 0.9939325419614468, 0.9888791573829075, 0.18667606024552402, 0.8120882417787517, 0.9983904259661867, 0.9962025267145119, 0.9925468932533401, 0.9931686522752114, 0.9953023306862642, 0.6771959230609025, 0.2893438370636714, 0.0007726137171259583, 0.03206346926072727, 0.9922174012712431, 0.5146571113094836, 0.4837776846309145, 0.9982777266793104, 0.9919752907692099, 0.9940195632345067, 0.9957329152943382, 0.9938605952101683, 0.9954326403053941, 0.30341862219892984, 0.24844020518510668, 0.44760730078235295, 0.9885548580690874, 0.04773122482405364, 0.11591868885841598, 0.4278763368156237, 0.19603895909879174, 0.21223348180695278, 0.989526245941474, 0.9963890799147411, 0.9846477046111131, 0.5943564571557622, 0.04555286715427375, 0.3579153847835795, 0.9948027210744191, 0.9888665289744968, 0.9990498819854208, 0.9897169982906596, 0.9858811948256517, 0.998708189222537, 0.9975771744554701, 0.8742681254499183, 0.12170209700865339, 0.9962151532786605, 0.9976520278546616, 0.9879429082188337, 0.9910106511035628, 0.672987831087416, 0.002357815224029986, 0.01347322985159992, 0.22567660001429865, 0.08555500955765949, 0.9968386026234793, 0.05344915267757124, 0.9454970801239327, 0.8960662093577494, 0.047653156076376664, 0.05606253656044313, 0.10482017597538175, 0.42852954295817836, 0.4655248991847837, 0.9968259841365603, 0.9978559874061748, 0.9972137356818628, 0.9985364491666092, 0.0958048794244343, 0.8459216020290792, 0.058192593428174906, 0.9873778510307963, 0.9752495341887693, 0.6493167825342036, 0.3499164444776353, 0.9931666558949078, 0.9919417694024195, 0.004412298161582994, 0.9927670863561735, 0.9985142361671357, 0.9955707780259657, 0.004188937354947963, 0.9989369033154762, 0.9913771213272852, 0.9905927473750062, 0.2983776355122358, 0.48336287600864425, 0.056473859478470854, 0.1440750430789335, 0.016897690237652696, 0.14926831977786184, 0.7741124490805393, 0.07289848175197904, 0.9971013306331278, 0.9672128889277605, 0.9996388026466632, 0.9887427660796233, 0.9872415763226742, 0.9807774093640238, 0.018887047773172398, 0.12932044052443903, 0.8703140900889095, 0.7304943185670524, 0.2339021217086621, 0.03238644762119937, 0.9980261521040522, 0.23479312499705682, 0.1995741562474983, 0.564970957024168, 0.9938607866599037, 0.9904058355091162, 0.9889483535917493, 0.9921678007351119, 0.9902265633551536, 0.9982665190825287, 0.9951053435608961, 0.9986381021043721, 0.9946548356048595, 0.9917422302137772, 0.1517662946387939, 0.15280578980755274, 0.49168121482294186, 0.203741053076737, 0.9951488596576127, 0.09132527464540974, 0.7767454938262218, 0.13170065922548563, 0.2698603653378588, 0.0638379358863752, 0.0754448333202616, 0.19731725637606878, 0.391732788393666, 0.9872467977252489, 0.9964995265810508, 0.080617016033748, 0.9136595150491441, 0.9936226240993298, 0.998214415589756, 0.9985155429611356, 0.9958452394516246, 0.9969365437865108, 0.9945044274781489, 0.5756586991301573, 0.058462291719379555, 0.0873036889676068, 0.2782805085842467, 0.9976171066161775, 0.30614351018732167, 0.6927145527119906, 0.9967494578946313, 0.9953495587798766, 0.9881301425277531, 0.9956130779279337, 0.9924134669979248, 0.9978249427600667, 0.40277044836900266, 0.09415413078755906, 0.502155364200315, 0.3020565887847417, 0.05786860626935545, 0.044716650299047395, 0.4739088134634336, 0.12143639345917773, 0.9996291273832668, 0.12000783604144002, 0.34252236536827674, 0.5350349356847535, 0.9983498034547954, 0.9946917215690764, 0.4587524037879599, 0.4963978053066166, 0.044652987082735705, 0.22199127209242328, 0.7759694916383805, 0.9528782071968461, 0.045240508353559465, 0.9030951967350542, 0.09584418380895195, 0.7058978490535237, 0.19096753404346534, 0.10230403609471357, 0.9969194745869395, 0.9977783214048496, 0.9962474664092403, 0.9953455921414746, 0.9879136578470221, 0.9892198464808303, 0.9976637090491748, 0.9974648393539264, 0.9978660770020339, 0.9961271105735205, 0.9976088576301207, 0.83478555554778, 0.16065159400016982, 0.004404589157291814, 0.8973458359506612, 0.09829583362003709, 0.06519930357117229, 0.9337866358922133, 0.9974797817823668, 0.11378295100548502, 0.6272649863122892, 0.08679596903623536, 0.16483940337974112, 0.007293778910608014, 0.9989270685237098, 0.990163021840174, 0.9949371371096984, 0.5943097542731361, 0.40212003274202246, 0.5537041235142157, 0.4461123270019748, 0.9980706905652458, 0.8534062428309853, 0.14545010747380271, 0.9425921470260159, 0.05470400853275985, 0.24567979394506734, 0.09577347899553472, 0.0034700535867947364, 0.6502880421653336, 0.0041640643041536834, 0.9930622305045567, 0.9941164877090496, 0.9893766130432541, 0.995315912947186, 0.20538820352061354, 0.7925568324089558, 0.9949050774086544, 0.22930907996895225, 0.5993305499188525, 0.1702446199769494, 0.9839550470368901, 0.9860701668644068, 0.9949635285823117, 0.9978514491714192, 0.10776385976142627, 0.3062762330061589, 0.5841935555487846, 0.9884347019610659, 0.9917320259403964, 0.18259769973440562, 0.8151683023857393, 0.9981294907460747, 0.9919369754665984, 0.33221451236609945, 0.6644290247321989, 0.9948476728884047, 0.6870109282279204, 0.3114583071120747, 0.9896262330396076, 0.14744747835902652, 0.8509825893863816, 0.017655964526757592, 0.9799060312350464, 0.994713697231091, 0.997836723571273, 0.2149367139790642, 0.02470536942288094, 0.3491692211767173, 0.03046995562155316, 0.31952277786926014, 0.018117270910112688, 0.04282264033299363, 0.14557642989174963, 0.8534154476987351, 0.9905298776394914, 0.9984595668146188, 0.9915697175611969, 0.4513702675308147, 0.09435423671548104, 0.40036797741433844, 0.05355240462230005, 0.8721853012384613, 0.04385289224103995, 0.08283324089974213, 0.9912587771147997, 0.981203478516412, 0.9944380675392518, 0.9955356992231196, 0.6352985620328723, 0.3630277497330699, 0.9979808794949429, 0.9791531126028461, 0.08525283704592289, 0.7393746049255494, 0.17360577725715207, 0.98898967701083, 0.9712847105357676, 0.028097651060863756, 0.9933936186427025, 0.19798072768358357, 0.023260030848071295, 0.7783996369854557, 0.9911161777087154, 0.00832870737570349, 0.9957881215767627, 0.9944116255629444, 0.9646353681597521, 0.023040653698083252, 0.012288348638977735, 0.9794918602738795, 0.9921752853726029, 0.9933620107539549, 0.9939747719657918, 0.5661344105073556, 0.14964699386022456, 0.284870181083319, 0.8160647382126287, 0.0001055165164484909, 0.18370425513682268, 0.9952840693519387, 0.07437019512893558, 0.24360033302437065, 0.2519480079878226, 0.2519480079878226, 0.17226565606396305, 0.005312156794923971, 0.9530441762891436, 0.046249144868993335, 0.9835388863686958, 0.9895640730740517, 0.9867381733380266, 0.9907888280540581, 0.2649984897641764, 0.732426381431543, 0.9963363739217876, 0.9971947589504382, 0.5922478717698402, 0.23578612105574745, 0.09050672224375896, 0.08142675981800968, 0.9959333072434254, 0.9888619972926855, 0.866145604664811, 0.09781497940446106, 0.0009056942537450099, 0.009962636791195108, 0.025057541020278604, 0.9931351016481107, 0.12197266154887017, 0.8768384340715981, 0.12804294386223114, 0.8706920182631718, 0.044941746881849494, 0.9527650338952092, 0.9898001457412756, 0.9970734507494858, 0.9993668536179049, 0.6856597056266743, 0.20814669635095473, 0.10611400206127103, 0.8116384892109589, 0.18788711637625952, 0.9954615940261451, 0.9951392737175435, 0.9869142651913841, 0.9879705466073698, 0.9953163360825182, 0.9972954479640106, 0.999384723680078, 0.9958861663043199, 0.12947371114418044, 0.8693234891109258, 0.9927390833508655, 0.7304993637552742, 0.2693600032878411, 0.7750561448650096, 0.22479673256426788, 0.9985071029156681, 0.9955422038789862, 0.41246730374957485, 0.5805095386105128, 0.8864405194004165, 0.07186160359319914, 0.036704695989141715, 0.004864477781693481, 0.9962839368272862, 0.9966853878661496, 0.9920101710917172, 0.9979732905759248, 0.9933304720366739, 0.9961367875593011, 0.9953879916696405, 0.9935428136854755, 0.9957098302221841, 0.9832315303266588, 0.016605688067739127, 0.9970056185109676, 0.9990927451683852, 0.7835759348624046, 0.10391392422543286, 0.1120321995555448, 0.9940658095473752, 0.996330199025888, 0.9902834459922706, 0.9979221641817905, 0.9976282759254813, 0.5328775066443853, 0.2376943235032009, 0.22884988355889574, 0.9832656538997506, 0.7056427808629038, 0.0810441213664325, 0.21239149047754727, 0.9965258110691263, 0.9945132963916729, 0.9830643887790311, 0.9960162337416104, 0.9972300266870828, 0.05308286765950523, 0.02991731795722115, 0.5087108150702585, 0.004423572304958769, 0.11699184648640955, 0.20406637501559796, 0.08265095622422963, 0.9969197147838182, 0.2615854400637828, 0.7380446344656729, 0.13318741924353603, 0.8657182250829842, 0.9890102373659386, 0.9997459777211225, 0.47440001981882074, 0.4824863837930052, 0.020215909935461112, 0.021563637264491852, 0.9949458442881359, 0.9982894675981846, 0.8444628366972157, 0.1402618067801882, 0.014459980080431775, 0.9966860184119374, 0.9853168214301844, 0.9982781988840318, 0.9278010408690716, 0.017061655158657624, 0.0550091295632582, 0.8218492019243305, 0.1774447140518441, 0.7248538331054101, 0.24603913273751796, 0.012268797724108039, 0.016247867256251186, 0.9987182953342493, 0.7009510754781448, 0.2988181455553089, 0.9122992855092482, 0.06704879333671047, 0.020574539471553754, 0.9840755769513807, 0.014324244205988074, 0.9865214758729348, 0.9941351078350945, 0.998928390847849, 0.9992804754925162, 0.9968237729702877, 0.6473399929401338, 0.3522291138056611, 0.9883706468314358, 0.9950355667420276, 0.23600409126095465, 0.7574084789305056, 0.9914354519394316, 0.007543530612582632, 0.6638201054620203, 0.0005964241738203237, 0.0602388415558527, 0.07007984042388804, 0.08856898981231807, 0.11630271389496312, 0.9956070593803005, 0.6490949595759842, 0.26226944988272877, 0.057892253151371566, 0.02982328192646414, 0.9949841640942607, 0.9915318517299432, 0.008317043324263293, 0.9910174012830649, 0.9959458359947272, 0.576241701784469, 0.09931634357506108, 0.041036961407750934, 0.05241695910906002, 0.013449088192456188, 0.031381205782397774, 0.18139026639056294, 0.0044830293974853965], \"Term\": [\"1st\", \"2nd\", \"2nd\", \"2nd\", \"2nd\", \"3rd\", \"absolutely\", \"absolutely\", \"abuse\", \"abuse\", \"accept\", \"accept\", \"act\", \"act\", \"adam\", \"address\", \"address\", \"address\", \"advanced\", \"advice\", \"advice\", \"age\", \"age\", \"age\", \"age\", \"age\", \"age\", \"agency\", \"agree\", \"agree\", \"air\", \"allow\", \"allow\", \"allow\", \"allow\", \"allow\", \"allow\", \"alone\", \"alone\", \"alone\", \"alone\", \"also\", \"also\", \"also\", \"also\", \"also\", \"also\", \"also\", \"also\", \"also\", \"american\", \"amount\", \"amount\", \"amp\", \"animation\", \"announce\", \"announce\", \"annual\", \"anyway\", \"appear\", \"appear\", \"appear\", \"appear\", \"apple\", \"application\", \"appreciate\", \"appreciate\", \"approach\", \"approach\", \"approach\", \"arab\", \"arab\", \"archive\", \"archive\", \"argue\", \"argument\", \"argument\", \"arm\", \"arm\", \"armenian\", \"as\", \"associate\", \"atheism\", \"atheist\", \"attack\", \"attack\", \"attack\", \"attend\", \"attitude\", \"aunt\", \"author\", \"author\", \"authority\", \"authority\", \"available\", \"available\", \"available\", \"available\", \"average\", \"average\", \"award\", \"aware\", \"back\", \"back\", \"background\", \"bad\", \"ban\", \"band\", \"bank\", \"baseball\", \"bat\", \"battery\", \"bear\", \"bear\", \"beat\", \"behavior\", \"belief\", \"believe\", \"believer\", \"bend\", \"benefit\", \"benefit\", \"bible\", \"bike\", \"bio\", \"birth\", \"black\", \"black\", \"blank\", \"board\", \"bomb\", \"bombing\", \"book\", \"book\", \"bounce\", \"bounce\", \"box\", \"boy\", \"brain\", \"brave\", \"brown\", \"build\", \"build\", \"build\", \"build\", \"build\", \"building\", \"building\", \"bunch\", \"bunch\", \"busmastering\", \"bust\", \"buy\", \"buy\", \"buyer\", \"byte\", \"c\", \"c\", \"c\", \"cable\", \"cache\", \"cal\", \"camera\", \"camp\", \"can_anyone\", \"can_not\", \"can_not\", \"canadian\", \"cap\", \"capable\", \"capable\", \"capture\", \"car\", \"card\", \"carry\", \"carry\", \"carry\", \"carry\", \"carry\", \"carry\", \"case\", \"case\", \"case\", \"case\", \"case\", \"case\", \"case\", \"case_western_reserve_university\", \"catcher\", \"cause\", \"cause\", \"cause\", \"cause\", \"center\", \"center\", \"center\", \"center\", \"center\", \"central\", \"central\", \"chance\", \"change\", \"change\", \"change\", \"change\", \"change\", \"channel\", \"character\", \"cheap\", \"child\", \"child\", \"child\", \"child\", \"chip\", \"chip\", \"choice\", \"choice\", \"christian\", \"christianity\", \"chronic\", \"church\", \"circle\", \"circuit\", \"citizen\", \"citizen\", \"civilian\", \"civilian\", \"claim\", \"classic\", \"clearly\", \"clearly\", \"client\", \"clipper\", \"clipper_chip\", \"club\", \"coach\", \"code\", \"code\", \"collection\", \"color\", \"come\", \"come\", \"come\", \"comet\", \"comic_strip\", \"commercial\", \"communication\", \"compare\", \"compare\", \"compatible\", \"compile\", \"computer\", \"computer\", \"concerned\", \"conclusion\", \"conference\", \"configuration\", \"confirm\", \"connect\", \"connection\", \"connection\", \"connector\", \"consequence\", \"consistent\", \"consulting\", \"contact\", \"contact\", \"contact\", \"contrary\", \"controller\", \"conversation\", \"cooler\", \"cop\", \"cop\", \"copy\", \"copy\", \"copy\", \"copyright\", \"correct\", \"correct\", \"cost\", \"cost\", \"cost\", \"country\", \"couple\", \"cpsr\", \"cpu\", \"crack\", \"crime\", \"crime\", \"criminal\", \"criminal\", \"criminal\", \"crt\", \"crypto\", \"current\", \"current\", \"current\", \"current\", \"cycle\", \"dale\", \"database\", \"database\", \"date\", \"date\", \"date\", \"dave\", \"dealer\", \"death\", \"death\", \"death\", \"death\", \"default\", \"defense\", \"defense\", \"defense\", \"denver\", \"deny\", \"department\", \"dept\", \"depth\", \"description\", \"desire\", \"develop\", \"develop\", \"device\", \"device\", \"devil\", \"diagnose\", \"diagnosis\", \"die\", \"die\", \"difference\", \"difference\", \"difference\", \"difference\", \"difference\", \"digital\", \"direct\", \"directory\", \"disappear\", \"discuss\", \"discuss\", \"discuss\", \"discuss\", \"disease\", \"disk\", \"display\", \"distance\", \"distribution_na\", \"distribution_world\", \"distribution_world_nntppostinghost\", \"division\", \"division\", \"division\", \"division\", \"dn\", \"doctor\", \"doctrine\", \"documentation\", \"does_anyone\", \"dog\", \"draft\", \"draft\", \"drain\", \"draw\", \"dream\", \"drive\", \"drive\", \"driver\", \"driver\", \"drug\", \"drum\", \"duty\", \"earth\", \"earth\", \"economic\", \"ed\", \"edge\", \"edition\", \"education\", \"eeg\", \"effect\", \"effect\", \"effect\", \"egg\", \"electrical\", \"element\", \"email\", \"email_address\", \"employer\", \"enable\", \"encrypt\", \"encryption\", \"energy\", \"engine\", \"engineering\", \"engineering\", \"engineering\", \"enough\", \"enough\", \"enough\", \"ensure\", \"entry\", \"environment\", \"environment\", \"environment\", \"equivalent\", \"era\", \"error\", \"error\", \"essentially\", \"ethernet\", \"ethernet_card\", \"even\", \"even\", \"even\", \"even\", \"evidence\", \"evil\", \"examine\", \"examine\", \"excuse\", \"exist\", \"exist\", \"exist\", \"existence\", \"expansion\", \"expert\", \"expert\", \"explain\", \"external\", \"eye\", \"fact\", \"fact\", \"fact\", \"fact\", \"faith\", \"family\", \"fan\", \"father\", \"fax\", \"feeling\", \"figure\", \"file\", \"final\", \"final\", \"final\", \"final\", \"final\", \"final\", \"fire\", \"fire\", \"firearm\", \"flight\", \"floppy\", \"focus\", \"folk\", \"follow\", \"follow\", \"follow\", \"follow\", \"follow\", \"follow\", \"follow\", \"follow\", \"font\", \"food\", \"force\", \"force\", \"force\", \"force\", \"format\", \"former\", \"frame\", \"franchise\", \"francis\", \"frank\", \"fred\", \"freedom\", \"ftp_site\", \"fuel\", \"function\", \"function\", \"funding\", \"g\", \"game\", \"gang\", \"gateway\", \"generally\", \"generate\", \"german\", \"get\", \"get\", \"get\", \"gift\", \"girl\", \"give\", \"give\", \"give\", \"give\", \"give\", \"glad\", \"glock\", \"go\", \"god\", \"good\", \"good\", \"good\", \"government\", \"government\", \"government\", \"graphic\", \"greatly_appreciate\", \"greece\", \"greek\", \"greeting\", \"ground\", \"group\", \"group\", \"group\", \"group\", \"group\", \"guarantee\", \"guess\", \"guide\", \"guilty\", \"gun\", \"gun_control\", \"guy\", \"hab\", \"handbook\", \"happy\", \"hard_drive\", \"has_anyone\", \"hate\", \"head\", \"head\", \"head\", \"headache\", \"health\", \"hear\", \"heart\", \"heart\", \"heart\", \"heat\", \"heat\", \"heavy\", \"helmet\", \"help\", \"help\", \"help\", \"help\", \"help\", \"high\", \"high\", \"high\", \"high\", \"high\", \"high\", \"history\", \"history\", \"history\", \"hit\", \"hit\", \"hitter\", \"hockey\", \"hole\", \"holy\", \"home\", \"home\", \"homosexual\", \"hook\", \"horse\", \"house\", \"house\", \"house\", \"human\", \"husband\", \"ice\", \"ide\", \"identify\", \"ignorant\", \"ill\", \"image\", \"image\", \"immediate\", \"implementation\", \"impressive\", \"improve\", \"in_article\", \"include\", \"include\", \"include\", \"include\", \"include\", \"include\", \"include\", \"increase\", \"increase\", \"increase\", \"increase\", \"indeed\", \"influenza\", \"info\", \"information\", \"information\", \"information\", \"input\", \"inreplyto_message_thu_15\", \"insist\", \"inspection\", \"instal\", \"instal\", \"install\", \"install\", \"interested\", \"interested\", \"interested\", \"interface\", \"internal\", \"internet\", \"interpretation\", \"invasion\", \"investigation\", \"involve\", \"involve\", \"ip\", \"islamic\", \"israeli\", \"issue\", \"issue\", \"issue\", \"issue\", \"item\", \"item\", \"jewish\", \"jewish\", \"joke\", \"judge\", \"judge\", \"jumper\", \"junk\", \"justice\", \"key\", \"keyboard\", \"kill\", \"kill\", \"king\", \"king\", \"king\", \"knife\", \"know\", \"know\", \"know\", \"koresh\", \"l\", \"laboratory\", \"land\", \"last_year\", \"last_year\", \"laugh\", \"launch\", \"law\", \"lead\", \"lead\", \"lead\", \"lead\", \"lead\", \"leafs\", \"league\", \"lebanese\", \"left\", \"lemon\", \"let\", \"let\", \"let\", \"level\", \"level\", \"level\", \"liar\", \"library\", \"license\", \"lie\", \"lie\", \"lie\", \"lie\", \"life\", \"light\", \"light\", \"limit\", \"limit\", \"line\", \"line\", \"line\", \"list\", \"list\", \"list\", \"list\", \"list\", \"list\", \"little\", \"little\", \"live\", \"live\", \"live\", \"live\", \"live\", \"load\", \"load\", \"localtalk\", \"locate\", \"logic\", \"logo\", \"look\", \"look\", \"look\", \"look\", \"lose\", \"lose\", \"lot\", \"love\", \"low\", \"low\", \"low\", \"low\", \"low\", \"low\", \"luck\", \"lunar\", \"m\", \"m\", \"m\", \"mac\", \"machine\", \"machine\", \"machine\", \"magazine\", \"magic\", \"mail\", \"make\", \"make\", \"make\", \"man\", \"man\", \"man\", \"man\", \"many\", \"many\", \"many\", \"many\", \"many\", \"map\", \"market\", \"massacre\", \"master\", \"match\", \"material\", \"matter\", \"matter\", \"matter\", \"maxtor\", \"maybe\", \"mean\", \"mean\", \"mean\", \"measure\", \"mechanic\", \"medical\", \"meeting\", \"member\", \"memorial\", \"message\", \"message\", \"message\", \"metal\", \"method\", \"method\", \"migraine\", \"mile\", \"military\", \"military\", \"military\", \"militia\", \"mine\", \"minor\", \"minority\", \"miracle\", \"miracle\", \"mission\", \"mistake\", \"mix\", \"mode\", \"mode\", \"model\", \"model\", \"modem\", \"monitor\", \"moon\", \"moral\", \"mother\", \"motherboard\", \"motif\", \"motorcycle\", \"motto\", \"mount\", \"mouse\", \"movement\", \"much\", \"much\", \"much\", \"multiple\", \"murder\", \"murder\", \"n\", \"name\", \"name\", \"name\", \"name\", \"name\", \"nation\", \"natural\", \"natural\", \"nature\", \"need\", \"need\", \"need\", \"need\", \"need\", \"need\", \"negative\", \"network\", \"neurologist\", \"new\", \"new\", \"new\", \"new\", \"new\", \"next\", \"next\", \"next\", \"next\", \"next\", \"nhl\", \"nntppostinghost\", \"nntppostinghost\", \"nntppostinghost\", \"normal\", \"normal\", \"note\", \"note\", \"note\", \"note\", \"note\", \"notice\", \"nra\", \"number\", \"number\", \"number\", \"number\", \"number\", \"number\", \"o\", \"object\", \"object\", \"object\", \"object\", \"observation\", \"occupy\", \"offense\", \"office\", \"official\", \"official\", \"old\", \"old\", \"old\", \"operate\", \"optional\", \"orbit\", \"order\", \"order\", \"order\", \"order\", \"order\", \"order\", \"ordinary\", \"oreilly_associate\", \"organization\", \"organization\", \"organization\", \"origin\", \"original\", \"original\", \"original\", \"original\", \"originator\", \"outlet\", \"output\", \"overall\", \"owner\", \"p\", \"p_p_p_p\", \"pack\", \"package\", \"page\", \"page\", \"pain\", \"paragraph\", \"part\", \"part\", \"part\", \"part\", \"part\", \"part\", \"part\", \"party\", \"pasadena\", \"past\", \"patent\", \"pathology\", \"patient\", \"patrol\", \"pay\", \"pay\", \"pay\", \"pay\", \"pc\", \"pc\", \"peace\", \"peace\", \"pem\", \"pen\", \"people\", \"people\", \"people\", \"people\", \"people\", \"percent\", \"perfect\", \"perfect\", \"period\", \"period\", \"peripheral\", \"person\", \"person\", \"person\", \"person\", \"perspective\", \"pgp\", \"philosophy\", \"phone\", \"phone\", \"physical\", \"piece\", \"piece\", \"pin\", \"pit\", \"pitch\", \"pitcher\", \"plain\", \"plane\", \"planet\", \"planetary\", \"play\", \"play\", \"player\", \"playoff\", \"please_respond\", \"plenty\", \"plug\", \"point\", \"point\", \"point\", \"point\", \"pointer\", \"police\", \"police\", \"political\", \"pool\", \"poor\", \"pop\", \"popular\", \"possess\", \"post\", \"post\", \"post\", \"pot\", \"power\", \"power\", \"power\", \"power\", \"power\", \"preach\", \"prediction\", \"preference\", \"press\", \"press\", \"press\", \"pressure\", \"presumably\", \"pretty\", \"prevalence\", \"previously\", \"price\", \"primarily\", \"print\", \"print\", \"printer\", \"private\", \"prize\", \"probe\", \"problem\", \"problem\", \"problem\", \"problem\", \"problem\", \"processor\", \"produce\", \"produce\", \"program\", \"program\", \"program\", \"project\", \"project\", \"project\", \"promise\", \"proof\", \"propose\", \"prove\", \"provide\", \"provide\", \"provide\", \"pt\", \"pts_pt\", \"public\", \"public\", \"public_key\", \"publication\", \"publish\", \"publish\", \"pull\", \"put\", \"put\", \"q\", \"qualified\", \"que\", \"question\", \"question\", \"question\", \"question\", \"question\", \"r\", \"r\", \"r\", \"random\", \"ray\", \"re\", \"re_ide_vs\", \"realistic\", \"really\", \"really\", \"reason\", \"reason\", \"recent\", \"recent\", \"recent\", \"recommend\", \"reference\", \"reference\", \"reference\", \"refuse\", \"registration\", \"regularly\", \"relation\", \"relevant\", \"religion\", \"remark\", \"remember\", \"render\", \"repair\", \"report\", \"report\", \"report\", \"report\", \"representative\", \"require\", \"require\", \"require\", \"research\", \"research\", \"research\", \"research\", \"research\", \"researcher\", \"resolution\", \"resource\", \"resource\", \"responsibility\", \"revelation\", \"review\", \"rich\", \"ride\", \"rider\", \"right\", \"right\", \"right\", \"right\", \"ripem\", \"risk\", \"risk\", \"road\", \"rocket\", \"root\", \"route\", \"routine\", \"rsa\", \"rule\", \"rule\", \"rule\", \"run\", \"run\", \"run\", \"run\", \"run\", \"s\", \"safety\", \"safety\", \"safety\", \"sale\", \"satellite\", \"say\", \"say\", \"say\", \"scan\", \"scan\", \"school\", \"school\", \"science\", \"science\", \"scientific\", \"scientific\", \"scientific\", \"score\", \"screen\", \"scripture\", \"scsi\", \"scsi2\", \"seal\", \"season\", \"secret\", \"section\", \"secure\", \"security\", \"see\", \"see\", \"see\", \"select\", \"select\", \"sell\", \"sell\", \"seller\", \"send\", \"send\", \"send\", \"send\", \"send\", \"sense\", \"sensitive\", \"serial_number\", \"series\", \"series\", \"serious\", \"serious\", \"server\", \"service\", \"service\", \"session\", \"session\", \"set\", \"set\", \"set\", \"set\", \"set\", \"setup\", \"sex\", \"shadow\", \"shell\", \"shoot\", \"shoot\", \"shuttle\", \"side\", \"side\", \"side\", \"sig\", \"sigh\", \"signal\", \"sin\", \"size\", \"size\", \"size\", \"sky\", \"slaughter\", \"slave\", \"slave\", \"slow\", \"snip\", \"society\", \"society\", \"socket\", \"software\", \"software\", \"solar\", \"soldier\", \"soldier\", \"solution\", \"solution\", \"son\", \"soon\", \"source\", \"source\", \"source\", \"source\", \"source\", \"source\", \"source\", \"space\", \"space\", \"spacecraft\", \"speak\", \"spec\", \"special\", \"special\", \"special\", \"special\", \"specific\", \"specific\", \"specific\", \"specification\", \"specifie\", \"specify\", \"speech\", \"speed\", \"speed\", \"sphere\", \"sponsor\", \"standard\", \"standard\", \"standard\", \"standing\", \"start\", \"start\", \"stat\", \"state\", \"state\", \"state\", \"statement\", \"statement\", \"statistic\", \"status\", \"still\", \"still\", \"still\", \"stl\", \"storage\", \"straightforward\", \"string\", \"study\", \"study\", \"study\", \"subject\", \"subject\", \"subject\", \"suggestion\", \"support\", \"support\", \"support\", \"support\", \"support\", \"support\", \"sure\", \"sure\", \"surgery\", \"surprise\", \"sustain\", \"swiss\", \"switch\", \"switch\", \"syndrome\", \"syrian\", \"system\", \"system\", \"system\", \"system\", \"t\", \"tail\", \"take\", \"take\", \"take\", \"take\", \"take\", \"talent\", \"talk\", \"talk\", \"tank\", \"tank\", \"tape\", \"tape\", \"task\", \"tax\", \"team\", \"technology\", \"technology\", \"technology\", \"tell\", \"tell\", \"telnet\", \"temporary\", \"terribly\", \"territory\", \"terrorism\", \"terrorist\", \"thank\", \"thanks_advance\", \"theory\", \"theory\", \"thier\", \"thing\", \"thing\", \"think\", \"think\", \"thought\", \"thread\", \"tie\", \"tie\", \"time\", \"time\", \"time\", \"time\", \"tomorrow\", \"tool\", \"tor\", \"trade\", \"translation\", \"treatment\", \"trial\", \"trick\", \"troop\", \"true\", \"true\", \"trust\", \"truth\", \"try\", \"try\", \"try\", \"tumor\", \"turk\", \"turkey\", \"turkish\", \"tv\", \"type\", \"type\", \"type\", \"univ\", \"university\", \"university\", \"university\", \"unix\", \"unlikely\", \"up\", \"update\", \"upgrade\", \"use\", \"use\", \"use\", \"use\", \"use\", \"use\", \"use\", \"usenet\", \"user\", \"user\", \"value\", \"value\", \"vat\", \"ve\", \"version\", \"version\", \"version\", \"version\", \"vertical\", \"video\", \"view\", \"view\", \"view\", \"village\", \"volume_6_number\", \"vote\", \"want\", \"want\", \"want\", \"war\", \"war\", \"way\", \"way\", \"way\", \"way\", \"weapon\", \"week\", \"week\", \"well\", \"well\", \"well\", \"whole\", \"whole\", \"wholly\", \"wide_range\", \"win\", \"window\", \"wing\", \"wire\", \"wire\", \"wise\", \"withdraw\", \"witness\", \"witness\", \"word\", \"word\", \"work\", \"work\", \"work\", \"work\", \"work\", \"work\", \"workstation\", \"world\", \"world\", \"world\", \"world\", \"worry\", \"write\", \"write\", \"writer\", \"x\", \"year\", \"year\", \"year\", \"year\", \"year\", \"year\", \"year\", \"year\"]}, \"R\": 30, \"lambda.step\": 0.01, \"plot.opts\": {\"xlab\": \"PC1\", \"ylab\": \"PC2\"}, \"topic.order\": [11, 7, 16, 4, 3, 1, 18, 14, 2, 20, 15, 19, 17, 13, 8, 10, 12, 9, 6, 5]};\n",
       "\n",
       "function LDAvis_load_lib(url, callback){\n",
       "  var s = document.createElement('script');\n",
       "  s.src = url;\n",
       "  s.async = true;\n",
       "  s.onreadystatechange = s.onload = callback;\n",
       "  s.onerror = function(){console.warn(\"failed to load library \" + url);};\n",
       "  document.getElementsByTagName(\"head\")[0].appendChild(s);\n",
       "}\n",
       "\n",
       "if(typeof(LDAvis) !== \"undefined\"){\n",
       "   // already loaded: just create the visualization\n",
       "   !function(LDAvis){\n",
       "       new LDAvis(\"#\" + \"ldavis_el10921472053225919522237735184\", ldavis_el10921472053225919522237735184_data);\n",
       "   }(LDAvis);\n",
       "}else if(typeof define === \"function\" && define.amd){\n",
       "   // require.js is available: use it to load d3/LDAvis\n",
       "   require.config({paths: {d3: \"https://cdnjs.cloudflare.com/ajax/libs/d3/3.5.5/d3.min\"}});\n",
       "   require([\"d3\"], function(d3){\n",
       "      window.d3 = d3;\n",
       "      LDAvis_load_lib(\"https://cdn.rawgit.com/bmabey/pyLDAvis/files/ldavis.v1.0.0.js\", function(){\n",
       "        new LDAvis(\"#\" + \"ldavis_el10921472053225919522237735184\", ldavis_el10921472053225919522237735184_data);\n",
       "      });\n",
       "    });\n",
       "}else{\n",
       "    // require.js not available: dynamically load d3 & LDAvis\n",
       "    LDAvis_load_lib(\"https://cdnjs.cloudflare.com/ajax/libs/d3/3.5.5/d3.min.js\", function(){\n",
       "         LDAvis_load_lib(\"https://cdn.rawgit.com/bmabey/pyLDAvis/files/ldavis.v1.0.0.js\", function(){\n",
       "                 new LDAvis(\"#\" + \"ldavis_el10921472053225919522237735184\", ldavis_el10921472053225919522237735184_data);\n",
       "            })\n",
       "         });\n",
       "}\n",
       "</script>"
      ],
      "text/plain": [
       "PreparedData(topic_coordinates=              x         y  topics  cluster       Freq\n",
       "topic                                                \n",
       "10    -0.326340 -0.037930       1        1  24.395739\n",
       "6     -0.281812 -0.165426       2        1  12.241646\n",
       "15    -0.234290  0.024454       3        1  11.142782\n",
       "3     -0.076410  0.046396       4        1   6.558812\n",
       "2     -0.154982  0.213429       5        1   5.729196\n",
       "0     -0.101846  0.197650       6        1   5.253041\n",
       "17    -0.053743 -0.224539       7        1   5.044866\n",
       "13     0.023646 -0.204783       8        1   3.098838\n",
       "1      0.015261  0.177077       9        1   2.854626\n",
       "19     0.117985  0.007106      10        1   2.800442\n",
       "14     0.056543  0.074554      11        1   2.675722\n",
       "18     0.099644 -0.051174      12        1   2.641653\n",
       "16     0.098550  0.021873      13        1   2.554459\n",
       "12     0.093919  0.023770      14        1   2.157701\n",
       "7      0.074200 -0.028985      15        1   2.156958\n",
       "9      0.114051 -0.046405      16        1   2.097403\n",
       "11     0.122609 -0.014611      17        1   2.090358\n",
       "8      0.130658 -0.023716      18        1   1.725716\n",
       "5      0.143092 -0.005317      19        1   1.528761\n",
       "4      0.139264  0.016577      20        1   1.251281, topic_info=              Term          Freq         Total Category  logprob  loglift\n",
       "16            line  12822.000000  12822.000000  Default  30.0000  30.0000\n",
       "33         subject   9477.000000   9477.000000  Default  29.0000  29.0000\n",
       "202          write   9979.000000   9979.000000  Default  28.0000  28.0000\n",
       "22    organization   8361.000000   8361.000000  Default  27.0000  27.0000\n",
       "169            use   8590.000000   8590.000000  Default  26.0000  26.0000\n",
       "...            ...           ...           ...      ...      ...      ...\n",
       "3319       sustain     39.593520     40.537603  Topic20  -5.9531   4.3574\n",
       "5646          junk     38.752142     39.696225  Topic20  -5.9746   4.3569\n",
       "6486      memorial     36.107731     37.051814  Topic20  -6.0453   4.3552\n",
       "3316    peripheral     35.070798     36.014881  Topic20  -6.0744   4.3544\n",
       "126              m    324.603491   4308.906709  Topic20  -3.8492   1.7952\n",
       "\n",
       "[969 rows x 6 columns], token_table=      Topic      Freq  Term\n",
       "term                       \n",
       "2276     19  0.992334   1st\n",
       "652       4  0.048354   2nd\n",
       "652       6  0.103616   2nd\n",
       "652      17  0.013815   2nd\n",
       "652      19  0.822017   2nd\n",
       "...     ...       ...   ...\n",
       "38        7  0.052417  year\n",
       "38        8  0.013449  year\n",
       "38       14  0.031381  year\n",
       "38       15  0.181390  year\n",
       "38       16  0.004483  year\n",
       "\n",
       "[1451 rows x 3 columns], R=30, lambda_step=0.01, plot_opts={'xlab': 'PC1', 'ylab': 'PC2'}, topic_order=[11, 7, 16, 4, 3, 1, 18, 14, 2, 20, 15, 19, 17, 13, 8, 10, 12, 9, 6, 5])"
      ]
     },
     "execution_count": 35,
     "metadata": {},
     "output_type": "execute_result"
    }
   ],
   "source": [
    "pyLDAvis.enable_notebook()\n",
    "vis = pyLDAvis.gensim.prepare(lda_model, corpus, id2word)\n",
    "vis"
   ]
  },
  {
   "cell_type": "markdown",
   "metadata": {},
   "source": [
    "A good topic model will have fairly big, non-overlapping bubbles scattered throughout the chart instead of being clustered in one quadrant. A model with too many topics, will typically have many overlaps, small sized bubbles clustered in one region of the chart."
   ]
  },
  {
   "cell_type": "markdown",
   "metadata": {},
   "source": [
    "### 3.3. Evaluating LDA Model\n",
    "\n",
    "We can mathematically express the performance of the model using **perplexity** and **coherence score**."
   ]
  },
  {
   "cell_type": "markdown",
   "metadata": {},
   "source": [
    "#### 3.3.1. Perplexity\n",
    "\n",
    "A measure of how good the model is. lower the better."
   ]
  },
  {
   "cell_type": "code",
   "execution_count": 36,
   "metadata": {},
   "outputs": [
    {
     "name": "stdout",
     "output_type": "stream",
     "text": [
      "\n",
      "Perplexity:  -9.113644761131619\n"
     ]
    }
   ],
   "source": [
    "print('\\nPerplexity: ', lda_model.log_perplexity(corpus)) "
   ]
  },
  {
   "cell_type": "markdown",
   "metadata": {},
   "source": [
    "#### 3.3.2. Coherence Score\n",
    "\n",
    "The higher the better"
   ]
  },
  {
   "cell_type": "code",
   "execution_count": 37,
   "metadata": {},
   "outputs": [
    {
     "name": "stdout",
     "output_type": "stream",
     "text": [
      "\n",
      "Coherence Score:  0.46734341235307786\n"
     ]
    }
   ],
   "source": [
    "coherence_model_lda = CoherenceModel(model=lda_model, \n",
    "                                     texts=data_tokens, \n",
    "                                     dictionary=id2word, \n",
    "                                     coherence='c_v')\n",
    "coherence_lda = coherence_model_lda.get_coherence()\n",
    "print('\\nCoherence Score: ', coherence_lda)"
   ]
  },
  {
   "cell_type": "markdown",
   "metadata": {},
   "source": [
    "### 3.4. Tuning Hyperparameters\n",
    "\n",
    "There are many hyperparameters in LDA. But I'll be focusing on finding the optimal **number of topics**."
   ]
  },
  {
   "cell_type": "markdown",
   "metadata": {},
   "source": [
    "#### 3.4.1. Varying Number of Topics\n",
    "\n",
    "To find it's optimal value we'll need to try out different values and see what evaluation measurement we get. I attempt to find the optimal number using the training dataset. Ideally, it should be done using a separate validation dataset."
   ]
  },
  {
   "cell_type": "code",
   "execution_count": 38,
   "metadata": {},
   "outputs": [],
   "source": [
    "def compute_coherence_values(start: int, end: int, step: int):\n",
    "    coherence_values = []\n",
    "    model_list = []\n",
    "    \n",
    "    for num_topics in range(start, end, step):\n",
    "        model = gensim.models.ldamodel.LdaModel(corpus=corpus,\n",
    "                                           id2word=id2word,\n",
    "                                           num_topics=num_topics, \n",
    "                                           random_state=100,\n",
    "                                           update_every=1,\n",
    "                                           chunksize=100,\n",
    "                                           passes=10,\n",
    "                                           alpha='auto',\n",
    "                                           per_word_topics=True)\n",
    "        model_list.append(model)\n",
    "        coherencemodel = CoherenceModel(model=model, \n",
    "                                        texts=data_tokens, \n",
    "                                        dictionary=id2word, \n",
    "                                        coherence='c_v')\n",
    "        coherence_score = coherencemodel.get_coherence()\n",
    "        coherence_values.append(coherence_score)\n",
    "        \n",
    "        print(f\"Topic = {num_topics} \\t\\t Coherence Score = {coherence_score}\")\n",
    "\n",
    "    return model_list, coherence_values"
   ]
  },
  {
   "cell_type": "code",
   "execution_count": 39,
   "metadata": {},
   "outputs": [
    {
     "name": "stdout",
     "output_type": "stream",
     "text": [
      "Topic = 5 \t\t Coherence Score = 0.4307697121692201\n",
      "Topic = 10 \t\t Coherence Score = 0.4625249982026854\n",
      "Topic = 15 \t\t Coherence Score = 0.4783734442683365\n",
      "Topic = 20 \t\t Coherence Score = 0.46734341235307786\n",
      "Topic = 25 \t\t Coherence Score = 0.46416950570519455\n"
     ]
    }
   ],
   "source": [
    "start, end, step = 5, 30, 5\n",
    "\n",
    "warnings.filterwarnings(\"ignore\")\n",
    "model_list, coherence_values = compute_coherence_values(start, end, step)"
   ]
  },
  {
   "cell_type": "markdown",
   "metadata": {},
   "source": [
    "#### 3.4.2. Visualizing Varying no of Topics"
   ]
  },
  {
   "cell_type": "code",
   "execution_count": 41,
   "metadata": {},
   "outputs": [
    {
     "data": {
      "image/png": "[encoded data removed]",
      "text/plain": [
       "<Figure size 432x288 with 1 Axes>"
      ]
     },
     "metadata": {},
     "output_type": "display_data"
    }
   ],
   "source": [
    "x = range(start, end, step)\n",
    "plt.plot(x, coherence_values)\n",
    "plt.xlabel(\"Num Topics\")\n",
    "plt.ylabel(\"Coherence score\")\n",
    "plt.legend((\"coherence_values\"), loc='best')\n",
    "plt.show()"
   ]
  },
  {
   "cell_type": "markdown",
   "metadata": {},
   "source": [
    "It looks like the curve flattens out just after 20 topics. So the optimal value for the number of topics is 20."
   ]
  }
 ],
 "metadata": {
  "kernelspec": {
   "display_name": "Python 3 (3.6.5)",
   "language": "python",
   "name": "python3"
  },
  "language_info": {
   "codemirror_mode": {
    "name": "ipython",
    "version": 3
   },
   "file_extension": ".py",
   "mimetype": "text/x-python",
   "name": "python",
   "nbconvert_exporter": "python",
   "pygments_lexer": "ipython3",
   "version": "3.6.5"
  }
 },
 "nbformat": 4,
 "nbformat_minor": 2
}
